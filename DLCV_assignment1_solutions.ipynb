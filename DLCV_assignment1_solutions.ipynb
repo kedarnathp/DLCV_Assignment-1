{
 "cells": [
  {
   "cell_type": "markdown",
   "metadata": {
    "id": "KE1Rct79pdT1"
   },
   "source": [
    "# DLCV Assignment 1\n",
    "\n",
    "**Due Date: 17/02/2023 11:59PM IST**\n",
    "\n",
    "**Name: Kedarnath P**\n",
    "\n",
    "**Sr. No.: 20902**\n",
    "\n",
    "\n",
    "In this assignment, we will cover the following topics:\n",
    "\n",
    "1) Training a simple Linear Model \n",
    "\n",
    "2) Implementing Modules with Backprop functionality\n",
    "\n",
    "3) Implementing Convolution Module on Numpy\n",
    "\n",
    "\n",
    "It is crucial to get down to the nitty gritty of the code to implement all of these. No external packages (like caffe,pytorch etc), which directly give functions for these steps, are to be used. "
   ]
  },
  {
   "cell_type": "markdown",
   "metadata": {
    "id": "Emb3Bo_NpdUl"
   },
   "source": [
    "# Training a simple Linear Model\n",
    "\n",
    "In this section, you will write the code to train a Linear Model. The goal is to classify an input $X_i$ of size $n$ into one of $m$ classes. For this, you need to consider the following:\n",
    "\n",
    "1)  **Weight Matrix** $W_{n\\times m}$: The Weights are multipled with the input $X_i$ (vector of size $n$), to find $m$ scores $S_m$ for the $m$ classes.\n",
    "\n",
    "2)  **The Loss function**:   \n",
    "  * The Cross Entropy Loss: By interpreting the scores as unnormalized log probabilities for each class, this loss tries to measure dissatisfaction with the scores in terms of the log probability of the right class:\n",
    "\n",
    "$$\n",
    "L_i = -\\log\\left(\\frac{e^{f_{y_i}}}{ \\sum_j e^{f_j} }\\right) \\hspace{0.5in} \\text{or equivalently} \\hspace{0.5in} L_i = -f_{y_i} + \\log\\sum_j e^{f_j}\n",
    "$$\n",
    "\n",
    "where $f_{ y_i }$ is the $y_i$-th element of the output of $W^T  X_i$\n",
    "\n",
    "3) **A Regularization term**: In addition to the loss, you need a Regularization term to lead to a more distributed (in case of $L_2$) or sparse (in case of $L_1$) learning of the weights. For example, with $L_2$ regularization, the loss has the following additional term:\n",
    "\n",
    "$$\n",
    "R(W) = \\sum_k\\sum_l W_{k,l}^2  \n",
    "$$\n",
    "\n",
    "Thus the total loss has the form:\n",
    "$$\n",
    "L =  \\underbrace{ \\frac{1}{N} \\sum_i L_i }_\\text{data loss} + \\underbrace{ \\lambda R(W) }_\\text{regularization loss} \\\\\\\\\n",
    "$$\n",
    "\n",
    "4) **An Optimization Procedure**: This refers to the process which tweaks the weight Matrix $W_{n\\times m}$ to reduce the loss function $L$. In our case, this refers to Mini-batch Gradient Descent algorithm. We adjust the weights $W_{n\\times m}$, based on the gradient of the loss $L$ w.r.t. $W_{n\\times m}$. This leads to:\n",
    "$$\n",
    "W_{t+1} = W_{t} - \\alpha \\frac{\\partial L}{\\partial W},\n",
    "$$\n",
    "where $\\alpha$ is the learning rate. Additionally, with \"mini-batch\" gradient descent, instead of finding loss over the whole dataset, we use a small sample $B$ of the training data to make each learning step. Hence,\n",
    "$$\n",
    "W_{t+1} = W_{t} - \\alpha \\frac{\\partial \\sum_{i \\in B}{L_{x_i}}}{\\partial W},\n",
    "$$\n",
    "where $|B|$ is the batch size."
   ]
  },
  {
   "cell_type": "markdown",
   "metadata": {
    "id": "I2neGQlEpdVD"
   },
   "source": [
    "# Question 1\n",
    "\n",
    "Train a **Single-Layer Classifier** for the MNIST dataset. \n",
    "* Use Softmax-Loss.\n",
    "* Maintain a train-validation split of the original training set for finding the right value of $\\lambda$ for the regularization, and to check for over-fitting.\n",
    "* Finally, evaluate the classification performance on the test-set.\n"
   ]
  },
  {
   "cell_type": "code",
   "execution_count": 1,
   "metadata": {
    "execution": {
     "iopub.execute_input": "2023-02-17T17:38:01.469204Z",
     "iopub.status.busy": "2023-02-17T17:38:01.468831Z",
     "iopub.status.idle": "2023-02-17T17:38:01.474315Z",
     "shell.execute_reply": "2023-02-17T17:38:01.472891Z",
     "shell.execute_reply.started": "2023-02-17T17:38:01.469174Z"
    },
    "id": "1_AYFrwwdY2t"
   },
   "outputs": [],
   "source": [
    "import warnings\n",
    "warnings.filterwarnings('ignore')"
   ]
  },
  {
   "cell_type": "code",
   "execution_count": 2,
   "metadata": {
    "execution": {
     "iopub.execute_input": "2023-02-17T17:38:01.496656Z",
     "iopub.status.busy": "2023-02-17T17:38:01.496220Z",
     "iopub.status.idle": "2023-02-17T17:38:01.502703Z",
     "shell.execute_reply": "2023-02-17T17:38:01.500820Z",
     "shell.execute_reply.started": "2023-02-17T17:38:01.496620Z"
    },
    "id": "Wo8UX0OudY2v"
   },
   "outputs": [],
   "source": [
    "from tqdm.notebook import tqdm"
   ]
  },
  {
   "cell_type": "code",
   "execution_count": 3,
   "metadata": {
    "execution": {
     "iopub.execute_input": "2023-02-17T17:38:01.520736Z",
     "iopub.status.busy": "2023-02-17T17:38:01.520387Z",
     "iopub.status.idle": "2023-02-17T17:38:01.525059Z",
     "shell.execute_reply": "2023-02-17T17:38:01.524351Z",
     "shell.execute_reply.started": "2023-02-17T17:38:01.520709Z"
    },
    "id": "lBwYgUPadY2w"
   },
   "outputs": [],
   "source": [
    "import pandas as pd\n",
    "import numpy as np\n",
    "import matplotlib.pyplot as plt\n",
    "from sklearn.datasets import fetch_openml\n",
    "from sklearn.model_selection import train_test_split\n",
    "from sklearn.preprocessing import StandardScaler\n",
    "import matplotlib.pyplot as plt\n",
    "\n"
   ]
  },
  {
   "cell_type": "code",
   "execution_count": 4,
   "metadata": {
    "execution": {
     "iopub.execute_input": "2023-02-17T17:38:01.547121Z",
     "iopub.status.busy": "2023-02-17T17:38:01.546516Z",
     "iopub.status.idle": "2023-02-17T17:38:40.015742Z",
     "shell.execute_reply": "2023-02-17T17:38:40.014691Z",
     "shell.execute_reply.started": "2023-02-17T17:38:01.547087Z"
    },
    "id": "sREWN_fedY2x"
   },
   "outputs": [],
   "source": [
    "import numpy as np\n",
    "import os\n",
    "import struct\n",
    "\n",
    "def load_mnist(path, kind='train'):\n",
    "    labels_path = os.path.join(path, f'{kind}-labels.idx1-ubyte')\n",
    "    images_path = os.path.join(path, f'{kind}-images.idx3-ubyte')\n",
    "\n",
    "    with open(labels_path, 'rb') as lbpath:\n",
    "        magic, n = struct.unpack('>II', lbpath.read(8))\n",
    "        labels = np.fromfile(lbpath, dtype=np.uint8)\n",
    "\n",
    "    with open(images_path, 'rb') as imgpath:\n",
    "        magic, num, rows, cols = struct.unpack('>IIII', imgpath.read(16))\n",
    "        images = np.fromfile(imgpath, dtype=np.uint8).reshape(len(labels), 784)\n",
    "\n",
    "    return images, labels\n",
    "\n",
    "\n"
   ]
  },
  {
   "cell_type": "code",
   "execution_count": 5,
   "metadata": {
    "execution": {
     "iopub.execute_input": "2023-02-17T17:38:40.018117Z",
     "iopub.status.busy": "2023-02-17T17:38:40.017716Z",
     "iopub.status.idle": "2023-02-17T17:38:40.679021Z",
     "shell.execute_reply": "2023-02-17T17:38:40.678355Z",
     "shell.execute_reply.started": "2023-02-17T17:38:40.018079Z"
    },
    "id": "WPxLvOKDdY2y"
   },
   "outputs": [],
   "source": [
    "# Load the data\n",
    "X_train, y_train = load_mnist('data', kind='train')\n",
    "X_test, y_test = load_mnist('data', kind='t10k')\n",
    "\n",
    "# Normalize the data\n",
    "X_train = X_train / 255.0\n",
    "X_test = X_test / 255.0\n",
    "\n",
    "# Split the training data into training and validation sets\n",
    "train_size = int(X_train.shape[0] * 0.8)\n",
    "\n",
    "X_val = X_train[train_size:]\n",
    "y_val = y_train[train_size:]\n",
    "\n",
    "X_train = X_train[:train_size]\n",
    "y_train = y_train[:train_size]"
   ]
  },
  {
   "cell_type": "code",
   "execution_count": 6,
   "metadata": {
    "colab": {
     "base_uri": "https://localhost:8080/",
     "height": 0
    },
    "execution": {
     "iopub.execute_input": "2023-02-17T17:38:40.682551Z",
     "iopub.status.busy": "2023-02-17T17:38:40.682113Z",
     "iopub.status.idle": "2023-02-17T17:38:40.688258Z",
     "shell.execute_reply": "2023-02-17T17:38:40.687515Z",
     "shell.execute_reply.started": "2023-02-17T17:38:40.682514Z"
    },
    "id": "woNXkfBFdY2z",
    "outputId": "cfc8d08a-947a-4b0f-910e-9f44d4979e2d"
   },
   "outputs": [
    {
     "name": "stdout",
     "output_type": "stream",
     "text": [
      "Train data shape:  (48000, 784)\n",
      "Label data shape:  (48000,)\n",
      "Validation data shape:  (12000, 784)\n",
      "Test data shape:  (10000, 784)\n"
     ]
    }
   ],
   "source": [
    "\n",
    "# Print the shapes of the data sets\n",
    "print(\"Train data shape: \", X_train.shape)\n",
    "print(\"Label data shape: \", y_train.shape)\n",
    "print(\"Validation data shape: \", X_val.shape)\n",
    "print(\"Test data shape: \", X_test.shape)\n"
   ]
  },
  {
   "cell_type": "markdown",
   "metadata": {},
   "source": [
    "### Sample image from MNIST dataset"
   ]
  },
  {
   "cell_type": "code",
   "execution_count": 7,
   "metadata": {},
   "outputs": [
    {
     "data": {
      "image/png": "[encoded data removed]",
      "text/plain": [
       "<Figure size 640x480 with 1 Axes>"
      ]
     },
     "metadata": {},
     "output_type": "display_data"
    }
   ],
   "source": [
    "\n",
    "# Reshape the image to its original size (28x28)\n",
    "image = X_train[0].reshape(28, 28)\n",
    "\n",
    "# Plot the image\n",
    "plt.imshow(image, cmap='gray')\n",
    "plt.show()\n"
   ]
  },
  {
   "cell_type": "code",
   "execution_count": 8,
   "metadata": {
    "execution": {
     "iopub.execute_input": "2023-02-17T17:38:40.705038Z",
     "iopub.status.busy": "2023-02-17T17:38:40.704641Z",
     "iopub.status.idle": "2023-02-17T17:38:40.718372Z",
     "shell.execute_reply": "2023-02-17T17:38:40.717321Z",
     "shell.execute_reply.started": "2023-02-17T17:38:40.705007Z"
    },
    "id": "HVMwqheRpdXo"
   },
   "outputs": [],
   "source": [
    "# Define the class for a Single Layer Classifier\n",
    "\n",
    "class Single_layer_classifier():\n",
    "    \n",
    "    def __init__(self, input_size, output_size):\n",
    "        self.W = np.random.normal(0, 1e-3, (input_size, output_size)) \n",
    "        self.b = np.zeros((1, output_size))\n",
    "\n",
    "    def forward(self, input_x):\n",
    "        scores = np.dot(input_x, self.W) + self.b\n",
    "        return scores\n",
    "    \n",
    "    def backward_Ldata(self, grad_from_loss, input_x):\n",
    "        grad_matrix = np.dot(input_x.T, grad_from_loss)\n",
    "        grad_b = np.sum(grad_from_loss, axis=0)\n",
    "        return grad_matrix, grad_b\n",
    "        \n",
    "    def backward_Lreg(self, lmbda):\n",
    "        grad_matrix = 2 * lmbda * self.W\n",
    "        return grad_matrix\n"
   ]
  },
  {
   "cell_type": "code",
   "execution_count": 9,
   "metadata": {
    "execution": {
     "iopub.execute_input": "2023-02-17T17:38:40.733165Z",
     "iopub.status.busy": "2023-02-17T17:38:40.732573Z",
     "iopub.status.idle": "2023-02-17T17:38:40.742560Z",
     "shell.execute_reply": "2023-02-17T17:38:40.741525Z",
     "shell.execute_reply.started": "2023-02-17T17:38:40.733130Z"
    },
    "id": "BM3EhmY0pdYZ"
   },
   "outputs": [],
   "source": [
    "# Implement the Softmax loss function\n",
    "\n",
    "def softmax(scores):\n",
    "    scores -= np.max(scores)\n",
    "    probabilities = np.exp(scores) / np.sum(np.exp(scores), axis=1, keepdims=True)\n",
    "    return probabilities\n",
    "\n",
    "def loss_function(input_y, scores, lmbda, W):\n",
    "    num_examples = scores.shape[0]\n",
    "    probabilities = softmax(scores)\n",
    "    \n",
    "    corect_logprobs = -np.log(probabilities[range(num_examples),input_y])\n",
    "    data_loss = np.sum(corect_logprobs) / num_examples\n",
    "    reg_loss = 0.5 * lmbda * np.sum(W * W)\n",
    "    loss = data_loss + reg_loss\n",
    "    \n",
    "    dscores = probabilities\n",
    "    dscores[range(num_examples),input_y] -= 1\n",
    "    dscores /= num_examples\n",
    "    \n",
    "    return loss, dscores\n"
   ]
  },
  {
   "cell_type": "markdown",
   "metadata": {},
   "source": [
    "### Create utility function for calculating training and validation accuracy"
   ]
  },
  {
   "cell_type": "code",
   "execution_count": 10,
   "metadata": {},
   "outputs": [],
   "source": [
    "def calculate_accuracy(X, y, model):\n",
    "    scores = model.forward(X)\n",
    "    predicted_class = np.argmax(scores, axis=1)\n",
    "    accuracy = np.mean(predicted_class == y)\n",
    "    return accuracy\n"
   ]
  },
  {
   "cell_type": "code",
   "execution_count": 11,
   "metadata": {
    "execution": {
     "iopub.execute_input": "2023-02-17T17:38:40.744019Z",
     "iopub.status.busy": "2023-02-17T17:38:40.743728Z",
     "iopub.status.idle": "2023-02-17T17:38:40.754579Z",
     "shell.execute_reply": "2023-02-17T17:38:40.753730Z",
     "shell.execute_reply.started": "2023-02-17T17:38:40.743992Z"
    },
    "id": "oqkEZZxPdY23"
   },
   "outputs": [],
   "source": [
    "\n",
    "# Create an instance of Single_layer_classifier\n",
    "input_size = X_train.shape[1]  # 784\n",
    "num_classes = output_size = 10\n",
    "model = Single_layer_classifier(input_size, output_size)\n",
    "\n",
    "\n",
    "# weights and biases initialization\n",
    "W = np.random.normal(0, 1e-3, (X_train.shape[1], num_classes))\n",
    "#b = np.random.randn(num_classes)\n",
    "\n",
    "b = np.zeros((1, num_classes))\n",
    "\n"
   ]
  },
  {
   "cell_type": "code",
   "execution_count": 12,
   "metadata": {},
   "outputs": [],
   "source": [
    "\n",
    "# Set hyperparameters\n",
    "\n",
    "# Learning rate decay\n",
    "decay_rate = 0.95\n",
    "learning_rate = 1e-3\n",
    "\n",
    "lmbda = 1e-3   #regularization coeff\n",
    "num_epochs = 20\n",
    "batch_size = 64\n"
   ]
  },
  {
   "cell_type": "code",
   "execution_count": 13,
   "metadata": {
    "id": "MRXBj7CfmSuP"
   },
   "outputs": [],
   "source": [
    "#This function takes as input the training input features x_train, training target labels y_train, and the desired batch size batch_size. \n",
    "#It generates a random set of indices from the training set and divides them into mini-batches of size batch_size. \n",
    "#For each mini-batch, it selects the corresponding input features and target labels and yields them.\n",
    "\n",
    "def get_minibatch(batch_size=batch_size):\n",
    "    indices = np.arange(len(X_train))\n",
    "    np.random.shuffle(indices)\n",
    "    \n",
    "    for i in range(0, X_train.shape[0] - batch_size + 1, batch_size):\n",
    "        batch_indices = indices[i:i+batch_size]\n",
    "        yield X_train[batch_indices], y_train[batch_indices]\n"
   ]
  },
  {
   "cell_type": "code",
   "execution_count": 14,
   "metadata": {},
   "outputs": [
    {
     "data": {
      "application/vnd.jupyter.widget-view+json": {
       "model_id": "50f8bc5d709a424ea17c009b276daf1e",
       "version_major": 2,
       "version_minor": 0
      },
      "text/plain": [
       "  0%|          | 0/20 [00:00<?, ?it/s]"
      ]
     },
     "metadata": {},
     "output_type": "display_data"
    },
    {
     "name": "stdout",
     "output_type": "stream",
     "text": [
      "Epoch 1/20, Train Loss: 1.9866, Val Loss: 1.7071, Train Accuracy: 75.92%, Val Accuracy: 77.28%\n",
      "Epoch 2/20, Train Loss: 1.5447, Val Loss: 1.3704, Train Accuracy: 78.81%, Val Accuracy: 80.83%\n",
      "Epoch 3/20, Train Loss: 1.2888, Val Loss: 1.1683, Train Accuracy: 80.41%, Val Accuracy: 82.38%\n",
      "Epoch 4/20, Train Loss: 1.1298, Val Loss: 1.0373, Train Accuracy: 81.59%, Val Accuracy: 83.32%\n",
      "Epoch 5/20, Train Loss: 1.0234, Val Loss: 0.9466, Train Accuracy: 82.35%, Val Accuracy: 83.91%\n",
      "Epoch 6/20, Train Loss: 0.9476, Val Loss: 0.8804, Train Accuracy: 82.95%, Val Accuracy: 84.42%\n",
      "Epoch 7/20, Train Loss: 0.8910, Val Loss: 0.8302, Train Accuracy: 83.45%, Val Accuracy: 84.76%\n",
      "Epoch 8/20, Train Loss: 0.8472, Val Loss: 0.7907, Train Accuracy: 83.74%, Val Accuracy: 85.08%\n",
      "Epoch 9/20, Train Loss: 0.8123, Val Loss: 0.7589, Train Accuracy: 84.05%, Val Accuracy: 85.40%\n",
      "Epoch 10/20, Train Loss: 0.7838, Val Loss: 0.7328, Train Accuracy: 84.34%, Val Accuracy: 85.75%\n",
      "Epoch 11/20, Train Loss: 0.7602, Val Loss: 0.7109, Train Accuracy: 84.56%, Val Accuracy: 85.91%\n",
      "Epoch 12/20, Train Loss: 0.7402, Val Loss: 0.6925, Train Accuracy: 84.80%, Val Accuracy: 86.05%\n",
      "Epoch 13/20, Train Loss: 0.7232, Val Loss: 0.6766, Train Accuracy: 84.96%, Val Accuracy: 86.21%\n",
      "Epoch 14/20, Train Loss: 0.7084, Val Loss: 0.6629, Train Accuracy: 85.11%, Val Accuracy: 86.44%\n",
      "Epoch 15/20, Train Loss: 0.6956, Val Loss: 0.6509, Train Accuracy: 85.26%, Val Accuracy: 86.56%\n",
      "Epoch 16/20, Train Loss: 0.6843, Val Loss: 0.6404, Train Accuracy: 85.35%, Val Accuracy: 86.63%\n",
      "Epoch 17/20, Train Loss: 0.6743, Val Loss: 0.6310, Train Accuracy: 85.45%, Val Accuracy: 86.72%\n",
      "Epoch 18/20, Train Loss: 0.6654, Val Loss: 0.6227, Train Accuracy: 85.56%, Val Accuracy: 86.81%\n",
      "Epoch 19/20, Train Loss: 0.6574, Val Loss: 0.6152, Train Accuracy: 85.64%, Val Accuracy: 86.92%\n",
      "Epoch 20/20, Train Loss: 0.6503, Val Loss: 0.6085, Train Accuracy: 85.70%, Val Accuracy: 86.93%\n"
     ]
    }
   ],
   "source": [
    "# Finally the trainer:\n",
    "# Make an instance of Single_layer_classifier\n",
    "# Train for t epochs:\n",
    "###  Train on the train-set obtained from train-validation split\n",
    "###  Use the mini-batch generator to get each mini-batch\n",
    "\n",
    "\n",
    "# Lists to store performance data for plotting\n",
    "train_loss_history = []\n",
    "val_loss_history = []\n",
    "train_accuracy_history = []\n",
    "val_accuracy_history = []\n",
    "\n",
    "\n",
    "# Training loop\n",
    "for epoch in tqdm(range(num_epochs)):\n",
    "    losses = []\n",
    "    learning_rate *= decay_rate\n",
    "    for input_x, input_y in get_minibatch(batch_size):\n",
    "        # Forward pass\n",
    "        scores = model.forward(input_x)\n",
    "        \n",
    "        # Calculate loss and gradient\n",
    "        loss, dscores = loss_function(input_y, scores, lmbda, model.W)\n",
    "        losses.append(loss)\n",
    "        \n",
    "        # Backward pass\n",
    "        grad_W, grad_b = model.backward_Ldata(dscores, input_x)\n",
    "        grad_W += model.backward_Lreg(lmbda)\n",
    "        \n",
    "        # Update weights and bias\n",
    "        model.W -= learning_rate * grad_W\n",
    "        model.b -= learning_rate * grad_b\n",
    "\n",
    "    # After each epoch, calculate and print loss and accuracy\n",
    "    avg_train_loss = np.mean(losses)  # average loss of all batches\n",
    "\n",
    "    # Calculate validation loss\n",
    "    val_scores = model.forward(X_val)  # output values\n",
    "    val_loss, _ = loss_function(y_val, val_scores, lmbda, model.W)  # for entire validation dataset \n",
    "\n",
    "    train_acc = calculate_accuracy(X_train, y_train, model)\n",
    "    val_acc = calculate_accuracy(X_val, y_val, model)\n",
    "\n",
    "    print(f\"Epoch {epoch+1}/{num_epochs}, Train Loss: {avg_train_loss:.4f}, Val Loss: {val_loss:.4f}, Train Accuracy: {train_acc*100:.2f}%, Val Accuracy: {val_acc*100:.2f}%\")\n",
    "\n",
    "    # Store loss and accuracy for plotting\n",
    "    train_loss_history.append(avg_train_loss)\n",
    "    val_loss_history.append(val_loss)\n",
    "    train_accuracy_history.append(train_acc)\n",
    "    val_accuracy_history.append(val_acc)\n"
   ]
  },
  {
   "cell_type": "markdown",
   "metadata": {
    "id": "aZkswp2rdY24"
   },
   "source": [
    "### Plotting the training loss vs validation loss"
   ]
  },
  {
   "cell_type": "code",
   "execution_count": 15,
   "metadata": {
    "colab": {
     "base_uri": "https://localhost:8080/",
     "height": 265
    },
    "id": "E7-gcqzMdY24",
    "outputId": "44334dbb-e6a6-489b-d65b-a65b09fc5c8d"
   },
   "outputs": [
    {
     "data": {
      "image/png": "[encoded data removed]",
      "text/plain": [
       "<Figure size 640x480 with 1 Axes>"
      ]
     },
     "metadata": {},
     "output_type": "display_data"
    }
   ],
   "source": [
    "plt.plot(train_loss_history, color=\"r\", label=\"training_loss\")\n",
    "plt.plot(val_loss_history, color=\"g\", label=\"validation_loss\")\n",
    "plt.legend()\n",
    "plt.show()"
   ]
  },
  {
   "cell_type": "markdown",
   "metadata": {
    "id": "WqNyt3JNdY25"
   },
   "source": [
    "### Plot the training loss and training accuracy plot"
   ]
  },
  {
   "cell_type": "code",
   "execution_count": 17,
   "metadata": {
    "colab": {
     "base_uri": "https://localhost:8080/",
     "height": 265
    },
    "id": "w8ZHlV1TdY25",
    "outputId": "1533e6df-9417-4234-9b43-859de9fa0e87"
   },
   "outputs": [
    {
     "data": {
      "image/png": "[encoded data removed]",
      "text/plain": [
       "<Figure size 640x480 with 1 Axes>"
      ]
     },
     "metadata": {},
     "output_type": "display_data"
    }
   ],
   "source": [
    "# WRITE CODE HERE\n",
    "plt.plot(train_loss_history, color=\"r\", label=\"training_loss\")\n",
    "plt.plot(train_accuracy_history, color=\"g\", label=\"training_accuracy\")\n",
    "plt.legend()\n",
    "plt.show()"
   ]
  },
  {
   "cell_type": "markdown",
   "metadata": {
    "id": "ryYKGIe1V1gd"
   },
   "source": [
    "### Find the accuracy on the validation set"
   ]
  },
  {
   "cell_type": "code",
   "execution_count": 18,
   "metadata": {
    "colab": {
     "base_uri": "https://localhost:8080/",
     "height": 265
    },
    "id": "dtj0gNRhdY26",
    "outputId": "5d27de47-a26d-4101-b559-08e48a49aa45"
   },
   "outputs": [
    {
     "data": {
      "image/png": "[encoded data removed]",
      "text/plain": [
       "<Figure size 640x480 with 1 Axes>"
      ]
     },
     "metadata": {},
     "output_type": "display_data"
    }
   ],
   "source": [
    "# WRITE CODE HERE\n",
    "\n",
    "plt.plot(train_accuracy_history, color=\"b\", label=\"training_accuracy\")\n",
    "plt.plot(val_accuracy_history, color=\"y\", label=\"validation_accuracy\")\n",
    "plt.legend()\n",
    "plt.show()\n",
    "\n"
   ]
  },
  {
   "cell_type": "markdown",
   "metadata": {
    "id": "fG6DnLsKdY26"
   },
   "source": [
    "### Accuracy of the model on train and test data."
   ]
  },
  {
   "cell_type": "code",
   "execution_count": 21,
   "metadata": {},
   "outputs": [
    {
     "name": "stdout",
     "output_type": "stream",
     "text": [
      "Training accuracy: 85.70%\n",
      "Testing accuracy: 86.92%\n"
     ]
    }
   ],
   "source": [
    "# Calculate accuracy on the training data\n",
    "train_accuracy = calculate_accuracy(X_train, y_train, model)\n",
    "print(f'Training accuracy: {train_accuracy * 100:.2f}%')\n",
    "\n",
    "# Calculate accuracy on the testing data\n",
    "test_accuracy = calculate_accuracy(X_test, y_test, model)\n",
    "print(f'Testing accuracy: {test_accuracy * 100:.2f}%')\n"
   ]
  },
  {
   "cell_type": "markdown",
   "metadata": {},
   "source": [
    "### *Observation:* \n",
    "We can see that the model has been trained properly and there is no sign of over-fitting as the training and validation/test accuracies are nearly similar (there is no huge gap between them)."
   ]
  },
  {
   "cell_type": "markdown",
   "metadata": {
    "id": "qB5J2lGJdY2-"
   },
   "source": [
    "###  Grid search: Tuning the hyper parameters learning rate and lambda(regularization coefficient) ."
   ]
  },
  {
   "cell_type": "code",
   "execution_count": 35,
   "metadata": {
    "id": "cEGnJc3iNXiz"
   },
   "outputs": [
    {
     "data": {
      "application/vnd.jupyter.widget-view+json": {
       "model_id": "ab916ce013844b88b04d658e31ef04f5",
       "version_major": 2,
       "version_minor": 0
      },
      "text/plain": [
       "  0%|          | 0/20 [00:00<?, ?it/s]"
      ]
     },
     "metadata": {},
     "output_type": "display_data"
    },
    {
     "name": "stdout",
     "output_type": "stream",
     "text": [
      "Learning rate: 0.001, Regularization_coefficient: 0.001, Validation accuracy: 0.8800833333333333\n"
     ]
    },
    {
     "data": {
      "application/vnd.jupyter.widget-view+json": {
       "model_id": "924e8a100849455eb47de83e27dbd465",
       "version_major": 2,
       "version_minor": 0
      },
      "text/plain": [
       "  0%|          | 0/20 [00:00<?, ?it/s]"
      ]
     },
     "metadata": {},
     "output_type": "display_data"
    },
    {
     "name": "stdout",
     "output_type": "stream",
     "text": [
      "Learning rate: 0.001, Regularization_coefficient: 0.0001, Validation accuracy: 0.88\n"
     ]
    },
    {
     "data": {
      "application/vnd.jupyter.widget-view+json": {
       "model_id": "5e0c6550fda04703b12797be0ae3ae54",
       "version_major": 2,
       "version_minor": 0
      },
      "text/plain": [
       "  0%|          | 0/20 [00:00<?, ?it/s]"
      ]
     },
     "metadata": {},
     "output_type": "display_data"
    },
    {
     "name": "stdout",
     "output_type": "stream",
     "text": [
      "Learning rate: 0.001, Regularization_coefficient: 1e-05, Validation accuracy: 0.8801666666666667\n"
     ]
    },
    {
     "data": {
      "application/vnd.jupyter.widget-view+json": {
       "model_id": "7198af13c20b4fe9a9d6c9fb5ba71e43",
       "version_major": 2,
       "version_minor": 0
      },
      "text/plain": [
       "  0%|          | 0/20 [00:00<?, ?it/s]"
      ]
     },
     "metadata": {},
     "output_type": "display_data"
    },
    {
     "name": "stdout",
     "output_type": "stream",
     "text": [
      "Learning rate: 0.0001, Regularization_coefficient: 0.001, Validation accuracy: 0.8115\n"
     ]
    },
    {
     "data": {
      "application/vnd.jupyter.widget-view+json": {
       "model_id": "c088eeace2f0400c998ff2fe5b5bfb61",
       "version_major": 2,
       "version_minor": 0
      },
      "text/plain": [
       "  0%|          | 0/20 [00:00<?, ?it/s]"
      ]
     },
     "metadata": {},
     "output_type": "display_data"
    },
    {
     "name": "stdout",
     "output_type": "stream",
     "text": [
      "Learning rate: 0.0001, Regularization_coefficient: 0.0001, Validation accuracy: 0.8119166666666666\n"
     ]
    },
    {
     "data": {
      "application/vnd.jupyter.widget-view+json": {
       "model_id": "32e026ffe772408f839f8cec0f07f5d7",
       "version_major": 2,
       "version_minor": 0
      },
      "text/plain": [
       "  0%|          | 0/20 [00:00<?, ?it/s]"
      ]
     },
     "metadata": {},
     "output_type": "display_data"
    },
    {
     "name": "stdout",
     "output_type": "stream",
     "text": [
      "Learning rate: 0.0001, Regularization_coefficient: 1e-05, Validation accuracy: 0.8108333333333333\n"
     ]
    },
    {
     "data": {
      "application/vnd.jupyter.widget-view+json": {
       "model_id": "edfa4088787a4d6aa10679c8c38ffb49",
       "version_major": 2,
       "version_minor": 0
      },
      "text/plain": [
       "  0%|          | 0/20 [00:00<?, ?it/s]"
      ]
     },
     "metadata": {},
     "output_type": "display_data"
    },
    {
     "name": "stdout",
     "output_type": "stream",
     "text": [
      "Learning rate: 1e-05, Regularization_coefficient: 0.001, Validation accuracy: 0.7241666666666666\n"
     ]
    },
    {
     "data": {
      "application/vnd.jupyter.widget-view+json": {
       "model_id": "a303a13d7a6647e18590f3246d29bf28",
       "version_major": 2,
       "version_minor": 0
      },
      "text/plain": [
       "  0%|          | 0/20 [00:00<?, ?it/s]"
      ]
     },
     "metadata": {},
     "output_type": "display_data"
    },
    {
     "name": "stdout",
     "output_type": "stream",
     "text": [
      "Learning rate: 1e-05, Regularization_coefficient: 0.0001, Validation accuracy: 0.73675\n"
     ]
    },
    {
     "data": {
      "application/vnd.jupyter.widget-view+json": {
       "model_id": "a64e0c81994044d582ba82b412dd5800",
       "version_major": 2,
       "version_minor": 0
      },
      "text/plain": [
       "  0%|          | 0/20 [00:00<?, ?it/s]"
      ]
     },
     "metadata": {},
     "output_type": "display_data"
    },
    {
     "name": "stdout",
     "output_type": "stream",
     "text": [
      "Learning rate: 1e-05, Regularization_coefficient: 1e-05, Validation accuracy: 0.7284166666666667\n",
      "\n",
      "Best lambda: 1e-05, Best learning rate: 0.001, Best validation accuracy: 0.8801666666666667\n"
     ]
    }
   ],
   "source": [
    "# Define the hyperparameters to search over\n",
    "learning_rates = [1e-3, 1e-4, 1e-5]\n",
    "regularization_strengths = [1e-3, 1e-4, 1e-5]\n",
    "\n",
    "# Initialize variables to store the best model and the highest validation accuracy\n",
    "best_model = None\n",
    "best_val_accuracy = -1\n",
    "\n",
    "# Grid search over the hyperparameters\n",
    "for lr in learning_rates:\n",
    "    for lmbda in regularization_strengths:\n",
    "        # Train a model with the current hyperparameters\n",
    "        model = Single_layer_classifier(input_size, output_size)\n",
    "        for epoch in tqdm(range(num_epochs)):\n",
    "            for input_x, input_y in get_minibatch(batch_size):\n",
    "                scores = model.forward(input_x)\n",
    "                loss, dscores = loss_function(input_y, scores, lmbda, model.W)\n",
    "                grad_W, grad_b = model.backward_Ldata(dscores, input_x)\n",
    "                grad_W += model.backward_Lreg(lmbda)\n",
    "                model.W -= lr * grad_W\n",
    "                model.b -= lr * grad_b\n",
    "        \n",
    "        # Evaluate the model on the validation set\n",
    "        val_acc = calculate_accuracy(X_val, y_val, model)\n",
    "        \n",
    "        # If the model is better than the best model so far, store it\n",
    "        if val_acc > best_val_accuracy:\n",
    "            best_val_accuracy = val_acc\n",
    "            best_model = model\n",
    "            best_learning_rate = lr\n",
    "            best_lambda = lmbda\n",
    "        \n",
    "        print(f\"Learning rate: {lr}, Regularization_coefficient: {lmbda}, Validation accuracy: {val_acc}\")\n",
    "        \n",
    "print(f\"\\nBest lambda: {best_lambda}, Best learning rate: {best_learning_rate}, Best validation accuracy: {best_val_accuracy}\")\n",
    "        \n"
   ]
  },
  {
   "cell_type": "markdown",
   "metadata": {
    "id": "MUMc3yTPN3Ca"
   },
   "source": [
    "### Report final performance on MNIST test set"
   ]
  },
  {
   "cell_type": "code",
   "execution_count": 36,
   "metadata": {
    "colab": {
     "base_uri": "https://localhost:8080/",
     "height": 0
    },
    "id": "uYVqAU8ydY2-",
    "outputId": "a97eb766-fa77-4a59-87d1-5d955918d4e3"
   },
   "outputs": [
    {
     "name": "stdout",
     "output_type": "stream",
     "text": [
      "After hyper parameters tuning:\n",
      "\n",
      "Training accuracy: 86.94%\n",
      "Testing accuracy: 88.10%\n"
     ]
    }
   ],
   "source": [
    "print(\"After hyper parameters tuning:\\n\")\n",
    "\n",
    "\n",
    "# Calculate accuracy on the training data\n",
    "train_accuracy = calculate_accuracy(X_train, y_train, best_model)\n",
    "print(f'Training accuracy: {train_accuracy * 100:.2f}%')\n",
    "\n",
    "# Calculate accuracy on the testing data\n",
    "test_accuracy = calculate_accuracy(X_test, y_test, best_model)\n",
    "print(f'Testing accuracy: {test_accuracy * 100:.2f}%')\n",
    "\n"
   ]
  },
  {
   "cell_type": "markdown",
   "metadata": {
    "id": "ES0Hg2QndY3B"
   },
   "source": [
    "### Find the best performing class and the worst performing class"
   ]
  },
  {
   "cell_type": "code",
   "execution_count": 37,
   "metadata": {},
   "outputs": [
    {
     "name": "stdout",
     "output_type": "stream",
     "text": [
      "Best performing class: 0, accuracy: 96.94%\n",
      "Worst performing class: 5, accuracy: 76.23%\n"
     ]
    }
   ],
   "source": [
    "# Calculate confusion matrix\n",
    "y_pred = np.argmax(best_model.forward(X_test), axis=1)\n",
    "cm = confusion_matrix(y_test, y_pred)\n",
    "\n",
    "# Calculate class-wise accuracy\n",
    "class_accuracy = cm.diagonal() / cm.sum(axis=1)\n",
    "\n",
    "# Find best and worst classes\n",
    "best_class = np.argmax(class_accuracy)\n",
    "worst_class = np.argmin(class_accuracy)\n",
    "\n",
    "print(f\"Best performing class: {best_class}, accuracy: {class_accuracy[best_class] * 100:.2f}%\")\n",
    "print(f\"Worst performing class: {worst_class}, accuracy: {class_accuracy[worst_class] * 100:.2f}%\")"
   ]
  },
  {
   "cell_type": "markdown",
   "metadata": {
    "id": "ObVVtt4qdY3E"
   },
   "source": [
    "## BONUS Question\n",
    "### Observe the effect on test set accuracy by changing the number of training samples.\n",
    "### Train on 10%, 20% and 50% training data and plot the percentage of training data v.s. the test accuracy.  "
   ]
  },
  {
   "cell_type": "markdown",
   "metadata": {
    "id": "_jEyklLMxpXI"
   },
   "source": [
    "### (a) 10% training data"
   ]
  },
  {
   "cell_type": "code",
   "execution_count": 82,
   "metadata": {
    "colab": {
     "base_uri": "https://localhost:8080/",
     "height": 3522,
     "referenced_widgets": [
      "5f25461b09374632afb09520dcad59a3",
      "c26f270dbb6a48028200d67267fd669a",
      "55f96a8758274680853893b591557791",
      "9d04e40597264b13b691bfd321b14a9e",
      "0e73463bc18a45a4a9feb25ba3290a9a",
      "39f7a74880f14cd1b940ab3ef30d37d7",
      "f32eb2362b5848738c4aecd4c42aacda",
      "b64c5c72d8e9494f827e85daf06b333a",
      "6395c8a04d124941b42043fed5265c1e",
      "0a679964331940559b556639d342efb4",
      "0a0cb0c7670245b18e3c605aa4b93a3d"
     ]
    },
    "id": "pJ-8prFtdY3F",
    "outputId": "37145ad5-8988-4b79-801c-cb8a901bd99f"
   },
   "outputs": [
    {
     "name": "stdout",
     "output_type": "stream",
     "text": [
      "Train data shape:  (6000, 784)\n",
      "Label data shape:  (6000,)\n",
      "Validation data shape:  (54000, 784)\n",
      "Test data shape:  (10000, 784)\n"
     ]
    }
   ],
   "source": [
    "# Load the data\n",
    "X_train, y_train = load_mnist('data', kind='train')\n",
    "X_test, y_test = load_mnist('data', kind='t10k')\n",
    "\n",
    "# Normalize the data\n",
    "X_train = X_train / 255.0\n",
    "X_test = X_test / 255.0\n",
    "\n",
    "# Split the training data into training and validation sets\n",
    "train_size = int(X_train.shape[0] * 0.1)\n",
    "\n",
    "X_val = X_train[train_size:]\n",
    "y_val = y_train[train_size:]\n",
    "\n",
    "X_train = X_train[:train_size]\n",
    "y_train = y_train[:train_size]\n",
    "\n",
    "\n",
    "\n",
    "# Print the shapes of the data sets\n",
    "print(\"Train data shape: \", X_train.shape)\n",
    "print(\"Label data shape: \", y_train.shape)\n",
    "print(\"Validation data shape: \", X_val.shape)\n",
    "print(\"Test data shape: \", X_test.shape)\n"
   ]
  },
  {
   "cell_type": "code",
   "execution_count": 83,
   "metadata": {},
   "outputs": [],
   "source": [
    "\n",
    "# Create an instance of Single_layer_classifier\n",
    "input_size = X_train.shape[1]  # 784\n",
    "num_classes = output_size = 10\n",
    "model = Single_layer_classifier(input_size, output_size)\n",
    "\n"
   ]
  },
  {
   "cell_type": "code",
   "execution_count": 84,
   "metadata": {},
   "outputs": [],
   "source": [
    "\n",
    "# Set hyperparameters\n",
    "\n",
    "# Learning rate decay\n",
    "decay_rate = 0.95\n",
    "learning_rate = 1e-3\n",
    "\n",
    "lmbda = 1e-3   #regularization coeff\n",
    "num_epochs = 20\n",
    "batch_size = 64\n"
   ]
  },
  {
   "cell_type": "code",
   "execution_count": 85,
   "metadata": {},
   "outputs": [
    {
     "data": {
      "application/vnd.jupyter.widget-view+json": {
       "model_id": "0a948257284949eaa2f36e90a7b67fc4",
       "version_major": 2,
       "version_minor": 0
      },
      "text/plain": [
       "  0%|          | 0/20 [00:00<?, ?it/s]"
      ]
     },
     "metadata": {},
     "output_type": "display_data"
    },
    {
     "name": "stdout",
     "output_type": "stream",
     "text": [
      "Epoch 1/20, Train Loss: 2.2538, Val Loss: 2.2087, Train Accuracy: 72.32%, Val Accuracy: 70.35%\n",
      "Epoch 2/20, Train Loss: 2.1629, Val Loss: 2.1268, Train Accuracy: 74.02%, Val Accuracy: 72.30%\n",
      "Epoch 3/20, Train Loss: 2.0825, Val Loss: 2.0540, Train Accuracy: 74.47%, Val Accuracy: 72.93%\n",
      "Epoch 4/20, Train Loss: 2.0106, Val Loss: 1.9890, Train Accuracy: 74.98%, Val Accuracy: 73.50%\n",
      "Epoch 5/20, Train Loss: 1.9473, Val Loss: 1.9307, Train Accuracy: 75.40%, Val Accuracy: 74.02%\n",
      "Epoch 6/20, Train Loss: 1.8890, Val Loss: 1.8782, Train Accuracy: 75.73%, Val Accuracy: 74.36%\n",
      "Epoch 7/20, Train Loss: 1.8374, Val Loss: 1.8310, Train Accuracy: 75.98%, Val Accuracy: 74.57%\n",
      "Epoch 8/20, Train Loss: 1.7908, Val Loss: 1.7882, Train Accuracy: 76.28%, Val Accuracy: 74.85%\n",
      "Epoch 9/20, Train Loss: 1.7491, Val Loss: 1.7494, Train Accuracy: 76.63%, Val Accuracy: 75.06%\n",
      "Epoch 10/20, Train Loss: 1.7111, Val Loss: 1.7142, Train Accuracy: 76.98%, Val Accuracy: 75.32%\n",
      "Epoch 11/20, Train Loss: 1.6756, Val Loss: 1.6821, Train Accuracy: 77.13%, Val Accuracy: 75.52%\n",
      "Epoch 12/20, Train Loss: 1.6444, Val Loss: 1.6528, Train Accuracy: 77.33%, Val Accuracy: 75.75%\n",
      "Epoch 13/20, Train Loss: 1.6148, Val Loss: 1.6260, Train Accuracy: 77.63%, Val Accuracy: 75.94%\n",
      "Epoch 14/20, Train Loss: 1.5876, Val Loss: 1.6014, Train Accuracy: 77.72%, Val Accuracy: 76.11%\n",
      "Epoch 15/20, Train Loss: 1.5638, Val Loss: 1.5788, Train Accuracy: 77.93%, Val Accuracy: 76.33%\n",
      "Epoch 16/20, Train Loss: 1.5409, Val Loss: 1.5580, Train Accuracy: 78.20%, Val Accuracy: 76.50%\n",
      "Epoch 17/20, Train Loss: 1.5218, Val Loss: 1.5388, Train Accuracy: 78.28%, Val Accuracy: 76.66%\n",
      "Epoch 18/20, Train Loss: 1.5010, Val Loss: 1.5211, Train Accuracy: 78.47%, Val Accuracy: 76.83%\n",
      "Epoch 19/20, Train Loss: 1.4837, Val Loss: 1.5048, Train Accuracy: 78.60%, Val Accuracy: 76.95%\n",
      "Epoch 20/20, Train Loss: 1.4676, Val Loss: 1.4896, Train Accuracy: 78.83%, Val Accuracy: 77.09%\n"
     ]
    }
   ],
   "source": [
    "# Finally the trainer:\n",
    "# Make an instance of Single_layer_classifier\n",
    "# Train for t epochs:\n",
    "###  Train on the train-set obtained from train-validation split\n",
    "###  Use the mini-batch generator to get each mini-batch\n",
    "\n",
    "\n",
    "# Lists to store performance data for plotting\n",
    "train_loss_history = []\n",
    "val_loss_history = []\n",
    "train_accuracy_history = []\n",
    "val_accuracy_history = []\n",
    "\n",
    "\n",
    "# Training loop\n",
    "for epoch in tqdm(range(num_epochs)):\n",
    "    losses = []\n",
    "    learning_rate *= decay_rate\n",
    "    for input_x, input_y in get_minibatch(batch_size):\n",
    "        # Forward pass\n",
    "        scores = model.forward(input_x)\n",
    "        \n",
    "        # Calculate loss and gradient\n",
    "        loss, dscores = loss_function(input_y, scores, lmbda, model.W)\n",
    "        losses.append(loss)\n",
    "        \n",
    "        # Backward pass\n",
    "        grad_W, grad_b = model.backward_Ldata(dscores, input_x)\n",
    "        grad_W += model.backward_Lreg(lmbda)\n",
    "        \n",
    "        # Update weights and bias\n",
    "        model.W -= learning_rate * grad_W\n",
    "        model.b -= learning_rate * grad_b\n",
    "\n",
    "    # After each epoch, calculate and print loss and accuracy\n",
    "    avg_train_loss = np.mean(losses)  # average loss of all batches\n",
    "\n",
    "    # Calculate validation loss\n",
    "    val_scores = model.forward(X_val)  # output values\n",
    "    val_loss, _ = loss_function(y_val, val_scores, lmbda, model.W)  # for entire validation dataset \n",
    "\n",
    "    train_acc = calculate_accuracy(X_train, y_train, model)\n",
    "    val_acc = calculate_accuracy(X_val, y_val, model)\n",
    "\n",
    "    print(f\"Epoch {epoch+1}/{num_epochs}, Train Loss: {avg_train_loss:.4f}, Val Loss: {val_loss:.4f}, Train Accuracy: {train_acc*100:.2f}%, Val Accuracy: {val_acc*100:.2f}%\")\n",
    "\n",
    "    # Store loss and accuracy for plotting\n",
    "    train_loss_history.append(avg_train_loss)\n",
    "    val_loss_history.append(val_loss)\n",
    "    train_accuracy_history.append(train_acc)\n",
    "    val_accuracy_history.append(val_acc)\n"
   ]
  },
  {
   "cell_type": "code",
   "execution_count": 86,
   "metadata": {},
   "outputs": [
    {
     "data": {
      "image/png": "[encoded data removed]",
      "text/plain": [
       "<Figure size 640x480 with 1 Axes>"
      ]
     },
     "metadata": {},
     "output_type": "display_data"
    }
   ],
   "source": [
    "plt.plot(train_loss_history, color=\"r\", label=\"training_loss\")\n",
    "plt.plot(val_loss_history, color=\"g\", label=\"validation_loss\")\n",
    "plt.legend()\n",
    "plt.show()"
   ]
  },
  {
   "cell_type": "code",
   "execution_count": 87,
   "metadata": {},
   "outputs": [
    {
     "data": {
      "image/png": "[encoded data removed]",
      "text/plain": [
       "<Figure size 640x480 with 1 Axes>"
      ]
     },
     "metadata": {},
     "output_type": "display_data"
    }
   ],
   "source": [
    "# WRITE CODE HERE\n",
    "plt.plot(train_loss_history, color=\"r\", label=\"training_loss\")\n",
    "plt.plot(train_accuracy_history, color=\"g\", label=\"training_accuracy\")\n",
    "plt.legend()\n",
    "plt.show()"
   ]
  },
  {
   "cell_type": "code",
   "execution_count": 88,
   "metadata": {},
   "outputs": [
    {
     "data": {
      "image/png": "[encoded data removed]",
      "text/plain": [
       "<Figure size 640x480 with 1 Axes>"
      ]
     },
     "metadata": {},
     "output_type": "display_data"
    }
   ],
   "source": [
    "# WRITE CODE HERE\n",
    "\n",
    "plt.plot(train_accuracy_history, color=\"b\", label=\"training_accuracy\")\n",
    "plt.plot(val_accuracy_history, color=\"y\", label=\"validation_accuracy\")\n",
    "plt.legend()\n",
    "plt.show()\n",
    "\n"
   ]
  },
  {
   "cell_type": "code",
   "execution_count": 89,
   "metadata": {
    "colab": {
     "base_uri": "https://localhost:8080/",
     "height": 0
    },
    "id": "r2vFMoXPz6rW",
    "outputId": "1264252a-4f55-47ae-fe00-8bb23da55341"
   },
   "outputs": [
    {
     "name": "stdout",
     "output_type": "stream",
     "text": [
      "Accuracy on 10% training data:\n",
      "\n",
      "Training accuracy: 78.83%\n",
      "Testing accuracy: 77.88%\n"
     ]
    }
   ],
   "source": [
    "# Evaluate the model on the train & test set after tuning\n",
    "print(\"Accuracy on 10% training data:\\n\")\n",
    "\n",
    "# Calculate accuracy on the training data\n",
    "train_accuracy = calculate_accuracy(X_train, y_train, model)\n",
    "print(f'Training accuracy: {train_accuracy * 100:.2f}%')\n",
    "\n",
    "# Calculate accuracy on the testing data\n",
    "test_accuracy = calculate_accuracy(X_test, y_test, model)\n",
    "print(f'Testing accuracy: {test_accuracy * 100:.2f}%')\n",
    "\n"
   ]
  },
  {
   "cell_type": "markdown",
   "metadata": {
    "id": "Vqc0WHwexw-B"
   },
   "source": [
    "### (b) 20% training data"
   ]
  },
  {
   "cell_type": "code",
   "execution_count": 90,
   "metadata": {
    "colab": {
     "base_uri": "https://localhost:8080/",
     "height": 3522,
     "referenced_widgets": [
      "09a63012ec064e19b8f2bbf45868c245",
      "7c669b2e0c184a36a749ecdee5948b78",
      "de8fe75fa6a94fc09f3940ba292a7631",
      "ecdab79eff7f4ab4bba814f526410390",
      "a061109c422242b482c9ca1c6adda43e",
      "5c697e21e38f4c388b216980aa4f9144",
      "8e73a393dd314ea3b361a2219b87df3e",
      "ed2a2f1227614a959a911ddcd11b7f46",
      "c4110e59cb7540399d23ab2452391ddf",
      "6f7d028701904fbead3715662e658825",
      "a99166f4d974406485a8968292646ced"
     ]
    },
    "id": "gpOw547Jx3Tf",
    "outputId": "dcd421e6-4f51-4298-9dee-11207ba85c5f"
   },
   "outputs": [
    {
     "name": "stdout",
     "output_type": "stream",
     "text": [
      "Train data shape:  (12000, 784)\n",
      "Label data shape:  (12000,)\n",
      "Validation data shape:  (48000, 784)\n",
      "Test data shape:  (10000, 784)\n"
     ]
    }
   ],
   "source": [
    "# Load the data\n",
    "X_train, y_train = load_mnist('data', kind='train')\n",
    "X_test, y_test = load_mnist('data', kind='t10k')\n",
    "\n",
    "# Normalize the data\n",
    "X_train = X_train / 255.0\n",
    "X_test = X_test / 255.0\n",
    "\n",
    "# Split the training data into training and validation sets\n",
    "train_size = int(X_train.shape[0] * 0.2)\n",
    "\n",
    "X_val = X_train[train_size:]\n",
    "y_val = y_train[train_size:]\n",
    "\n",
    "X_train = X_train[:train_size]\n",
    "y_train = y_train[:train_size]\n",
    "\n",
    "\n",
    "\n",
    "# Print the shapes of the data sets\n",
    "print(\"Train data shape: \", X_train.shape)\n",
    "print(\"Label data shape: \", y_train.shape)\n",
    "print(\"Validation data shape: \", X_val.shape)\n",
    "print(\"Test data shape: \", X_test.shape)\n"
   ]
  },
  {
   "cell_type": "code",
   "execution_count": 91,
   "metadata": {},
   "outputs": [],
   "source": [
    "\n",
    "# Create an instance of Single_layer_classifier\n",
    "input_size = X_train.shape[1]  # 784\n",
    "num_classes = output_size = 10\n",
    "model = Single_layer_classifier(input_size, output_size)\n",
    "\n"
   ]
  },
  {
   "cell_type": "code",
   "execution_count": 92,
   "metadata": {},
   "outputs": [],
   "source": [
    "\n",
    "# Set hyperparameters\n",
    "\n",
    "# Learning rate decay\n",
    "decay_rate = 0.95\n",
    "learning_rate = 1e-3\n",
    "\n",
    "lmbda = 1e-3   #regularization coeff\n",
    "num_epochs = 20\n",
    "batch_size = 64\n"
   ]
  },
  {
   "cell_type": "code",
   "execution_count": 93,
   "metadata": {},
   "outputs": [
    {
     "data": {
      "application/vnd.jupyter.widget-view+json": {
       "model_id": "4320b39902dc47f2ae6835bdbed9a131",
       "version_major": 2,
       "version_minor": 0
      },
      "text/plain": [
       "  0%|          | 0/20 [00:00<?, ?it/s]"
      ]
     },
     "metadata": {},
     "output_type": "display_data"
    },
    {
     "name": "stdout",
     "output_type": "stream",
     "text": [
      "Epoch 1/20, Train Loss: 2.2081, Val Loss: 2.1233, Train Accuracy: 71.57%, Val Accuracy: 70.04%\n",
      "Epoch 2/20, Train Loss: 2.0389, Val Loss: 1.9755, Train Accuracy: 74.03%, Val Accuracy: 72.53%\n",
      "Epoch 3/20, Train Loss: 1.8987, Val Loss: 1.8520, Train Accuracy: 75.52%, Val Accuracy: 73.86%\n",
      "Epoch 4/20, Train Loss: 1.7813, Val Loss: 1.7480, Train Accuracy: 76.36%, Val Accuracy: 74.63%\n",
      "Epoch 5/20, Train Loss: 1.6824, Val Loss: 1.6600, Train Accuracy: 77.11%, Val Accuracy: 75.44%\n",
      "Epoch 6/20, Train Loss: 1.5990, Val Loss: 1.5849, Train Accuracy: 77.65%, Val Accuracy: 76.06%\n",
      "Epoch 7/20, Train Loss: 1.5273, Val Loss: 1.5205, Train Accuracy: 78.15%, Val Accuracy: 76.66%\n",
      "Epoch 8/20, Train Loss: 1.4660, Val Loss: 1.4648, Train Accuracy: 78.72%, Val Accuracy: 77.22%\n",
      "Epoch 9/20, Train Loss: 1.4123, Val Loss: 1.4164, Train Accuracy: 79.03%, Val Accuracy: 77.66%\n",
      "Epoch 10/20, Train Loss: 1.3664, Val Loss: 1.3740, Train Accuracy: 79.37%, Val Accuracy: 78.04%\n",
      "Epoch 11/20, Train Loss: 1.3256, Val Loss: 1.3367, Train Accuracy: 79.72%, Val Accuracy: 78.36%\n",
      "Epoch 12/20, Train Loss: 1.2901, Val Loss: 1.3037, Train Accuracy: 80.12%, Val Accuracy: 78.68%\n",
      "Epoch 13/20, Train Loss: 1.2580, Val Loss: 1.2744, Train Accuracy: 80.27%, Val Accuracy: 78.95%\n",
      "Epoch 14/20, Train Loss: 1.2303, Val Loss: 1.2481, Train Accuracy: 80.51%, Val Accuracy: 79.17%\n",
      "Epoch 15/20, Train Loss: 1.2046, Val Loss: 1.2246, Train Accuracy: 80.74%, Val Accuracy: 79.36%\n",
      "Epoch 16/20, Train Loss: 1.1821, Val Loss: 1.2034, Train Accuracy: 80.92%, Val Accuracy: 79.57%\n",
      "Epoch 17/20, Train Loss: 1.1614, Val Loss: 1.1843, Train Accuracy: 81.05%, Val Accuracy: 79.76%\n",
      "Epoch 18/20, Train Loss: 1.1435, Val Loss: 1.1669, Train Accuracy: 81.19%, Val Accuracy: 79.94%\n",
      "Epoch 19/20, Train Loss: 1.1261, Val Loss: 1.1510, Train Accuracy: 81.27%, Val Accuracy: 80.10%\n",
      "Epoch 20/20, Train Loss: 1.1105, Val Loss: 1.1366, Train Accuracy: 81.35%, Val Accuracy: 80.26%\n"
     ]
    }
   ],
   "source": [
    "# Finally the trainer:\n",
    "# Make an instance of Single_layer_classifier\n",
    "# Train for t epochs:\n",
    "###  Train on the train-set obtained from train-validation split\n",
    "###  Use the mini-batch generator to get each mini-batch\n",
    "\n",
    "\n",
    "# Lists to store performance data for plotting\n",
    "train_loss_history = []\n",
    "val_loss_history = []\n",
    "train_accuracy_history = []\n",
    "val_accuracy_history = []\n",
    "\n",
    "\n",
    "# Training loop\n",
    "for epoch in tqdm(range(num_epochs)):\n",
    "    losses = []\n",
    "    learning_rate *= decay_rate\n",
    "    for input_x, input_y in get_minibatch(batch_size):\n",
    "        # Forward pass\n",
    "        scores = model.forward(input_x)\n",
    "        \n",
    "        # Calculate loss and gradient\n",
    "        loss, dscores = loss_function(input_y, scores, lmbda, model.W)\n",
    "        losses.append(loss)\n",
    "        \n",
    "        # Backward pass\n",
    "        grad_W, grad_b = model.backward_Ldata(dscores, input_x)\n",
    "        grad_W += model.backward_Lreg(lmbda)\n",
    "        \n",
    "        # Update weights and bias\n",
    "        model.W -= learning_rate * grad_W\n",
    "        model.b -= learning_rate * grad_b\n",
    "\n",
    "    # After each epoch, calculate and print loss and accuracy\n",
    "    avg_train_loss = np.mean(losses)  # average loss of all batches\n",
    "\n",
    "    # Calculate validation loss\n",
    "    val_scores = model.forward(X_val)  # output values\n",
    "    val_loss, _ = loss_function(y_val, val_scores, lmbda, model.W)  # for entire validation dataset \n",
    "\n",
    "    train_acc = calculate_accuracy(X_train, y_train, model)\n",
    "    val_acc = calculate_accuracy(X_val, y_val, model)\n",
    "\n",
    "    print(f\"Epoch {epoch+1}/{num_epochs}, Train Loss: {avg_train_loss:.4f}, Val Loss: {val_loss:.4f}, Train Accuracy: {train_acc*100:.2f}%, Val Accuracy: {val_acc*100:.2f}%\")\n",
    "\n",
    "    # Store loss and accuracy for plotting\n",
    "    train_loss_history.append(avg_train_loss)\n",
    "    val_loss_history.append(val_loss)\n",
    "    train_accuracy_history.append(train_acc)\n",
    "    val_accuracy_history.append(val_acc)\n"
   ]
  },
  {
   "cell_type": "code",
   "execution_count": 94,
   "metadata": {},
   "outputs": [
    {
     "data": {
      "image/png": "[encoded data removed]",
      "text/plain": [
       "<Figure size 640x480 with 1 Axes>"
      ]
     },
     "metadata": {},
     "output_type": "display_data"
    }
   ],
   "source": [
    "plt.plot(train_loss_history, color=\"r\", label=\"training_loss\")\n",
    "plt.plot(val_loss_history, color=\"g\", label=\"validation_loss\")\n",
    "plt.legend()\n",
    "plt.show()"
   ]
  },
  {
   "cell_type": "code",
   "execution_count": 95,
   "metadata": {},
   "outputs": [
    {
     "data": {
      "image/png": "[encoded data removed]",
      "text/plain": [
       "<Figure size 640x480 with 1 Axes>"
      ]
     },
     "metadata": {},
     "output_type": "display_data"
    }
   ],
   "source": [
    "# WRITE CODE HERE\n",
    "plt.plot(train_loss_history, color=\"r\", label=\"training_loss\")\n",
    "plt.plot(train_accuracy_history, color=\"g\", label=\"training_accuracy\")\n",
    "plt.legend()\n",
    "plt.show()"
   ]
  },
  {
   "cell_type": "code",
   "execution_count": 96,
   "metadata": {},
   "outputs": [
    {
     "data": {
      "image/png": "[encoded data removed]",
      "text/plain": [
       "<Figure size 640x480 with 1 Axes>"
      ]
     },
     "metadata": {},
     "output_type": "display_data"
    }
   ],
   "source": [
    "# WRITE CODE HERE\n",
    "\n",
    "plt.plot(train_accuracy_history, color=\"b\", label=\"training_accuracy\")\n",
    "plt.plot(val_accuracy_history, color=\"y\", label=\"validation_accuracy\")\n",
    "plt.legend()\n",
    "plt.show()\n",
    "\n"
   ]
  },
  {
   "cell_type": "code",
   "execution_count": 97,
   "metadata": {
    "colab": {
     "base_uri": "https://localhost:8080/",
     "height": 0
    },
    "id": "ksC8Dq0n0CaP",
    "outputId": "ef3bc9c6-8d58-489c-e2aa-cbaf59212b0c"
   },
   "outputs": [
    {
     "name": "stdout",
     "output_type": "stream",
     "text": [
      "Accuracy on 20% training data:\n",
      "\n",
      "Training accuracy: 81.35%\n",
      "Testing accuracy: 81.11%\n"
     ]
    }
   ],
   "source": [
    "# Evaluate the model on the train & test set after tuning\n",
    "print(\"Accuracy on 20% training data:\\n\")\n",
    "\n",
    "# Calculate accuracy on the training data\n",
    "train_accuracy = calculate_accuracy(X_train, y_train, model)\n",
    "print(f'Training accuracy: {train_accuracy * 100:.2f}%')\n",
    "\n",
    "# Calculate accuracy on the testing data\n",
    "test_accuracy = calculate_accuracy(X_test, y_test, model)\n",
    "print(f'Testing accuracy: {test_accuracy * 100:.2f}%')\n",
    "\n"
   ]
  },
  {
   "cell_type": "markdown",
   "metadata": {
    "id": "lSQmoTktxzu_"
   },
   "source": [
    "### (c) 50% training data"
   ]
  },
  {
   "cell_type": "code",
   "execution_count": 98,
   "metadata": {
    "colab": {
     "base_uri": "https://localhost:8080/",
     "height": 3522,
     "referenced_widgets": [
      "92eb747d56bc458fafc5d1d9f1a20233",
      "568051e9b92d4389b90f916ecb527fd3",
      "73147a301d374df5b8a3f304a33d39d2",
      "40ebef937c3345cdb1f760b97d4f2d29",
      "9c8b8e2b01dd470684254d8ef28575cd",
      "4152adcd74a444d6a1e9905e6d48ed6c",
      "9789c42020cf46f2a243f415ceed90d8",
      "9bfa4b30f16d45c8beacb20a928c3c62",
      "f3bc4ed22dac446895b574920ae4a785",
      "a193ef2cc0e44eedadc1f6c8db1125fe",
      "cba50ec747f8406eb8fd2ac3c947e153"
     ]
    },
    "id": "--2K4xEEx4ZO",
    "outputId": "f8c925d7-2b25-4ef5-af03-5f0e85e1d34e"
   },
   "outputs": [
    {
     "name": "stdout",
     "output_type": "stream",
     "text": [
      "Train data shape:  (48000, 784)\n",
      "Label data shape:  (48000,)\n",
      "Validation data shape:  (12000, 784)\n",
      "Test data shape:  (10000, 784)\n"
     ]
    }
   ],
   "source": [
    "# Load the data\n",
    "X_train, y_train = load_mnist('data', kind='train')\n",
    "X_test, y_test = load_mnist('data', kind='t10k')\n",
    "\n",
    "# Normalize the data\n",
    "X_train = X_train / 255.0\n",
    "X_test = X_test / 255.0\n",
    "\n",
    "# Split the training data into training and validation sets\n",
    "train_size = int(X_train.shape[0] * 0.8)\n",
    "\n",
    "X_val = X_train[train_size:]\n",
    "y_val = y_train[train_size:]\n",
    "\n",
    "X_train = X_train[:train_size]\n",
    "y_train = y_train[:train_size]\n",
    "\n",
    "\n",
    "# Print the shapes of the data sets\n",
    "print(\"Train data shape: \", X_train.shape)\n",
    "print(\"Label data shape: \", y_train.shape)\n",
    "print(\"Validation data shape: \", X_val.shape)\n",
    "print(\"Test data shape: \", X_test.shape)\n"
   ]
  },
  {
   "cell_type": "code",
   "execution_count": 99,
   "metadata": {},
   "outputs": [],
   "source": [
    "\n",
    "# Create an instance of Single_layer_classifier\n",
    "input_size = X_train.shape[1]  # 784\n",
    "num_classes = output_size = 10\n",
    "model = Single_layer_classifier(input_size, output_size)\n",
    "\n"
   ]
  },
  {
   "cell_type": "code",
   "execution_count": 100,
   "metadata": {},
   "outputs": [],
   "source": [
    "\n",
    "# Set hyperparameters\n",
    "\n",
    "# Learning rate decay\n",
    "decay_rate = 0.95\n",
    "learning_rate = 1e-3\n",
    "\n",
    "lmbda = 1e-3   #regularization coeff\n",
    "num_epochs = 20\n",
    "batch_size = 64\n"
   ]
  },
  {
   "cell_type": "code",
   "execution_count": 101,
   "metadata": {},
   "outputs": [
    {
     "data": {
      "application/vnd.jupyter.widget-view+json": {
       "model_id": "18bb1ab18d754ff58230661f747efde6",
       "version_major": 2,
       "version_minor": 0
      },
      "text/plain": [
       "  0%|          | 0/20 [00:00<?, ?it/s]"
      ]
     },
     "metadata": {},
     "output_type": "display_data"
    },
    {
     "name": "stdout",
     "output_type": "stream",
     "text": [
      "Epoch 1/20, Train Loss: 1.9850, Val Loss: 1.7060, Train Accuracy: 76.02%, Val Accuracy: 77.39%\n",
      "Epoch 2/20, Train Loss: 1.5436, Val Loss: 1.3698, Train Accuracy: 78.78%, Val Accuracy: 80.73%\n",
      "Epoch 3/20, Train Loss: 1.2882, Val Loss: 1.1679, Train Accuracy: 80.47%, Val Accuracy: 82.33%\n",
      "Epoch 4/20, Train Loss: 1.1294, Val Loss: 1.0370, Train Accuracy: 81.64%, Val Accuracy: 83.29%\n",
      "Epoch 5/20, Train Loss: 1.0231, Val Loss: 0.9464, Train Accuracy: 82.38%, Val Accuracy: 83.97%\n",
      "Epoch 6/20, Train Loss: 0.9474, Val Loss: 0.8803, Train Accuracy: 83.02%, Val Accuracy: 84.43%\n",
      "Epoch 7/20, Train Loss: 0.8908, Val Loss: 0.8300, Train Accuracy: 83.44%, Val Accuracy: 84.85%\n",
      "Epoch 8/20, Train Loss: 0.8471, Val Loss: 0.7906, Train Accuracy: 83.80%, Val Accuracy: 85.24%\n",
      "Epoch 9/20, Train Loss: 0.8122, Val Loss: 0.7588, Train Accuracy: 84.06%, Val Accuracy: 85.54%\n",
      "Epoch 10/20, Train Loss: 0.7837, Val Loss: 0.7327, Train Accuracy: 84.34%, Val Accuracy: 85.77%\n",
      "Epoch 11/20, Train Loss: 0.7600, Val Loss: 0.7110, Train Accuracy: 84.57%, Val Accuracy: 85.92%\n",
      "Epoch 12/20, Train Loss: 0.7401, Val Loss: 0.6925, Train Accuracy: 84.80%, Val Accuracy: 86.08%\n",
      "Epoch 13/20, Train Loss: 0.7230, Val Loss: 0.6766, Train Accuracy: 84.99%, Val Accuracy: 86.27%\n",
      "Epoch 14/20, Train Loss: 0.7083, Val Loss: 0.6629, Train Accuracy: 85.11%, Val Accuracy: 86.39%\n",
      "Epoch 15/20, Train Loss: 0.6955, Val Loss: 0.6509, Train Accuracy: 85.26%, Val Accuracy: 86.58%\n",
      "Epoch 16/20, Train Loss: 0.6842, Val Loss: 0.6404, Train Accuracy: 85.36%, Val Accuracy: 86.64%\n",
      "Epoch 17/20, Train Loss: 0.6742, Val Loss: 0.6310, Train Accuracy: 85.48%, Val Accuracy: 86.70%\n",
      "Epoch 18/20, Train Loss: 0.6653, Val Loss: 0.6227, Train Accuracy: 85.57%, Val Accuracy: 86.78%\n",
      "Epoch 19/20, Train Loss: 0.6574, Val Loss: 0.6152, Train Accuracy: 85.64%, Val Accuracy: 86.86%\n",
      "Epoch 20/20, Train Loss: 0.6502, Val Loss: 0.6085, Train Accuracy: 85.72%, Val Accuracy: 86.95%\n"
     ]
    }
   ],
   "source": [
    "# Finally the trainer:\n",
    "# Make an instance of Single_layer_classifier\n",
    "# Train for t epochs:\n",
    "###  Train on the train-set obtained from train-validation split\n",
    "###  Use the mini-batch generator to get each mini-batch\n",
    "\n",
    "\n",
    "# Lists to store performance data for plotting\n",
    "train_loss_history = []\n",
    "val_loss_history = []\n",
    "train_accuracy_history = []\n",
    "val_accuracy_history = []\n",
    "\n",
    "\n",
    "# Training loop\n",
    "for epoch in tqdm(range(num_epochs)):\n",
    "    losses = []\n",
    "    learning_rate *= decay_rate\n",
    "    for input_x, input_y in get_minibatch(batch_size):\n",
    "        # Forward pass\n",
    "        scores = model.forward(input_x)\n",
    "        \n",
    "        # Calculate loss and gradient\n",
    "        loss, dscores = loss_function(input_y, scores, lmbda, model.W)\n",
    "        losses.append(loss)\n",
    "        \n",
    "        # Backward pass\n",
    "        grad_W, grad_b = model.backward_Ldata(dscores, input_x)\n",
    "        grad_W += model.backward_Lreg(lmbda)\n",
    "        \n",
    "        # Update weights and bias\n",
    "        model.W -= learning_rate * grad_W\n",
    "        model.b -= learning_rate * grad_b\n",
    "\n",
    "    # After each epoch, calculate and print loss and accuracy\n",
    "    avg_train_loss = np.mean(losses)  # average loss of all batches\n",
    "\n",
    "    # Calculate validation loss\n",
    "    val_scores = model.forward(X_val)  # output values\n",
    "    val_loss, _ = loss_function(y_val, val_scores, lmbda, model.W)  # for entire validation dataset \n",
    "\n",
    "    train_acc = calculate_accuracy(X_train, y_train, model)\n",
    "    val_acc = calculate_accuracy(X_val, y_val, model)\n",
    "\n",
    "    print(f\"Epoch {epoch+1}/{num_epochs}, Train Loss: {avg_train_loss:.4f}, Val Loss: {val_loss:.4f}, Train Accuracy: {train_acc*100:.2f}%, Val Accuracy: {val_acc*100:.2f}%\")\n",
    "\n",
    "    # Store loss and accuracy for plotting\n",
    "    train_loss_history.append(avg_train_loss)\n",
    "    val_loss_history.append(val_loss)\n",
    "    train_accuracy_history.append(train_acc)\n",
    "    val_accuracy_history.append(val_acc)\n"
   ]
  },
  {
   "cell_type": "code",
   "execution_count": 102,
   "metadata": {},
   "outputs": [
    {
     "data": {
      "image/png": "[encoded data removed]",
      "text/plain": [
       "<Figure size 640x480 with 1 Axes>"
      ]
     },
     "metadata": {},
     "output_type": "display_data"
    }
   ],
   "source": [
    "plt.plot(train_loss_history, color=\"r\", label=\"training_loss\")\n",
    "plt.plot(val_loss_history, color=\"g\", label=\"validation_loss\")\n",
    "plt.legend()\n",
    "plt.show()"
   ]
  },
  {
   "cell_type": "code",
   "execution_count": 103,
   "metadata": {},
   "outputs": [
    {
     "data": {
      "image/png": "[encoded data removed]",
      "text/plain": [
       "<Figure size 640x480 with 1 Axes>"
      ]
     },
     "metadata": {},
     "output_type": "display_data"
    }
   ],
   "source": [
    "# WRITE CODE HERE\n",
    "plt.plot(train_loss_history, color=\"r\", label=\"training_loss\")\n",
    "plt.plot(train_accuracy_history, color=\"g\", label=\"training_accuracy\")\n",
    "plt.legend()\n",
    "plt.show()"
   ]
  },
  {
   "cell_type": "code",
   "execution_count": 104,
   "metadata": {},
   "outputs": [
    {
     "data": {
      "image/png": "[encoded data removed]",
      "text/plain": [
       "<Figure size 640x480 with 1 Axes>"
      ]
     },
     "metadata": {},
     "output_type": "display_data"
    }
   ],
   "source": [
    "# WRITE CODE HERE\n",
    "\n",
    "plt.plot(train_accuracy_history, color=\"b\", label=\"training_accuracy\")\n",
    "plt.plot(val_accuracy_history, color=\"y\", label=\"validation_accuracy\")\n",
    "plt.legend()\n",
    "plt.show()\n",
    "\n"
   ]
  },
  {
   "cell_type": "code",
   "execution_count": 105,
   "metadata": {
    "colab": {
     "base_uri": "https://localhost:8080/",
     "height": 0
    },
    "id": "OrTpMC4Y0EBm",
    "outputId": "a63a5b6d-2bfb-485c-e088-5d9810462c8c"
   },
   "outputs": [
    {
     "name": "stdout",
     "output_type": "stream",
     "text": [
      "Accuracy on 50% training data:\n",
      "\n",
      "Training accuracy: 85.72%\n",
      "Testing accuracy: 86.96%\n"
     ]
    }
   ],
   "source": [
    "# Evaluate the model on the train & test set after tuning\n",
    "print(\"Accuracy on 50% training data:\\n\")\n",
    "\n",
    "# Calculate accuracy on the training data\n",
    "train_accuracy = calculate_accuracy(X_train, y_train, model)\n",
    "print(f'Training accuracy: {train_accuracy * 100:.2f}%')\n",
    "\n",
    "# Calculate accuracy on the testing data\n",
    "test_accuracy = calculate_accuracy(X_test, y_test, model)\n",
    "print(f'Testing accuracy: {test_accuracy * 100:.2f}%')\n"
   ]
  },
  {
   "cell_type": "markdown",
   "metadata": {
    "id": "yXdKcYG5dY3C"
   },
   "source": [
    "# Training a Linear Classifier on MNIST from scikit-learn\n",
    "\n",
    "In this section you have to train a linear classifier from the scikit-learn library and compare its results against your implementation.\n",
    "(https://scikit-learn.org/stable/modules/generated/sklearn.linear_model.LinearRegression.html)"
   ]
  },
  {
   "cell_type": "markdown",
   "metadata": {
    "id": "HJCsDYbpdY3C"
   },
   "source": [
    "### Compare the training and test accuracies for the your implementation and linear classifier from scikit-learn"
   ]
  },
  {
   "cell_type": "markdown",
   "metadata": {
    "id": "orml50nMdY3D"
   },
   "source": [
    "### (a) Logistic Regression"
   ]
  },
  {
   "cell_type": "code",
   "execution_count": 119,
   "metadata": {
    "colab": {
     "base_uri": "https://localhost:8080/",
     "height": 0
    },
    "id": "lglEsFFIdY3D",
    "outputId": "cebccb8f-6f36-4899-e153-1294aa06ef44"
   },
   "outputs": [
    {
     "name": "stdout",
     "output_type": "stream",
     "text": [
      "Training accuracy (Logistic Regression): 93.92%\n",
      "Testing accuracy (Logistic Regression): 92.50%\n"
     ]
    }
   ],
   "source": [
    "from sklearn.linear_model import LogisticRegression\n",
    "\n",
    "\n",
    "# Train a Logistic Regression classifier\n",
    "logistic_clf = LogisticRegression(max_iter=1000, multi_class='multinomial')\n",
    "logistic_clf.fit(X_train, y_train)\n",
    "\n",
    "# Calculate accuracy on the training and testing data\n",
    "train_acc_logistic = accuracy_score(y_train, logistic_clf.predict(X_train))\n",
    "test_acc_logistic = accuracy_score(y_test, logistic_clf.predict(X_test))\n",
    "\n",
    "print(f'Training accuracy (Logistic Regression): {train_acc_logistic * 100:.2f}%')\n",
    "print(f'Testing accuracy (Logistic Regression): {test_acc_logistic * 100:.2f}%')\n"
   ]
  },
  {
   "cell_type": "markdown",
   "metadata": {},
   "source": [
    "### (b) Linear SVM"
   ]
  },
  {
   "cell_type": "code",
   "execution_count": 115,
   "metadata": {},
   "outputs": [
    {
     "name": "stdout",
     "output_type": "stream",
     "text": [
      "Training accuracy (Linear SVM): 89.92%\n",
      "Testing accuracy (Linear SVM): 88.84%\n"
     ]
    }
   ],
   "source": [
    "# SGDClassifier is able to perform multi-class classification by combining multiple binary classifiers in a\n",
    "# “one versus all” (OvA) scheme. For each of the classes, a binary classifier is learned that discriminates between \n",
    "# that and all other classes. At testing time, we compute the confidence score (i.e. the signed distances to the hyperplane) \n",
    "# for each classifier and choose the class with the highest confidence.\n",
    "\n",
    "#This is indeed a multi-class classification problem.\n",
    "\n",
    "\n",
    "\n",
    "from sklearn.linear_model import SGDClassifier\n",
    "from sklearn.metrics import accuracy_score\n",
    "\n",
    "# Train a linear classifier\n",
    "clf = SGDClassifier(loss='hinge', penalty='l2', alpha=best_lambda, max_iter=100, tol=None)\n",
    "clf.fit(X_train, y_train)\n",
    "\n",
    "# Calculate accuracy on the training and testing data\n",
    "train_acc_sklearn = accuracy_score(y_train, clf.predict(X_train))\n",
    "test_acc_sklearn = accuracy_score(y_test, clf.predict(X_test))\n",
    "\n",
    "print(f'Training accuracy (Linear SVM): {train_acc_sklearn * 100:.2f}%')\n",
    "print(f'Testing accuracy (Linear SVM): {test_acc_sklearn * 100:.2f}%')\n"
   ]
  },
  {
   "cell_type": "markdown",
   "metadata": {
    "id": "Fq1NLl8QdY3E"
   },
   "source": [
    "### Any additional observations / comments?"
   ]
  },
  {
   "cell_type": "markdown",
   "metadata": {
    "id": "j5v6zkgKij3Y"
   },
   "source": [
    " **Observations**:\n",
    "1. 1-Layer NN Neural Network Classifier achieves a test accuracy between 85% to 88 % with our implementation.\n",
    "2. Training on 10%, 20% 50% data, the test accuracy increases, i-e, test accuracy was highest for the model trained with 50% data and lowest for the model trained with 10% data. \n",
    "3. The Single 1-Layer NN classifier performs poorly with our implementation compared to Scikit Learn's Logistic regression model but is on-par with Linear SVM model.\n",
    "4. Hyper parameters {regularization coefficient(lambda), learning_rate} tuning with Grid-search increased the test accuracy by 1-2%."
   ]
  },
  {
   "cell_type": "markdown",
   "metadata": {
    "id": "T5K7o9R0sE-4"
   },
   "source": [
    "**Comments:**\n",
    "\n",
    "For the MNIST image classification task, a 1-layer neural network classifier with cross-entropy loss is expected to perform better than a logistic or ridge regression model of scikit-learn due to its ability to model non-linear relationships between features and labels, and its more appropriate loss function for multi-class classification.\n",
    "A neural network with even a single hidden layer can model more complex and non-linear relationships between input features and target labels. The MNIST dataset contains 28x28 pixel images, resulting in 784 input features for each sample. A 1-layer neural network with a sufficient number of neurons can learn non-linear combinations of these features, while logistic or ridge regression can only learn linear combinations.\n",
    "\n",
    "But on Yann lucan website 1-Layer NN classifier has an error rate of 12% which is more than a Logistic regression model of scikit learn which has 8% error rate on test data.\n",
    "\n",
    "It is true that the performance of different models can vary depending on various factors such as model architecture, hyperparameters, and the specific dataset used for training and testing. Therefore, it is possible that a 1-layer neural network classifier may perform worse than a logistic regression model on the MNIST dataset. For example, our implementation also has an error rate of 12% on test data."
   ]
  },
  {
   "cell_type": "code",
   "execution_count": null,
   "metadata": {
    "id": "EeIk8EAJdY3E"
   },
   "outputs": [],
   "source": []
  },
  {
   "cell_type": "markdown",
   "metadata": {
    "id": "sXFJTTnkpdcp"
   },
   "source": [
    "# Implementing Backpropagation\n",
    "\n",
    "Now that you have had some experience with single layer networks, we can proceed to more complex architectures. But first we need to completely understand and implement backpropagation.\n",
    "\n",
    "## Backpropagation:\n",
    "\n",
    "Simply put, a way of computing gradients of expressions through repeated application of chain rule. If\n",
    "$$\n",
    "L = f (g (h (\\textbf{x})))\n",
    "$$\n",
    "then, by the chain rule we have:\n",
    "$$\n",
    "\\frac{\\partial L}{\\partial \\textbf{x}} = \\frac{\\partial f}{\\partial g} \\cdot \\frac{\\partial g}{\\partial h} \\cdot \\frac{\\partial h}{\\partial \\textbf{x}} \n",
    "$$\n",
    "\n",
    "** Look into the class Lecture for more detail **\n",
    "\n"
   ]
  },
  {
   "cell_type": "markdown",
   "metadata": {
    "id": "UixM41Rppdcz"
   },
   "source": [
    "# Question 2 : Scalar Backpropagation\n",
    "\n",
    "Evaluate the gradient of the following function w.r.t. the input:\n",
    "\n",
    "$$ f(x,y,z) =  log(\\sigma(\\frac{cos(\\pi \\times x)+sin(\\pi \\times y/2)}{tanh(z^2)}))$$\n",
    "where $\\sigma$ is the sigmoid function. Find gradient for the following inputs:\n",
    "  * $(x,y,z)$ =  (2,4,1)\n",
    "  * $(x,y,z)$ =  (9,14,3)\n",
    "  * $(x,y,z)$ =  (128,42,666)\n",
    "  * $(x,y,z)$ =  (52,14,28)\n",
    "\n",
    "      "
   ]
  },
  {
   "cell_type": "code",
   "execution_count": 35,
   "metadata": {},
   "outputs": [],
   "source": [
    "import numpy as np\n",
    "import math\n"
   ]
  },
  {
   "cell_type": "code",
   "execution_count": 36,
   "metadata": {},
   "outputs": [],
   "source": [
    "\n",
    "class tanh():\n",
    "    def __init__(self):\n",
    "        self.f = None\n",
    "\n",
    "    def forward(self, x):\n",
    "        self.f = np.tanh(x)\n",
    "        return self.f\n",
    "\n",
    "    def backward(self, grad_output):\n",
    "        return (1 - np.square(self.f)) * grad_output\n",
    "\n",
    "class log():\n",
    "    def __init__(self):\n",
    "        self.f = None\n",
    "        self.x = None\n",
    "\n",
    "    def forward(self, x):\n",
    "        self.f = np.log(x)\n",
    "        self.x = x\n",
    "        return self.f\n",
    "\n",
    "    def backward(self, grad_output):\n",
    "        return (1 / self.x) * grad_output\n",
    "\n",
    "class Sigmoid():\n",
    "    def __init__(self):\n",
    "        self.f = None\n",
    "\n",
    "    def forward(self, x):\n",
    "        self.f = 1 / (1 + np.exp(-x))\n",
    "        return self.f\n",
    "\n",
    "    def backward(self, grad_output):\n",
    "        return self.f * (1 - self.f) * grad_output\n",
    "\n",
    "\n",
    "class Func():\n",
    "    def __init__(self):\n",
    "        self.x = None\n",
    "        self.y = None\n",
    "        self.z = None\n",
    "        self.a = None\n",
    "        self.b = None\n",
    "        self.c = None\n",
    "        self.d = None\n",
    "        self.e = None\n",
    "        self.f = None\n",
    "        self.g = None\n",
    "        self.h = None\n",
    "        self.i = None\n",
    "        self.j = None\n",
    "\n",
    "    def forward(self, x, y, z):\n",
    "        self.x, self.y, self.z = x, y, z\n",
    "\n",
    "        self.a = math.pi * self.x\n",
    "        self.b = math.pi * self.y / 2\n",
    "        self.c = np.square(self.z)\n",
    "        self.d = np.cos(self.a)\n",
    "        self.e = np.sin(self.b)\n",
    "        self.f = self.d + self.e\n",
    "        self.g = np.tanh(self.c)\n",
    "        self.h = np.divide(self.f, self.g)\n",
    "        self.i = 1 / (1 + np.exp(-self.h))\n",
    "        self.j = np.log(self.i)\n",
    "        return self.j\n",
    "\n",
    "    def backward(self, grad_output):\n",
    "        out = 1 / self.i\n",
    "        out *= self.i * (1 - self.i)\n",
    "        grad_xy = out * (1 / self.g)\n",
    "\n",
    "        grad_x = (-1) * np.pi * np.sin(self.a) * grad_xy\n",
    "\n",
    "        grad_y = (np.pi / 2) * np.cos(self.b) * grad_xy\n",
    "\n",
    "        grad_z = -out * self.f * (1 / np.square(self.g))\n",
    "        grad_z = grad_z * (1 - np.square(self.g))\n",
    "        grad_z = 2 * self.z * grad_z\n",
    "\n",
    "        return np.array([grad_x, grad_y, grad_z])\n",
    "\n",
    "\n"
   ]
  },
  {
   "cell_type": "code",
   "execution_count": 37,
   "metadata": {},
   "outputs": [
    {
     "name": "stdout",
     "output_type": "stream",
     "text": [
      "Inputs: (2, 4, 1)\n",
      "Output (forward pass): -0.23823101469115085\n",
      "Gradients (backward pass): (2.1417102890343505e-16, 0.43720979194276516, -0.3069722756588883)\n",
      "\n",
      "Inputs: (9, 14, 3)\n",
      "Output (forward pass): -1.3132617097862374\n",
      "Gradients (backward pass): (-2.5313688314302287e-15, -1.148344174369598, 2.672161875217988e-07)\n",
      "\n",
      "Inputs: (128, 42, 666)\n",
      "Output (forward pass): -0.31326168751822314\n",
      "Gradients (backward pass): (1.3244281103803983e-14, -0.42245219681098717, -0.0)\n",
      "\n",
      "Inputs: (52, 14, 28)\n",
      "Output (forward pass): -0.31326168751822253\n",
      "Gradients (backward pass): (-6.6263243875773434e-15, -0.42245219681098645, -0.0)\n",
      "\n"
     ]
    }
   ],
   "source": [
    "\n",
    "func = Func()\n",
    "\n",
    "inputs = [(2, 4, 1), (9, 14, 3), (128, 42, 666), (52, 14, 28)]\n",
    "\n",
    "for input_ in inputs:\n",
    "    x, y, z = input_\n",
    "    print(f\"Inputs: ({x}, {y}, {z})\")\n",
    "    output = func.forward(x, y, z)\n",
    "    grads = func.backward(1)\n",
    "    print(f\"Output (forward pass): {output}\")\n",
    "    print(f\"Gradients (backward pass): ({grads[0]}, {grads[1]}, {grads[2]})\")\n",
    "    print()\n"
   ]
  },
  {
   "cell_type": "code",
   "execution_count": 32,
   "metadata": {},
   "outputs": [
    {
     "name": "stdout",
     "output_type": "stream",
     "text": [
      "Gradient for [2 4 1]: [ 0.          0.43720979 -0.30697228]\n",
      "Gradient for [ 9 14  3]: [ 0.00000000e+00 -1.14834417e+00  2.67216166e-07]\n",
      "Gradient for [128  42 666]: [ 3.30306832e-15 -4.22452197e-01  0.00000000e+00]\n",
      "Gradient for [52 14 28]: [ 4.66610457e-15 -4.22452197e-01  0.00000000e+00]\n"
     ]
    }
   ],
   "source": [
    "# verify/check\n",
    "\n",
    "import numpy as np\n",
    "from scipy.special import expit\n",
    "from numdifftools import Gradient\n",
    "\n",
    "def func(x):\n",
    "    a = np.cos(np.pi*x[0]) + np.sin(np.pi*x[1]/2)\n",
    "    b = np.tanh(x[2]**2)\n",
    "    return np.log(expit(a/b))\n",
    "\n",
    "inputs = np.array([[2, 4, 1], [9, 14, 3], [128, 42, 666], [52, 14, 28]])\n",
    "\n",
    "for i in inputs:\n",
    "    grad = Gradient(func)(i)\n",
    "    print(f\"Gradient for {i}: {grad}\")\n"
   ]
  },
  {
   "cell_type": "code",
   "execution_count": null,
   "metadata": {},
   "outputs": [],
   "source": []
  },
  {
   "cell_type": "markdown",
   "metadata": {
    "id": "rYE4dEd-pdef"
   },
   "source": [
    "## Question 3 : Modular Vector Backpropagation\n",
    "\n",
    "* Construct a Linear Layer module, implementing the forward and backward functions for arbitrary sizes.\n",
    "* Construct a ReLU module, implementing the forward and backward functions for arbitrary sizes.\n",
    "* Create a 2 layer MLP using the constructed modules.\n",
    "\n",
    "* Modifying the functions built in Question 1 , train this two layer MLP for the same data set, MNIST, with the same train-val split."
   ]
  },
  {
   "cell_type": "code",
   "execution_count": 14,
   "metadata": {
    "id": "BB1eY35VdY3I"
   },
   "outputs": [],
   "source": [
    "# Load the data\n",
    "X_train, y_train = load_mnist('data', kind='train')\n",
    "X_test, y_test = load_mnist('data', kind='t10k')\n",
    "\n",
    "# Normalize the data\n",
    "X_train = X_train / 255.0\n",
    "X_test = X_test / 255.0\n",
    "\n",
    "# Split the training data into training and validation sets\n",
    "train_size = int(X_train.shape[0] * 0.8)\n",
    "\n",
    "X_val = X_train[train_size:]\n",
    "y_val = y_train[train_size:]\n",
    "\n",
    "X_train = X_train[:train_size]\n",
    "y_train = y_train[:train_size]"
   ]
  },
  {
   "cell_type": "code",
   "execution_count": 15,
   "metadata": {
    "id": "8go_t5lyAEUj"
   },
   "outputs": [
    {
     "name": "stdout",
     "output_type": "stream",
     "text": [
      "Train data shape:  (48000, 784)\n",
      "Label data shape:  (48000,)\n",
      "Validation data shape:  (12000, 784)\n",
      "Test data shape:  (10000, 784)\n"
     ]
    }
   ],
   "source": [
    "\n",
    "# Print the shapes of the data sets\n",
    "print(\"Train data shape: \", X_train.shape)\n",
    "print(\"Label data shape: \", y_train.shape)\n",
    "print(\"Validation data shape: \", X_val.shape)\n",
    "print(\"Test data shape: \", X_test.shape)\n"
   ]
  },
  {
   "cell_type": "code",
   "execution_count": 16,
   "metadata": {},
   "outputs": [],
   "source": [
    "# Class for ReLU\n",
    "class ReLU:\n",
    "    def forward(self, X):\n",
    "        self.X = X\n",
    "        return np.maximum(0, X)\n",
    "\n",
    "    def backward(self, dout):\n",
    "        return dout * (self.X > 0)\n",
    "\n",
    "    \n",
    "# Class for Linear Layer\n",
    "class LinearLayer:\n",
    "    def __init__(self, input_size, output_size):\n",
    "        self.W = np.random.normal(0, 1e-3, (input_size, output_size)) \n",
    "        self.b = np.zeros((1, output_size))\n",
    "\n",
    "    def forward(self, X):\n",
    "        self.X = X\n",
    "        return np.dot(X, self.W) + self.b\n",
    "\n",
    "    def backward(self, dout):\n",
    "        dX = np.dot(dout, self.W.T)\n",
    "        self.dW = np.dot(self.X.T, dout)\n",
    "        self.db = np.sum(dout, axis=0)\n",
    "        return dX\n",
    "\n",
    "    \n",
    "# Your 2 layer MLP \n",
    "class MLP:\n",
    "    def __init__(self, input_size, hidden_size, output_size):\n",
    "        self.fc1 = LinearLayer(input_size, hidden_size)\n",
    "        self.relu = ReLU()\n",
    "        self.fc2 = LinearLayer(hidden_size, output_size)\n",
    "\n",
    "    def forward(self, X):\n",
    "        self.a1 = self.fc1.forward(X)\n",
    "        self.h1 = self.relu.forward(self.a1)\n",
    "        self.a2 = self.fc2.forward(self.h1)\n",
    "        return self.a2\n",
    "\n",
    "    def backward(self, dout):\n",
    "        dout = self.fc2.backward(dout)\n",
    "        dout = self.relu.backward(dout)\n",
    "        dout = self.fc1.backward(dout)\n",
    "        return dout\n",
    "\n"
   ]
  },
  {
   "cell_type": "code",
   "execution_count": 17,
   "metadata": {
    "id": "7fgioKxhdY3I"
   },
   "outputs": [],
   "source": [
    "def softmax(scores):\n",
    "    scores -= np.max(scores)\n",
    "    probabilities = np.exp(scores) / np.sum(np.exp(scores), axis=1, keepdims=True)\n",
    "    return probabilities\n",
    "\n",
    "def loss_function(input_y, scores, lmbda, W):\n",
    "    num_examples = scores.shape[0]\n",
    "    probabilities = softmax(scores)\n",
    "    \n",
    "    corect_logprobs = -np.log(probabilities[range(num_examples),input_y])\n",
    "    data_loss = np.sum(corect_logprobs) / num_examples\n",
    "    reg_loss = 0.5 * lmbda * sum(np.sum(Wi**2) for Wi in W)\n",
    "    loss = data_loss + reg_loss\n",
    "    \n",
    "    dscores = probabilities\n",
    "    dscores[range(num_examples),input_y] -= 1\n",
    "    dscores /= num_examples\n",
    "    \n",
    "    return loss, dscores\n"
   ]
  },
  {
   "cell_type": "code",
   "execution_count": 18,
   "metadata": {},
   "outputs": [],
   "source": [
    "\n",
    "# Create an instance of Single_layer_classifier\n",
    "input_size = X_train.shape[1]  # 784\n",
    "num_classes = output_size = 10\n",
    "\n",
    "hidden_size = 128\n",
    "\n",
    "# instantiate the model\n",
    "model = MLP(input_size, hidden_size, num_classes)\n"
   ]
  },
  {
   "cell_type": "code",
   "execution_count": 69,
   "metadata": {},
   "outputs": [],
   "source": [
    "\n",
    "# Set hyperparameters\n",
    "\n",
    "# Learning rate \n",
    "learning_rate = 1e-3\n",
    "\n",
    "lmbda = 1e-3   #regularization coeff\n",
    "num_epochs = 1000\n",
    "batch_size = 64\n",
    "\n",
    "\n"
   ]
  },
  {
   "cell_type": "code",
   "execution_count": 70,
   "metadata": {},
   "outputs": [
    {
     "data": {
      "application/vnd.jupyter.widget-view+json": {
       "model_id": "f75c1e790e2c4986ba4330380c25b4f1",
       "version_major": 2,
       "version_minor": 0
      },
      "text/plain": [
       "  0%|          | 0/1000 [00:00<?, ?it/s]"
      ]
     },
     "metadata": {},
     "output_type": "display_data"
    },
    {
     "name": "stdout",
     "output_type": "stream",
     "text": [
      "Epoch 1/1000, Train Loss: 2.3025, Val Loss: 2.3024, Train Accuracy: 11.40%, Val Accuracy: 10.60%\n",
      "Epoch 11/1000, Train Loss: 2.2285, Val Loss: 2.2030, Train Accuracy: 29.28%, Val Accuracy: 29.01%\n",
      "Epoch 21/1000, Train Loss: 1.0937, Val Loss: 1.0346, Train Accuracy: 71.35%, Val Accuracy: 73.24%\n",
      "Epoch 31/1000, Train Loss: 0.6644, Val Loss: 0.6249, Train Accuracy: 82.36%, Val Accuracy: 83.93%\n",
      "Epoch 41/1000, Train Loss: 0.5220, Val Loss: 0.4909, Train Accuracy: 86.28%, Val Accuracy: 87.31%\n",
      "Epoch 51/1000, Train Loss: 0.4577, Val Loss: 0.4313, Train Accuracy: 87.97%, Val Accuracy: 88.78%\n",
      "Epoch 61/1000, Train Loss: 0.4213, Val Loss: 0.3981, Train Accuracy: 88.89%, Val Accuracy: 89.68%\n",
      "Epoch 71/1000, Train Loss: 0.3973, Val Loss: 0.3759, Train Accuracy: 89.55%, Val Accuracy: 90.21%\n",
      "Epoch 81/1000, Train Loss: 0.3796, Val Loss: 0.3594, Train Accuracy: 90.05%, Val Accuracy: 90.66%\n",
      "Epoch 91/1000, Train Loss: 0.3653, Val Loss: 0.3465, Train Accuracy: 90.38%, Val Accuracy: 90.97%\n",
      "Epoch 101/1000, Train Loss: 0.3534, Val Loss: 0.3357, Train Accuracy: 90.72%, Val Accuracy: 91.33%\n",
      "Epoch 111/1000, Train Loss: 0.3431, Val Loss: 0.3265, Train Accuracy: 91.04%, Val Accuracy: 91.63%\n",
      "Epoch 121/1000, Train Loss: 0.3339, Val Loss: 0.3183, Train Accuracy: 91.33%, Val Accuracy: 91.83%\n",
      "Epoch 131/1000, Train Loss: 0.3255, Val Loss: 0.3110, Train Accuracy: 91.58%, Val Accuracy: 92.07%\n",
      "Epoch 141/1000, Train Loss: 0.3177, Val Loss: 0.3043, Train Accuracy: 91.82%, Val Accuracy: 92.22%\n",
      "Epoch 151/1000, Train Loss: 0.3106, Val Loss: 0.2983, Train Accuracy: 92.11%, Val Accuracy: 92.42%\n",
      "Epoch 161/1000, Train Loss: 0.3039, Val Loss: 0.2926, Train Accuracy: 92.26%, Val Accuracy: 92.61%\n",
      "Epoch 171/1000, Train Loss: 0.2977, Val Loss: 0.2874, Train Accuracy: 92.49%, Val Accuracy: 92.80%\n",
      "Epoch 181/1000, Train Loss: 0.2919, Val Loss: 0.2825, Train Accuracy: 92.68%, Val Accuracy: 92.98%\n",
      "Epoch 191/1000, Train Loss: 0.2864, Val Loss: 0.2780, Train Accuracy: 92.89%, Val Accuracy: 93.17%\n",
      "Epoch 201/1000, Train Loss: 0.2812, Val Loss: 0.2737, Train Accuracy: 93.07%, Val Accuracy: 93.33%\n",
      "Epoch 211/1000, Train Loss: 0.2762, Val Loss: 0.2697, Train Accuracy: 93.24%, Val Accuracy: 93.48%\n",
      "Epoch 221/1000, Train Loss: 0.2716, Val Loss: 0.2659, Train Accuracy: 93.39%, Val Accuracy: 93.59%\n",
      "Epoch 231/1000, Train Loss: 0.2671, Val Loss: 0.2623, Train Accuracy: 93.51%, Val Accuracy: 93.75%\n",
      "Epoch 241/1000, Train Loss: 0.2629, Val Loss: 0.2590, Train Accuracy: 93.67%, Val Accuracy: 93.97%\n",
      "Epoch 251/1000, Train Loss: 0.2588, Val Loss: 0.2557, Train Accuracy: 93.82%, Val Accuracy: 94.09%\n",
      "Epoch 261/1000, Train Loss: 0.2550, Val Loss: 0.2526, Train Accuracy: 93.96%, Val Accuracy: 94.19%\n",
      "Epoch 271/1000, Train Loss: 0.2513, Val Loss: 0.2498, Train Accuracy: 94.11%, Val Accuracy: 94.39%\n",
      "Epoch 281/1000, Train Loss: 0.2479, Val Loss: 0.2470, Train Accuracy: 94.23%, Val Accuracy: 94.51%\n",
      "Epoch 291/1000, Train Loss: 0.2446, Val Loss: 0.2444, Train Accuracy: 94.34%, Val Accuracy: 94.56%\n",
      "Epoch 301/1000, Train Loss: 0.2414, Val Loss: 0.2419, Train Accuracy: 94.46%, Val Accuracy: 94.72%\n",
      "Epoch 311/1000, Train Loss: 0.2383, Val Loss: 0.2396, Train Accuracy: 94.60%, Val Accuracy: 94.77%\n",
      "Epoch 321/1000, Train Loss: 0.2354, Val Loss: 0.2373, Train Accuracy: 94.71%, Val Accuracy: 94.86%\n",
      "Epoch 331/1000, Train Loss: 0.2327, Val Loss: 0.2352, Train Accuracy: 94.82%, Val Accuracy: 94.92%\n",
      "Epoch 341/1000, Train Loss: 0.2300, Val Loss: 0.2332, Train Accuracy: 94.93%, Val Accuracy: 95.05%\n",
      "Epoch 351/1000, Train Loss: 0.2275, Val Loss: 0.2313, Train Accuracy: 95.04%, Val Accuracy: 95.17%\n",
      "Epoch 361/1000, Train Loss: 0.2250, Val Loss: 0.2295, Train Accuracy: 95.11%, Val Accuracy: 95.21%\n",
      "Epoch 371/1000, Train Loss: 0.2227, Val Loss: 0.2278, Train Accuracy: 95.22%, Val Accuracy: 95.32%\n",
      "Epoch 381/1000, Train Loss: 0.2205, Val Loss: 0.2262, Train Accuracy: 95.29%, Val Accuracy: 95.36%\n",
      "Epoch 391/1000, Train Loss: 0.2184, Val Loss: 0.2246, Train Accuracy: 95.36%, Val Accuracy: 95.44%\n",
      "Epoch 401/1000, Train Loss: 0.2163, Val Loss: 0.2231, Train Accuracy: 95.45%, Val Accuracy: 95.47%\n",
      "Epoch 411/1000, Train Loss: 0.2144, Val Loss: 0.2217, Train Accuracy: 95.53%, Val Accuracy: 95.49%\n",
      "Epoch 421/1000, Train Loss: 0.2125, Val Loss: 0.2204, Train Accuracy: 95.60%, Val Accuracy: 95.56%\n",
      "Epoch 431/1000, Train Loss: 0.2107, Val Loss: 0.2192, Train Accuracy: 95.69%, Val Accuracy: 95.60%\n",
      "Epoch 441/1000, Train Loss: 0.2090, Val Loss: 0.2180, Train Accuracy: 95.76%, Val Accuracy: 95.63%\n",
      "Epoch 451/1000, Train Loss: 0.2074, Val Loss: 0.2168, Train Accuracy: 95.84%, Val Accuracy: 95.73%\n",
      "Epoch 461/1000, Train Loss: 0.2058, Val Loss: 0.2158, Train Accuracy: 95.90%, Val Accuracy: 95.76%\n",
      "Epoch 471/1000, Train Loss: 0.2043, Val Loss: 0.2148, Train Accuracy: 95.94%, Val Accuracy: 95.80%\n",
      "Epoch 481/1000, Train Loss: 0.2028, Val Loss: 0.2138, Train Accuracy: 96.02%, Val Accuracy: 95.82%\n",
      "Epoch 491/1000, Train Loss: 0.2014, Val Loss: 0.2129, Train Accuracy: 96.09%, Val Accuracy: 95.86%\n",
      "Epoch 500/1000, Train Loss: 0.2002, Val Loss: 0.2122, Train Accuracy: 96.14%, Val Accuracy: 95.89%\n",
      "Epoch 501/1000, Train Loss: 0.2001, Val Loss: 0.2120, Train Accuracy: 96.15%, Val Accuracy: 95.89%\n",
      "Epoch 511/1000, Train Loss: 0.1988, Val Loss: 0.2112, Train Accuracy: 96.22%, Val Accuracy: 95.93%\n",
      "Epoch 521/1000, Train Loss: 0.1976, Val Loss: 0.2105, Train Accuracy: 96.28%, Val Accuracy: 96.00%\n",
      "Epoch 531/1000, Train Loss: 0.1964, Val Loss: 0.2098, Train Accuracy: 96.36%, Val Accuracy: 95.97%\n",
      "Epoch 541/1000, Train Loss: 0.1953, Val Loss: 0.2092, Train Accuracy: 96.40%, Val Accuracy: 96.03%\n",
      "Epoch 551/1000, Train Loss: 0.1942, Val Loss: 0.2085, Train Accuracy: 96.47%, Val Accuracy: 96.06%\n",
      "Epoch 561/1000, Train Loss: 0.1932, Val Loss: 0.2080, Train Accuracy: 96.50%, Val Accuracy: 96.13%\n",
      "Epoch 571/1000, Train Loss: 0.1922, Val Loss: 0.2074, Train Accuracy: 96.56%, Val Accuracy: 96.12%\n",
      "Epoch 581/1000, Train Loss: 0.1913, Val Loss: 0.2070, Train Accuracy: 96.62%, Val Accuracy: 96.13%\n",
      "Epoch 591/1000, Train Loss: 0.1904, Val Loss: 0.2065, Train Accuracy: 96.67%, Val Accuracy: 96.23%\n",
      "Epoch 601/1000, Train Loss: 0.1895, Val Loss: 0.2061, Train Accuracy: 96.73%, Val Accuracy: 96.30%\n",
      "Epoch 611/1000, Train Loss: 0.1887, Val Loss: 0.2057, Train Accuracy: 96.78%, Val Accuracy: 96.30%\n",
      "Epoch 621/1000, Train Loss: 0.1879, Val Loss: 0.2054, Train Accuracy: 96.85%, Val Accuracy: 96.34%\n",
      "Epoch 631/1000, Train Loss: 0.1872, Val Loss: 0.2050, Train Accuracy: 96.89%, Val Accuracy: 96.38%\n",
      "Epoch 641/1000, Train Loss: 0.1865, Val Loss: 0.2048, Train Accuracy: 96.96%, Val Accuracy: 96.41%\n",
      "Epoch 651/1000, Train Loss: 0.1858, Val Loss: 0.2045, Train Accuracy: 97.01%, Val Accuracy: 96.42%\n",
      "Epoch 661/1000, Train Loss: 0.1851, Val Loss: 0.2043, Train Accuracy: 97.04%, Val Accuracy: 96.43%\n",
      "Epoch 671/1000, Train Loss: 0.1845, Val Loss: 0.2041, Train Accuracy: 97.09%, Val Accuracy: 96.49%\n",
      "Epoch 681/1000, Train Loss: 0.1840, Val Loss: 0.2040, Train Accuracy: 97.14%, Val Accuracy: 96.47%\n",
      "Epoch 691/1000, Train Loss: 0.1834, Val Loss: 0.2037, Train Accuracy: 97.19%, Val Accuracy: 96.47%\n",
      "Epoch 701/1000, Train Loss: 0.1829, Val Loss: 0.2037, Train Accuracy: 97.23%, Val Accuracy: 96.49%\n",
      "Epoch 711/1000, Train Loss: 0.1824, Val Loss: 0.2036, Train Accuracy: 97.25%, Val Accuracy: 96.54%\n",
      "Epoch 721/1000, Train Loss: 0.1819, Val Loss: 0.2036, Train Accuracy: 97.29%, Val Accuracy: 96.53%\n",
      "Epoch 731/1000, Train Loss: 0.1815, Val Loss: 0.2035, Train Accuracy: 97.32%, Val Accuracy: 96.57%\n",
      "Epoch 741/1000, Train Loss: 0.1811, Val Loss: 0.2035, Train Accuracy: 97.35%, Val Accuracy: 96.62%\n",
      "Epoch 751/1000, Train Loss: 0.1807, Val Loss: 0.2035, Train Accuracy: 97.39%, Val Accuracy: 96.62%\n",
      "Epoch 761/1000, Train Loss: 0.1803, Val Loss: 0.2035, Train Accuracy: 97.43%, Val Accuracy: 96.65%\n",
      "Epoch 771/1000, Train Loss: 0.1800, Val Loss: 0.2035, Train Accuracy: 97.46%, Val Accuracy: 96.67%\n",
      "Epoch 781/1000, Train Loss: 0.1796, Val Loss: 0.2035, Train Accuracy: 97.49%, Val Accuracy: 96.70%\n",
      "Epoch 791/1000, Train Loss: 0.1793, Val Loss: 0.2036, Train Accuracy: 97.52%, Val Accuracy: 96.69%\n",
      "Epoch 801/1000, Train Loss: 0.1791, Val Loss: 0.2036, Train Accuracy: 97.56%, Val Accuracy: 96.73%\n",
      "Epoch 811/1000, Train Loss: 0.1788, Val Loss: 0.2037, Train Accuracy: 97.59%, Val Accuracy: 96.73%\n"
     ]
    },
    {
     "name": "stdout",
     "output_type": "stream",
     "text": [
      "Epoch 821/1000, Train Loss: 0.1785, Val Loss: 0.2039, Train Accuracy: 97.60%, Val Accuracy: 96.78%\n",
      "Epoch 831/1000, Train Loss: 0.1783, Val Loss: 0.2040, Train Accuracy: 97.62%, Val Accuracy: 96.80%\n",
      "Epoch 841/1000, Train Loss: 0.1781, Val Loss: 0.2041, Train Accuracy: 97.65%, Val Accuracy: 96.80%\n",
      "Epoch 851/1000, Train Loss: 0.1779, Val Loss: 0.2043, Train Accuracy: 97.69%, Val Accuracy: 96.82%\n",
      "Epoch 861/1000, Train Loss: 0.1777, Val Loss: 0.2044, Train Accuracy: 97.72%, Val Accuracy: 96.82%\n",
      "Epoch 871/1000, Train Loss: 0.1775, Val Loss: 0.2046, Train Accuracy: 97.75%, Val Accuracy: 96.84%\n",
      "Epoch 881/1000, Train Loss: 0.1773, Val Loss: 0.2048, Train Accuracy: 97.78%, Val Accuracy: 96.84%\n",
      "Epoch 891/1000, Train Loss: 0.1772, Val Loss: 0.2049, Train Accuracy: 97.82%, Val Accuracy: 96.83%\n",
      "Epoch 901/1000, Train Loss: 0.1770, Val Loss: 0.2051, Train Accuracy: 97.85%, Val Accuracy: 96.88%\n",
      "Epoch 911/1000, Train Loss: 0.1769, Val Loss: 0.2053, Train Accuracy: 97.87%, Val Accuracy: 96.88%\n",
      "Epoch 921/1000, Train Loss: 0.1768, Val Loss: 0.2055, Train Accuracy: 97.90%, Val Accuracy: 96.89%\n",
      "Epoch 931/1000, Train Loss: 0.1767, Val Loss: 0.2058, Train Accuracy: 97.93%, Val Accuracy: 96.91%\n",
      "Epoch 941/1000, Train Loss: 0.1766, Val Loss: 0.2060, Train Accuracy: 97.95%, Val Accuracy: 96.92%\n",
      "Epoch 951/1000, Train Loss: 0.1766, Val Loss: 0.2062, Train Accuracy: 97.97%, Val Accuracy: 96.91%\n",
      "Epoch 961/1000, Train Loss: 0.1765, Val Loss: 0.2065, Train Accuracy: 98.00%, Val Accuracy: 96.93%\n",
      "Epoch 971/1000, Train Loss: 0.1765, Val Loss: 0.2068, Train Accuracy: 98.02%, Val Accuracy: 96.94%\n",
      "Epoch 981/1000, Train Loss: 0.1764, Val Loss: 0.2070, Train Accuracy: 98.05%, Val Accuracy: 96.95%\n",
      "Epoch 991/1000, Train Loss: 0.1764, Val Loss: 0.2073, Train Accuracy: 98.06%, Val Accuracy: 96.97%\n",
      "Epoch 1000/1000, Train Loss: 0.1764, Val Loss: 0.2076, Train Accuracy: 98.09%, Val Accuracy: 96.98%\n"
     ]
    }
   ],
   "source": [
    "\n",
    "# Training loop\n",
    "\n",
    "# Lists to store performance data for plotting\n",
    "train_loss_history = []\n",
    "val_loss_history = []\n",
    "train_accuracy_history = []\n",
    "val_accuracy_history = []\n",
    "\n",
    "for epoch in tqdm(range(num_epochs)):\n",
    "    losses = []\n",
    "    #learning_rate *= decay_rate\n",
    "    for input_x, input_y in get_minibatch(batch_size):\n",
    "        # Forward pass\n",
    "        scores = model.forward(input_x)\n",
    "        \n",
    "        # Calculate loss and gradient\n",
    "        loss, dscores = loss_function(input_y, scores, lmbda, [model.fc1.W, model.fc2.W])\n",
    "        losses.append(loss)\n",
    "        \n",
    "        # Backward pass\n",
    "        model.backward(dscores)\n",
    "        \n",
    "        # Update weights and bias\n",
    "        model.fc1.W -= learning_rate * model.fc1.dW\n",
    "        model.fc1.b -= learning_rate * model.fc1.db\n",
    "        model.fc2.W -= learning_rate * model.fc2.dW\n",
    "        model.fc2.b -= learning_rate * model.fc2.db\n",
    "\n",
    "    # After each epoch, calculate and print loss and accuracy\n",
    "    avg_train_loss = np.mean(losses)  # average loss of all batches\n",
    "\n",
    "    # Calculate validation loss\n",
    "    val_scores = model.forward(X_val)  # output values\n",
    "    val_loss, _ = loss_function(y_val, val_scores, lmbda, [model.fc1.W, model.fc2.W])  # for entire validation dataset \n",
    "\n",
    "    train_acc = calculate_accuracy(X_train, y_train, model)\n",
    "    val_acc = calculate_accuracy(X_val, y_val, model)\n",
    "\n",
    "    if(epoch % 10 == 0 or epoch == 499 or epoch == 999):\n",
    "        print(f\"Epoch {epoch+1}/{num_epochs}, Train Loss: {avg_train_loss:.4f}, Val Loss: {val_loss:.4f}, Train Accuracy: {train_acc*100:.2f}%, Val Accuracy: {val_acc*100:.2f}%\")\n",
    "\n",
    "    # Store loss and accuracy for plotting\n",
    "    train_loss_history.append(avg_train_loss)\n",
    "    val_loss_history.append(val_loss)\n",
    "    train_accuracy_history.append(train_acc)\n",
    "    val_accuracy_history.append(val_acc)"
   ]
  },
  {
   "cell_type": "markdown",
   "metadata": {
    "id": "W5kCcgl4dY3J"
   },
   "source": [
    "### Plot the training loss and validation loss"
   ]
  },
  {
   "cell_type": "code",
   "execution_count": 71,
   "metadata": {
    "colab": {
     "base_uri": "https://localhost:8080/",
     "height": 265
    },
    "id": "9Vhm1LeydY3K",
    "outputId": "9ae80c37-5aef-40af-8596-24f62d934279"
   },
   "outputs": [
    {
     "data": {
      "image/png": "[encoded data removed]",
      "text/plain": [
       "<Figure size 640x480 with 1 Axes>"
      ]
     },
     "metadata": {},
     "output_type": "display_data"
    }
   ],
   "source": [
    "plt.plot(train_loss_history, color=\"r\", label=\"training_loss\")\n",
    "plt.plot(val_loss_history, color=\"g\", label=\"validation_loss\")\n",
    "plt.legend()\n",
    "plt.show()"
   ]
  },
  {
   "cell_type": "markdown",
   "metadata": {
    "id": "vyWN5MgidY3K"
   },
   "source": [
    "### Plotting training loss vs training accuracy."
   ]
  },
  {
   "cell_type": "code",
   "execution_count": 72,
   "metadata": {},
   "outputs": [
    {
     "data": {
      "image/png": "[encoded data removed]",
      "text/plain": [
       "<Figure size 640x480 with 1 Axes>"
      ]
     },
     "metadata": {},
     "output_type": "display_data"
    }
   ],
   "source": [
    "# WRITE CODE HERE\n",
    "plt.plot(train_loss_history, color=\"r\", label=\"training_loss\")\n",
    "plt.plot(train_accuracy_history, color=\"g\", label=\"training_accuracy\")\n",
    "plt.legend()\n",
    "plt.show()"
   ]
  },
  {
   "cell_type": "markdown",
   "metadata": {
    "id": "Wx0YUz_TxOAN"
   },
   "source": [
    "### Find the accuracy on the validation set\n"
   ]
  },
  {
   "cell_type": "code",
   "execution_count": 73,
   "metadata": {
    "colab": {
     "base_uri": "https://localhost:8080/",
     "height": 265
    },
    "id": "bC22U-UjdY3L",
    "outputId": "4524a15e-4278-4eb9-d07a-67fb58197aab"
   },
   "outputs": [
    {
     "data": {
      "image/png": "[encoded data removed]",
      "text/plain": [
       "<Figure size 640x480 with 1 Axes>"
      ]
     },
     "metadata": {},
     "output_type": "display_data"
    }
   ],
   "source": [
    "# WRITE CODE HERE\n",
    "\n",
    "plt.plot(train_accuracy_history, color=\"b\", label=\"training_accuracy\")\n",
    "plt.plot(val_accuracy_history, color=\"y\", label=\"validation_accuracy\")\n",
    "plt.legend()\n",
    "plt.show()\n",
    "\n"
   ]
  },
  {
   "cell_type": "markdown",
   "metadata": {
    "id": "kVFJu-ykdY3L"
   },
   "source": [
    "### Accuracy of the model on train and test data."
   ]
  },
  {
   "cell_type": "code",
   "execution_count": 74,
   "metadata": {},
   "outputs": [
    {
     "name": "stdout",
     "output_type": "stream",
     "text": [
      "Training accuracy: 98.09%\n",
      "Testing accuracy: 97.18%\n"
     ]
    }
   ],
   "source": [
    "# Calculate accuracy on the training data\n",
    "train_accuracy = calculate_accuracy(X_train, y_train, model)\n",
    "print(f'Training accuracy: {train_accuracy * 100:.2f}%')\n",
    "\n",
    "# Calculate accuracy on the testing data\n",
    "test_accuracy = calculate_accuracy(X_test, y_test, model)\n",
    "print(f'Testing accuracy: {test_accuracy * 100:.2f}%')\n"
   ]
  },
  {
   "cell_type": "markdown",
   "metadata": {
    "id": "CHLEwUr6nAyG"
   },
   "source": [
    "## GridSearch:\n",
    "### Tuning 2 Hyper parameters lambda (regularization coefficient) and learning rate (with num_epochs = 100)."
   ]
  },
  {
   "cell_type": "code",
   "execution_count": 140,
   "metadata": {
    "id": "hz_BJM_7GRH0"
   },
   "outputs": [
    {
     "data": {
      "application/vnd.jupyter.widget-view+json": {
       "model_id": "ad3f3e99741b45c1887975b38bc97104",
       "version_major": 2,
       "version_minor": 0
      },
      "text/plain": [
       "  0%|          | 0/100 [00:00<?, ?it/s]"
      ]
     },
     "metadata": {},
     "output_type": "display_data"
    },
    {
     "name": "stdout",
     "output_type": "stream",
     "text": [
      "Learning rate: 0.001, Regularization coefficient: 0.001, Validation accuracy: 0.9129166666666667\n"
     ]
    },
    {
     "data": {
      "application/vnd.jupyter.widget-view+json": {
       "model_id": "177668b706cd4ccbb388a91fc8e0ada3",
       "version_major": 2,
       "version_minor": 0
      },
      "text/plain": [
       "  0%|          | 0/100 [00:00<?, ?it/s]"
      ]
     },
     "metadata": {},
     "output_type": "display_data"
    },
    {
     "name": "stdout",
     "output_type": "stream",
     "text": [
      "Learning rate: 0.001, Regularization coefficient: 0.0001, Validation accuracy: 0.91175\n"
     ]
    },
    {
     "data": {
      "application/vnd.jupyter.widget-view+json": {
       "model_id": "7d5342fb2a6d4ba4af76de2c25a66274",
       "version_major": 2,
       "version_minor": 0
      },
      "text/plain": [
       "  0%|          | 0/100 [00:00<?, ?it/s]"
      ]
     },
     "metadata": {},
     "output_type": "display_data"
    },
    {
     "name": "stdout",
     "output_type": "stream",
     "text": [
      "Learning rate: 0.001, Regularization coefficient: 1e-05, Validation accuracy: 0.913\n"
     ]
    },
    {
     "data": {
      "application/vnd.jupyter.widget-view+json": {
       "model_id": "7e456d95244b45a9ab1a191017fb6b49",
       "version_major": 2,
       "version_minor": 0
      },
      "text/plain": [
       "  0%|          | 0/100 [00:00<?, ?it/s]"
      ]
     },
     "metadata": {},
     "output_type": "display_data"
    },
    {
     "name": "stdout",
     "output_type": "stream",
     "text": [
      "Learning rate: 0.0001, Regularization coefficient: 0.001, Validation accuracy: 0.24841666666666667\n"
     ]
    },
    {
     "data": {
      "application/vnd.jupyter.widget-view+json": {
       "model_id": "e963529fb8114a64819f804589a91cf3",
       "version_major": 2,
       "version_minor": 0
      },
      "text/plain": [
       "  0%|          | 0/100 [00:00<?, ?it/s]"
      ]
     },
     "metadata": {},
     "output_type": "display_data"
    },
    {
     "name": "stdout",
     "output_type": "stream",
     "text": [
      "Learning rate: 0.0001, Regularization coefficient: 0.0001, Validation accuracy: 0.24683333333333332\n"
     ]
    },
    {
     "data": {
      "application/vnd.jupyter.widget-view+json": {
       "model_id": "40117b5af78e4d3ba5717bb952d6892e",
       "version_major": 2,
       "version_minor": 0
      },
      "text/plain": [
       "  0%|          | 0/100 [00:00<?, ?it/s]"
      ]
     },
     "metadata": {},
     "output_type": "display_data"
    },
    {
     "name": "stdout",
     "output_type": "stream",
     "text": [
      "Learning rate: 0.0001, Regularization coefficient: 1e-05, Validation accuracy: 0.2649166666666667\n"
     ]
    },
    {
     "data": {
      "application/vnd.jupyter.widget-view+json": {
       "model_id": "236226b4b45f4b0985bb70474b14d6b8",
       "version_major": 2,
       "version_minor": 0
      },
      "text/plain": [
       "  0%|          | 0/100 [00:00<?, ?it/s]"
      ]
     },
     "metadata": {},
     "output_type": "display_data"
    },
    {
     "name": "stdout",
     "output_type": "stream",
     "text": [
      "Learning rate: 1e-05, Regularization coefficient: 0.001, Validation accuracy: 0.106\n"
     ]
    },
    {
     "data": {
      "application/vnd.jupyter.widget-view+json": {
       "model_id": "e50481e10dbd42fe82bd498b65443401",
       "version_major": 2,
       "version_minor": 0
      },
      "text/plain": [
       "  0%|          | 0/100 [00:00<?, ?it/s]"
      ]
     },
     "metadata": {},
     "output_type": "display_data"
    },
    {
     "name": "stdout",
     "output_type": "stream",
     "text": [
      "Learning rate: 1e-05, Regularization coefficient: 0.0001, Validation accuracy: 0.106\n"
     ]
    },
    {
     "data": {
      "application/vnd.jupyter.widget-view+json": {
       "model_id": "1a274022d58144d8b477d80f748af136",
       "version_major": 2,
       "version_minor": 0
      },
      "text/plain": [
       "  0%|          | 0/100 [00:00<?, ?it/s]"
      ]
     },
     "metadata": {},
     "output_type": "display_data"
    },
    {
     "name": "stdout",
     "output_type": "stream",
     "text": [
      "Learning rate: 1e-05, Regularization coefficient: 1e-05, Validation accuracy: 0.106\n",
      "\n",
      "Best lambda: 1e-05, Best learning rate: 0.001, Best validation accuracy: 0.913\n"
     ]
    }
   ],
   "source": [
    "# Define the hyperparameters to search over\n",
    "learning_rates = [1e-3, 1e-4, 1e-5]\n",
    "regularization_strengths = [1e-3, 1e-4, 1e-5]\n",
    "\n",
    "# Initialize variables to store the best model and the highest validation accuracy\n",
    "best_model = None\n",
    "best_val_accuracy = -1\n",
    "\n",
    "num_epochs = 100\n",
    "\n",
    "# Grid search over the hyperparameters\n",
    "for lr in learning_rates:\n",
    "    for lmbda in regularization_strengths:\n",
    "        # Train a model with the current hyperparameters\n",
    "        model = MLP(input_size, hidden_size, num_classes)  # instantiate\n",
    "        for epoch in tqdm(range(num_epochs)):\n",
    "            for input_x, input_y in get_minibatch(batch_size):\n",
    "                # Forward pass\n",
    "                scores = model.forward(input_x)\n",
    "                \n",
    "                # Calculate loss and gradient\n",
    "                loss, dscores = loss_function(input_y, scores, lmbda, [model.fc1.W, model.fc2.W])\n",
    "                \n",
    "                # Backward pass\n",
    "                model.backward(dscores)\n",
    "                \n",
    "                # Update weights and bias\n",
    "                model.fc1.W -= lr * model.fc1.dW\n",
    "                model.fc1.b -= lr * model.fc1.db\n",
    "                model.fc2.W -= lr * model.fc2.dW\n",
    "                model.fc2.b -= lr * model.fc2.db\n",
    "        \n",
    "        # Evaluate the model on the validation set\n",
    "        val_acc = calculate_accuracy(X_val, y_val, model)\n",
    "        \n",
    "        # If the model is better than the best model so far, store it\n",
    "        if val_acc > best_val_accuracy:\n",
    "            best_val_accuracy = val_acc\n",
    "            best_model = model\n",
    "            best_learning_rate = lr\n",
    "            best_lambda = lmbda\n",
    "        \n",
    "        print(f\"Learning rate: {lr}, Regularization coefficient: {lmbda}, Validation accuracy: {val_acc}\")\n",
    "        \n",
    "print(f\"\\nBest lambda: {best_lambda}, Best learning rate: {best_learning_rate}, Best validation accuracy: {best_val_accuracy}\")\n"
   ]
  },
  {
   "cell_type": "markdown",
   "metadata": {},
   "source": [
    "### Train with best (optimal) hyperparameters"
   ]
  },
  {
   "cell_type": "code",
   "execution_count": 19,
   "metadata": {},
   "outputs": [],
   "source": [
    "\n",
    "# Set optimal (best) hyperparameters\n",
    "\n",
    "# optimal Learning rate \n",
    "learning_rate = best_learning_rate\n",
    "# optimal regularization coeff\n",
    "lmbda = best_lambda  \n",
    "\n",
    "num_epochs = 1000\n",
    "batch_size = 64\n",
    "\n",
    "\n",
    "# instantiate the model\n",
    "model = MLP(input_size, hidden_size, num_classes)\n"
   ]
  },
  {
   "cell_type": "code",
   "execution_count": 144,
   "metadata": {
    "colab": {
     "base_uri": "https://localhost:8080/",
     "height": 0
    },
    "id": "7wMDvvA4pdbN",
    "outputId": "96648d4b-4f0b-414d-c84c-0ade31152ae1",
    "scrolled": true
   },
   "outputs": [
    {
     "data": {
      "application/vnd.jupyter.widget-view+json": {
       "model_id": "65dd9aee75e44a78a711adb757b3cb8d",
       "version_major": 2,
       "version_minor": 0
      },
      "text/plain": [
       "  0%|          | 0/500 [00:00<?, ?it/s]"
      ]
     },
     "metadata": {},
     "output_type": "display_data"
    },
    {
     "name": "stdout",
     "output_type": "stream",
     "text": [
      "Epoch 1/500, Train Loss: 2.3024, Val Loss: 2.3023, Train Accuracy: 11.40%, Val Accuracy: 10.60%\n",
      "Epoch 11/500, Train Loss: 2.1971, Val Loss: 2.1644, Train Accuracy: 28.59%, Val Accuracy: 28.52%\n",
      "Epoch 21/500, Train Loss: 1.0196, Val Loss: 0.9613, Train Accuracy: 73.11%, Val Accuracy: 74.88%\n",
      "Epoch 31/500, Train Loss: 0.6316, Val Loss: 0.5920, Train Accuracy: 83.23%, Val Accuracy: 84.39%\n",
      "Epoch 41/500, Train Loss: 0.4977, Val Loss: 0.4665, Train Accuracy: 86.58%, Val Accuracy: 87.52%\n",
      "Epoch 51/500, Train Loss: 0.4351, Val Loss: 0.4087, Train Accuracy: 88.08%, Val Accuracy: 88.87%\n",
      "Epoch 61/500, Train Loss: 0.3987, Val Loss: 0.3752, Train Accuracy: 88.90%, Val Accuracy: 89.72%\n",
      "Epoch 71/500, Train Loss: 0.3740, Val Loss: 0.3523, Train Accuracy: 89.56%, Val Accuracy: 90.20%\n",
      "Epoch 81/500, Train Loss: 0.3555, Val Loss: 0.3352, Train Accuracy: 90.06%, Val Accuracy: 90.61%\n",
      "Epoch 91/500, Train Loss: 0.3406, Val Loss: 0.3215, Train Accuracy: 90.36%, Val Accuracy: 90.91%\n",
      "Epoch 101/500, Train Loss: 0.3280, Val Loss: 0.3100, Train Accuracy: 90.76%, Val Accuracy: 91.44%\n",
      "Epoch 111/500, Train Loss: 0.3171, Val Loss: 0.3001, Train Accuracy: 91.03%, Val Accuracy: 91.66%\n",
      "Epoch 121/500, Train Loss: 0.3073, Val Loss: 0.2913, Train Accuracy: 91.31%, Val Accuracy: 91.84%\n",
      "Epoch 131/500, Train Loss: 0.2983, Val Loss: 0.2834, Train Accuracy: 91.57%, Val Accuracy: 92.07%\n",
      "Epoch 141/500, Train Loss: 0.2900, Val Loss: 0.2761, Train Accuracy: 91.86%, Val Accuracy: 92.27%\n",
      "Epoch 151/500, Train Loss: 0.2822, Val Loss: 0.2694, Train Accuracy: 92.05%, Val Accuracy: 92.41%\n",
      "Epoch 161/500, Train Loss: 0.2749, Val Loss: 0.2631, Train Accuracy: 92.27%, Val Accuracy: 92.55%\n",
      "Epoch 171/500, Train Loss: 0.2678, Val Loss: 0.2571, Train Accuracy: 92.47%, Val Accuracy: 92.67%\n",
      "Epoch 181/500, Train Loss: 0.2612, Val Loss: 0.2516, Train Accuracy: 92.60%, Val Accuracy: 92.83%\n",
      "Epoch 191/500, Train Loss: 0.2548, Val Loss: 0.2461, Train Accuracy: 92.81%, Val Accuracy: 93.09%\n",
      "Epoch 201/500, Train Loss: 0.2487, Val Loss: 0.2410, Train Accuracy: 93.00%, Val Accuracy: 93.21%\n",
      "Epoch 211/500, Train Loss: 0.2429, Val Loss: 0.2360, Train Accuracy: 93.20%, Val Accuracy: 93.39%\n",
      "Epoch 221/500, Train Loss: 0.2372, Val Loss: 0.2313, Train Accuracy: 93.35%, Val Accuracy: 93.50%\n",
      "Epoch 231/500, Train Loss: 0.2318, Val Loss: 0.2267, Train Accuracy: 93.49%, Val Accuracy: 93.67%\n",
      "Epoch 241/500, Train Loss: 0.2266, Val Loss: 0.2223, Train Accuracy: 93.63%, Val Accuracy: 93.83%\n",
      "Epoch 251/500, Train Loss: 0.2215, Val Loss: 0.2181, Train Accuracy: 93.81%, Val Accuracy: 94.03%\n",
      "Epoch 261/500, Train Loss: 0.2167, Val Loss: 0.2141, Train Accuracy: 93.90%, Val Accuracy: 94.14%\n",
      "Epoch 271/500, Train Loss: 0.2121, Val Loss: 0.2103, Train Accuracy: 94.04%, Val Accuracy: 94.22%\n",
      "Epoch 281/500, Train Loss: 0.2076, Val Loss: 0.2065, Train Accuracy: 94.14%, Val Accuracy: 94.38%\n",
      "Epoch 291/500, Train Loss: 0.2032, Val Loss: 0.2030, Train Accuracy: 94.28%, Val Accuracy: 94.47%\n",
      "Epoch 301/500, Train Loss: 0.1991, Val Loss: 0.1996, Train Accuracy: 94.38%, Val Accuracy: 94.53%\n",
      "Epoch 311/500, Train Loss: 0.1950, Val Loss: 0.1963, Train Accuracy: 94.52%, Val Accuracy: 94.68%\n",
      "Epoch 321/500, Train Loss: 0.1912, Val Loss: 0.1932, Train Accuracy: 94.61%, Val Accuracy: 94.74%\n",
      "Epoch 331/500, Train Loss: 0.1874, Val Loss: 0.1901, Train Accuracy: 94.73%, Val Accuracy: 94.77%\n",
      "Epoch 341/500, Train Loss: 0.1838, Val Loss: 0.1871, Train Accuracy: 94.85%, Val Accuracy: 94.88%\n",
      "Epoch 351/500, Train Loss: 0.1803, Val Loss: 0.1844, Train Accuracy: 94.97%, Val Accuracy: 94.96%\n",
      "Epoch 361/500, Train Loss: 0.1769, Val Loss: 0.1816, Train Accuracy: 95.04%, Val Accuracy: 95.05%\n",
      "Epoch 371/500, Train Loss: 0.1736, Val Loss: 0.1790, Train Accuracy: 95.13%, Val Accuracy: 95.12%\n",
      "Epoch 381/500, Train Loss: 0.1705, Val Loss: 0.1765, Train Accuracy: 95.23%, Val Accuracy: 95.17%\n",
      "Epoch 391/500, Train Loss: 0.1674, Val Loss: 0.1740, Train Accuracy: 95.30%, Val Accuracy: 95.23%\n",
      "Epoch 401/500, Train Loss: 0.1644, Val Loss: 0.1717, Train Accuracy: 95.41%, Val Accuracy: 95.33%\n",
      "Epoch 411/500, Train Loss: 0.1615, Val Loss: 0.1694, Train Accuracy: 95.49%, Val Accuracy: 95.38%\n",
      "Epoch 421/500, Train Loss: 0.1587, Val Loss: 0.1671, Train Accuracy: 95.59%, Val Accuracy: 95.45%\n",
      "Epoch 431/500, Train Loss: 0.1560, Val Loss: 0.1650, Train Accuracy: 95.66%, Val Accuracy: 95.54%\n",
      "Epoch 441/500, Train Loss: 0.1533, Val Loss: 0.1629, Train Accuracy: 95.75%, Val Accuracy: 95.64%\n",
      "Epoch 451/500, Train Loss: 0.1508, Val Loss: 0.1610, Train Accuracy: 95.82%, Val Accuracy: 95.66%\n",
      "Epoch 461/500, Train Loss: 0.1483, Val Loss: 0.1590, Train Accuracy: 95.88%, Val Accuracy: 95.73%\n",
      "Epoch 471/500, Train Loss: 0.1459, Val Loss: 0.1571, Train Accuracy: 95.95%, Val Accuracy: 95.78%\n",
      "Epoch 481/500, Train Loss: 0.1435, Val Loss: 0.1553, Train Accuracy: 96.02%, Val Accuracy: 95.83%\n",
      "Epoch 491/500, Train Loss: 0.1412, Val Loss: 0.1536, Train Accuracy: 96.11%, Val Accuracy: 95.87%\n",
      "Epoch 500/500, Train Loss: 0.1392, Val Loss: 0.1521, Train Accuracy: 96.19%, Val Accuracy: 95.93%\n"
     ]
    }
   ],
   "source": [
    "\n",
    "# Training loop\n",
    "\n",
    "# Lists to store performance data for plotting\n",
    "train_loss_history = []\n",
    "val_loss_history = []\n",
    "train_accuracy_history = []\n",
    "val_accuracy_history = []\n",
    "\n",
    "for epoch in tqdm(range(num_epochs)):\n",
    "    losses = []\n",
    "    #learning_rate *= decay_rate\n",
    "    for input_x, input_y in get_minibatch(batch_size):\n",
    "        # Forward pass\n",
    "        scores = model.forward(input_x)\n",
    "        \n",
    "        # Calculate loss and gradient\n",
    "        loss, dscores = loss_function(input_y, scores, lmbda, [model.fc1.W, model.fc2.W])\n",
    "        losses.append(loss)\n",
    "        \n",
    "        # Backward pass\n",
    "        model.backward(dscores)\n",
    "        \n",
    "        # Update weights and bias\n",
    "        model.fc1.W -= learning_rate * model.fc1.dW\n",
    "        model.fc1.b -= learning_rate * model.fc1.db\n",
    "        model.fc2.W -= learning_rate * model.fc2.dW\n",
    "        model.fc2.b -= learning_rate * model.fc2.db\n",
    "\n",
    "    # After each epoch, calculate and print loss and accuracy\n",
    "    avg_train_loss = np.mean(losses)  # average loss of all batches\n",
    "\n",
    "    # Calculate validation loss\n",
    "    val_scores = model.forward(X_val)  # output values\n",
    "    val_loss, _ = loss_function(y_val, val_scores, lmbda, [model.fc1.W, model.fc2.W])  # for entire validation dataset \n",
    "\n",
    "    train_acc = calculate_accuracy(X_train, y_train, model)\n",
    "    val_acc = calculate_accuracy(X_val, y_val, model)\n",
    "\n",
    "    if(epoch % 10 == 0 or epoch == 499):\n",
    "        print(f\"Epoch {epoch+1}/{num_epochs}, Train Loss: {avg_train_loss:.4f}, Val Loss: {val_loss:.4f}, Train Accuracy: {train_acc*100:.2f}%, Val Accuracy: {val_acc*100:.2f}%\")\n",
    "\n",
    "    # Store loss and accuracy for plotting\n",
    "    train_loss_history.append(avg_train_loss)\n",
    "    val_loss_history.append(val_loss)\n",
    "    train_accuracy_history.append(train_acc)\n",
    "    val_accuracy_history.append(val_acc)\n",
    "    \n",
    "    "
   ]
  },
  {
   "cell_type": "code",
   "execution_count": 145,
   "metadata": {},
   "outputs": [
    {
     "data": {
      "image/png": "[encoded data removed]",
      "text/plain": [
       "<Figure size 640x480 with 1 Axes>"
      ]
     },
     "metadata": {},
     "output_type": "display_data"
    }
   ],
   "source": [
    "plt.plot(train_loss_history, color=\"r\", label=\"training_loss\")\n",
    "plt.plot(val_loss_history, color=\"g\", label=\"validation_loss\")\n",
    "plt.legend()\n",
    "plt.show()"
   ]
  },
  {
   "cell_type": "code",
   "execution_count": 146,
   "metadata": {},
   "outputs": [
    {
     "data": {
      "image/png": "[encoded data removed]",
      "text/plain": [
       "<Figure size 640x480 with 1 Axes>"
      ]
     },
     "metadata": {},
     "output_type": "display_data"
    }
   ],
   "source": [
    "# WRITE CODE HERE\n",
    "plt.plot(train_loss_history, color=\"r\", label=\"training_loss\")\n",
    "plt.plot(train_accuracy_history, color=\"g\", label=\"training_accuracy\")\n",
    "plt.legend()\n",
    "plt.show()"
   ]
  },
  {
   "cell_type": "code",
   "execution_count": 147,
   "metadata": {
    "scrolled": true
   },
   "outputs": [
    {
     "data": {
      "image/png": "[encoded data removed]",
      "text/plain": [
       "<Figure size 640x480 with 1 Axes>"
      ]
     },
     "metadata": {},
     "output_type": "display_data"
    }
   ],
   "source": [
    "# WRITE CODE HERE\n",
    "\n",
    "plt.plot(train_accuracy_history, color=\"b\", label=\"training_accuracy\")\n",
    "plt.plot(val_accuracy_history, color=\"y\", label=\"validation_accuracy\")\n",
    "plt.legend()\n",
    "plt.show()\n",
    "\n"
   ]
  },
  {
   "cell_type": "code",
   "execution_count": null,
   "metadata": {},
   "outputs": [],
   "source": []
  },
  {
   "cell_type": "markdown",
   "metadata": {
    "id": "STiufgGymJ9W"
   },
   "source": [
    "### Report final performance on MNIST test set"
   ]
  },
  {
   "cell_type": "code",
   "execution_count": 152,
   "metadata": {
    "id": "Jm8cIuIjOdol"
   },
   "outputs": [
    {
     "name": "stdout",
     "output_type": "stream",
     "text": [
      "After hyper parameters tuning:\n",
      "\n",
      "Training accuracy: 96.19%\n",
      "Testing accuracy: 95.69%\n"
     ]
    }
   ],
   "source": [
    "print(\"After hyper parameters tuning:\\n\")  # for 500 epochs only\n",
    "\n",
    "best_model = model\n",
    "\n",
    "\n",
    "# Calculate accuracy on the training data\n",
    "train_accuracy = calculate_accuracy(X_train, y_train, best_model)\n",
    "print(f'Training accuracy: {train_accuracy * 100:.2f}%')\n",
    "\n",
    "# Calculate accuracy on the testing data\n",
    "test_accuracy = calculate_accuracy(X_test, y_test, best_model)\n",
    "print(f'Testing accuracy: {test_accuracy * 100:.2f}%')\n"
   ]
  },
  {
   "cell_type": "markdown",
   "metadata": {},
   "source": [
    "#### NOTE: \n",
    "We have trained till 500 epochs only with optimal hyperparameters due to time contraint. Performance might improve further and attain a test accuracy of 98% if trained for 1000 epochs."
   ]
  },
  {
   "cell_type": "markdown",
   "metadata": {
    "id": "xISXq5P_dY3M"
   },
   "source": [
    "### Find the best performing class and the worst performing class"
   ]
  },
  {
   "cell_type": "code",
   "execution_count": 153,
   "metadata": {
    "colab": {
     "base_uri": "https://localhost:8080/",
     "height": 0
    },
    "id": "gE-9bCdKuaD2",
    "outputId": "49d3001a-69a0-48ef-ec59-48d727a1ca20"
   },
   "outputs": [
    {
     "name": "stdout",
     "output_type": "stream",
     "text": [
      "Best performing class: 0, accuracy: 98.27%\n",
      "Worst performing class: 5, accuracy: 93.39%\n"
     ]
    }
   ],
   "source": [
    "# Calculate confusion matrix\n",
    "y_pred = np.argmax(best_model.forward(X_test), axis=1)\n",
    "cm = confusion_matrix(y_test, y_pred)\n",
    "\n",
    "# Calculate class-wise accuracy\n",
    "class_accuracy = cm.diagonal() / cm.sum(axis=1)\n",
    "\n",
    "# Find best and worst classes\n",
    "best_class = np.argmax(class_accuracy)\n",
    "worst_class = np.argmin(class_accuracy)\n",
    "\n",
    "print(f\"Best performing class: {best_class}, accuracy: {class_accuracy[best_class] * 100:.2f}%\")\n",
    "print(f\"Worst performing class: {worst_class}, accuracy: {class_accuracy[worst_class] * 100:.2f}%\")"
   ]
  },
  {
   "cell_type": "markdown",
   "metadata": {
    "id": "x3LxuBhndY3M"
   },
   "source": [
    "### Any additional observations / comments?"
   ]
  },
  {
   "cell_type": "markdown",
   "metadata": {
    "id": "yWjiUZfTlFUX"
   },
   "source": [
    "# Observations:\n",
    "### 1. 2-Layer Neural Network Classifier(MLP) achieves a test accuracy more than 97%.\n",
    "### 2. Training on 10%, 20% 50% data, the test accuracy increases with the percentage of data, i-e, test accuracy was highest for the model trained with 50% data and lowest for the model trained with 10% data. \n",
    "### 3. 2-Layer Neural Network classifier(MLP) performs better(upto +9% test accuracy) compared to 1-Layer Neural Network & Scikit-Learn's Linear SVM model and (upto +5% test accuracy) compared to the Logistic regression model with our implementation.\n",
    "### 4. Hyper parameters {regularization coefficient, learning_rate} tuning with Grid-search merely increased the test accuracy by 0.04% when compared with 500 epochs but might increase by 1% if trained for 1000 epochs with optimal hyperparameters."
   ]
  },
  {
   "cell_type": "markdown",
   "metadata": {
    "id": "juCCRVvEtr37"
   },
   "source": [
    "## Comments:\n",
    "\n",
    "In general, a 2-layer neural network with ReLU activation and cross-entropy loss could potentially outperform logistic regression or linear SVM for MNIST image classification.\n",
    "\n",
    "This is because a neural network is a more complex model that can learn more complex and non-linear patterns in the data, while logistic regression or linear SVM is a linear model. In addition, the ReLU activation function allows the neural network to learn more efficiently by reducing the vanishing gradient problem.\n",
    "\n",
    "\n",
    "However, the performance of either model ultimately depends on several factors, including the size and quality of the data, the choice of hyperparameters, and the implementation of the models. \n",
    "\n",
    "With more training data, the model is exposed to a greater variety of patterns and can learn more robust features to better distinguish between different classes. However, it's important to note that there may be a point of diminishing returns, where adding more data does not lead to significant improvements in accuracy. For example, in Question-1, the test accuracy of 1-Layer NN model after training on 50% data did not show any great improvement (test accuracy only improved by 1-2%) compared to model trained on 80% training data."
   ]
  },
  {
   "cell_type": "markdown",
   "metadata": {
    "id": "6melMLnNdY3O"
   },
   "source": [
    "## BONUS Question\n",
    "### Observe the effect on test set accuracy by changing the number of training samples.\n",
    "### Train on 10%, 20% and 50% training data and plot the percentage of training data v.s. the test accuracy.  "
   ]
  },
  {
   "cell_type": "markdown",
   "metadata": {
    "id": "gb-9uS7rzK5-"
   },
   "source": [
    "### (a) 10% training data"
   ]
  },
  {
   "cell_type": "code",
   "execution_count": 29,
   "metadata": {
    "colab": {
     "base_uri": "https://localhost:8080/",
     "height": 223,
     "referenced_widgets": [
      "096b811d5a1f4636924196229e30cde1",
      "7df349ba1fe74c31b113041ebdbf1600",
      "ef15436ab85c4d1590b0c78f2739e39d",
      "95d8920da3b84816aabc7a749b73cc4a",
      "60f9db3a75b746c1b3c59c4371e7afeb",
      "3df741d702594344948f9c8038c6584d",
      "7c405aeed09e4d9d9b3d601d197884ff",
      "4a1409037ca1403b91129d9999d74bf7",
      "7ccd4fcde75b4f10a00a5345fa4b54a3",
      "12f4eb4f8e8f4b94ae694d16b5bda5e6",
      "880abc36e779491ab172eae08671ab23"
     ]
    },
    "id": "BTq2ZprodY3O",
    "outputId": "9105b3c8-11ce-4ac4-8b53-2669cc4d4fca"
   },
   "outputs": [
    {
     "name": "stdout",
     "output_type": "stream",
     "text": [
      "Train data shape:  (6000, 784)\n",
      "Label data shape:  (6000,)\n",
      "Validation data shape:  (54000, 784)\n",
      "Test data shape:  (10000, 784)\n"
     ]
    }
   ],
   "source": [
    "# Load the data\n",
    "X_train, y_train = load_mnist('data', kind='train')\n",
    "X_test, y_test = load_mnist('data', kind='t10k')\n",
    "\n",
    "# Normalize the data\n",
    "X_train = X_train / 255.0\n",
    "X_test = X_test / 255.0\n",
    "\n",
    "# Split the training data into training and validation sets\n",
    "train_size = int(X_train.shape[0] * 0.1)\n",
    "\n",
    "X_val = X_train[train_size:]\n",
    "y_val = y_train[train_size:]\n",
    "\n",
    "X_train = X_train[:train_size]\n",
    "y_train = y_train[:train_size]\n",
    "\n",
    "\n",
    "# Print the shapes of the data sets\n",
    "print(\"Train data shape: \", X_train.shape)\n",
    "print(\"Label data shape: \", y_train.shape)\n",
    "print(\"Validation data shape: \", X_val.shape)\n",
    "print(\"Test data shape: \", X_test.shape)\n"
   ]
  },
  {
   "cell_type": "code",
   "execution_count": 30,
   "metadata": {},
   "outputs": [],
   "source": [
    "\n",
    "# Create an instance of Single_layer_classifier\n",
    "input_size = X_train.shape[1]  # 784\n",
    "num_classes = output_size = 10\n",
    "\n",
    "hidden_size = 128\n",
    "\n",
    "# instantiate the model\n",
    "model = MLP(input_size, hidden_size, num_classes)\n"
   ]
  },
  {
   "cell_type": "code",
   "execution_count": 31,
   "metadata": {},
   "outputs": [],
   "source": [
    "\n",
    "# Set optimal (best) hyperparameters\n",
    "\n",
    "# optimal Learning rate \n",
    "learning_rate = best_learning_rate\n",
    "\n",
    "# optimal regularization coeff\n",
    "lmbda = best_lambda  \n",
    "num_epochs = 500\n",
    "batch_size = 64\n",
    "\n",
    "\n"
   ]
  },
  {
   "cell_type": "code",
   "execution_count": 32,
   "metadata": {},
   "outputs": [
    {
     "data": {
      "application/vnd.jupyter.widget-view+json": {
       "model_id": "c67ae7d030104fe38bc596943fd63948",
       "version_major": 2,
       "version_minor": 0
      },
      "text/plain": [
       "  0%|          | 0/500 [00:00<?, ?it/s]"
      ]
     },
     "metadata": {},
     "output_type": "display_data"
    },
    {
     "name": "stdout",
     "output_type": "stream",
     "text": [
      "Epoch 1/500, Train Loss: 2.3026, Val Loss: 2.3025, Train Accuracy: 11.18%, Val Accuracy: 11.24%\n",
      "Epoch 11/500, Train Loss: 2.3020, Val Loss: 2.3021, Train Accuracy: 11.18%, Val Accuracy: 11.24%\n",
      "Epoch 21/500, Train Loss: 2.3014, Val Loss: 2.3017, Train Accuracy: 11.18%, Val Accuracy: 11.24%\n",
      "Epoch 31/500, Train Loss: 2.3005, Val Loss: 2.3010, Train Accuracy: 11.18%, Val Accuracy: 11.24%\n",
      "Epoch 41/500, Train Loss: 2.2989, Val Loss: 2.2995, Train Accuracy: 11.18%, Val Accuracy: 11.24%\n",
      "Epoch 51/500, Train Loss: 2.2953, Val Loss: 2.2961, Train Accuracy: 18.78%, Val Accuracy: 17.74%\n",
      "Epoch 61/500, Train Loss: 2.2871, Val Loss: 2.2879, Train Accuracy: 30.05%, Val Accuracy: 29.45%\n",
      "Epoch 71/500, Train Loss: 2.2675, Val Loss: 2.2682, Train Accuracy: 30.88%, Val Accuracy: 30.89%\n",
      "Epoch 81/500, Train Loss: 2.2242, Val Loss: 2.2248, Train Accuracy: 30.57%, Val Accuracy: 30.57%\n",
      "Epoch 91/500, Train Loss: 2.1428, Val Loss: 2.1441, Train Accuracy: 33.55%, Val Accuracy: 33.31%\n",
      "Epoch 101/500, Train Loss: 2.0148, Val Loss: 2.0180, Train Accuracy: 41.58%, Val Accuracy: 40.90%\n",
      "Epoch 111/500, Train Loss: 1.8336, Val Loss: 1.8397, Train Accuracy: 51.28%, Val Accuracy: 50.52%\n",
      "Epoch 121/500, Train Loss: 1.6155, Val Loss: 1.6270, Train Accuracy: 57.85%, Val Accuracy: 56.90%\n",
      "Epoch 131/500, Train Loss: 1.4053, Val Loss: 1.4228, Train Accuracy: 61.68%, Val Accuracy: 61.12%\n",
      "Epoch 141/500, Train Loss: 1.2330, Val Loss: 1.2547, Train Accuracy: 65.83%, Val Accuracy: 65.04%\n",
      "Epoch 151/500, Train Loss: 1.1006, Val Loss: 1.1241, Train Accuracy: 69.73%, Val Accuracy: 68.78%\n",
      "Epoch 161/500, Train Loss: 0.9969, Val Loss: 1.0223, Train Accuracy: 72.98%, Val Accuracy: 71.70%\n",
      "Epoch 171/500, Train Loss: 0.9157, Val Loss: 0.9414, Train Accuracy: 75.25%, Val Accuracy: 74.13%\n",
      "Epoch 181/500, Train Loss: 0.8477, Val Loss: 0.8749, Train Accuracy: 77.43%, Val Accuracy: 76.12%\n",
      "Epoch 191/500, Train Loss: 0.7909, Val Loss: 0.8191, Train Accuracy: 79.35%, Val Accuracy: 77.79%\n",
      "Epoch 201/500, Train Loss: 0.7399, Val Loss: 0.7713, Train Accuracy: 80.70%, Val Accuracy: 79.17%\n",
      "Epoch 211/500, Train Loss: 0.6976, Val Loss: 0.7302, Train Accuracy: 81.83%, Val Accuracy: 80.22%\n",
      "Epoch 221/500, Train Loss: 0.6623, Val Loss: 0.6946, Train Accuracy: 82.85%, Val Accuracy: 81.18%\n",
      "Epoch 231/500, Train Loss: 0.6294, Val Loss: 0.6636, Train Accuracy: 83.65%, Val Accuracy: 82.08%\n",
      "Epoch 241/500, Train Loss: 0.6023, Val Loss: 0.6364, Train Accuracy: 84.28%, Val Accuracy: 82.83%\n",
      "Epoch 251/500, Train Loss: 0.5766, Val Loss: 0.6126, Train Accuracy: 84.95%, Val Accuracy: 83.41%\n",
      "Epoch 261/500, Train Loss: 0.5549, Val Loss: 0.5915, Train Accuracy: 85.52%, Val Accuracy: 83.92%\n",
      "Epoch 271/500, Train Loss: 0.5340, Val Loss: 0.5729, Train Accuracy: 86.13%, Val Accuracy: 84.33%\n",
      "Epoch 281/500, Train Loss: 0.5171, Val Loss: 0.5562, Train Accuracy: 86.60%, Val Accuracy: 84.76%\n",
      "Epoch 291/500, Train Loss: 0.5013, Val Loss: 0.5413, Train Accuracy: 86.95%, Val Accuracy: 85.12%\n",
      "Epoch 301/500, Train Loss: 0.4850, Val Loss: 0.5279, Train Accuracy: 87.38%, Val Accuracy: 85.49%\n",
      "Epoch 311/500, Train Loss: 0.4726, Val Loss: 0.5157, Train Accuracy: 87.70%, Val Accuracy: 85.78%\n",
      "Epoch 321/500, Train Loss: 0.4582, Val Loss: 0.5047, Train Accuracy: 88.05%, Val Accuracy: 86.07%\n",
      "Epoch 331/500, Train Loss: 0.4492, Val Loss: 0.4947, Train Accuracy: 88.28%, Val Accuracy: 86.30%\n",
      "Epoch 341/500, Train Loss: 0.4384, Val Loss: 0.4855, Train Accuracy: 88.55%, Val Accuracy: 86.55%\n",
      "Epoch 351/500, Train Loss: 0.4286, Val Loss: 0.4771, Train Accuracy: 88.78%, Val Accuracy: 86.74%\n",
      "Epoch 361/500, Train Loss: 0.4198, Val Loss: 0.4694, Train Accuracy: 89.03%, Val Accuracy: 86.91%\n",
      "Epoch 371/500, Train Loss: 0.4108, Val Loss: 0.4623, Train Accuracy: 89.20%, Val Accuracy: 87.06%\n",
      "Epoch 381/500, Train Loss: 0.4042, Val Loss: 0.4558, Train Accuracy: 89.28%, Val Accuracy: 87.21%\n",
      "Epoch 391/500, Train Loss: 0.3964, Val Loss: 0.4497, Train Accuracy: 89.53%, Val Accuracy: 87.35%\n",
      "Epoch 401/500, Train Loss: 0.3913, Val Loss: 0.4441, Train Accuracy: 89.63%, Val Accuracy: 87.49%\n",
      "Epoch 411/500, Train Loss: 0.3847, Val Loss: 0.4389, Train Accuracy: 89.73%, Val Accuracy: 87.62%\n",
      "Epoch 421/500, Train Loss: 0.3780, Val Loss: 0.4340, Train Accuracy: 89.95%, Val Accuracy: 87.75%\n",
      "Epoch 431/500, Train Loss: 0.3717, Val Loss: 0.4295, Train Accuracy: 90.13%, Val Accuracy: 87.84%\n",
      "Epoch 441/500, Train Loss: 0.3671, Val Loss: 0.4252, Train Accuracy: 90.25%, Val Accuracy: 87.95%\n",
      "Epoch 451/500, Train Loss: 0.3612, Val Loss: 0.4211, Train Accuracy: 90.32%, Val Accuracy: 88.07%\n",
      "Epoch 461/500, Train Loss: 0.3581, Val Loss: 0.4174, Train Accuracy: 90.48%, Val Accuracy: 88.15%\n",
      "Epoch 471/500, Train Loss: 0.3517, Val Loss: 0.4139, Train Accuracy: 90.47%, Val Accuracy: 88.20%\n",
      "Epoch 481/500, Train Loss: 0.3490, Val Loss: 0.4105, Train Accuracy: 90.52%, Val Accuracy: 88.29%\n",
      "Epoch 491/500, Train Loss: 0.3443, Val Loss: 0.4073, Train Accuracy: 90.63%, Val Accuracy: 88.38%\n",
      "Epoch 500/500, Train Loss: 0.3398, Val Loss: 0.4046, Train Accuracy: 90.77%, Val Accuracy: 88.43%\n"
     ]
    }
   ],
   "source": [
    "\n",
    "# Training loop\n",
    "\n",
    "# Lists to store performance data for plotting\n",
    "train_loss_history = []\n",
    "val_loss_history = []\n",
    "train_accuracy_history = []\n",
    "val_accuracy_history = []\n",
    "\n",
    "for epoch in tqdm(range(num_epochs)):\n",
    "    losses = []\n",
    "    #learning_rate *= decay_rate\n",
    "    for input_x, input_y in get_minibatch(batch_size):\n",
    "        # Forward pass\n",
    "        scores = model.forward(input_x)\n",
    "        \n",
    "        # Calculate loss and gradient\n",
    "        loss, dscores = loss_function(input_y, scores, lmbda, [model.fc1.W, model.fc2.W])\n",
    "        losses.append(loss)\n",
    "        \n",
    "        # Backward pass\n",
    "        model.backward(dscores)\n",
    "        \n",
    "        # Update weights and bias\n",
    "        model.fc1.W -= learning_rate * model.fc1.dW\n",
    "        model.fc1.b -= learning_rate * model.fc1.db\n",
    "        model.fc2.W -= learning_rate * model.fc2.dW\n",
    "        model.fc2.b -= learning_rate * model.fc2.db\n",
    "\n",
    "    # After each epoch, calculate and print loss and accuracy\n",
    "    avg_train_loss = np.mean(losses)  # average loss of all batches\n",
    "\n",
    "    # Calculate validation loss\n",
    "    val_scores = model.forward(X_val)  # output values\n",
    "    val_loss, _ = loss_function(y_val, val_scores, lmbda, [model.fc1.W, model.fc2.W])  # for entire validation dataset \n",
    "\n",
    "    train_acc = calculate_accuracy(X_train, y_train, model)\n",
    "    val_acc = calculate_accuracy(X_val, y_val, model)\n",
    "\n",
    "    if(epoch % 10 == 0 or epoch == 499):\n",
    "        print(f\"Epoch {epoch+1}/{num_epochs}, Train Loss: {avg_train_loss:.4f}, Val Loss: {val_loss:.4f}, Train Accuracy: {train_acc*100:.2f}%, Val Accuracy: {val_acc*100:.2f}%\")\n",
    "\n",
    "    # Store loss and accuracy for plotting\n",
    "    train_loss_history.append(avg_train_loss)\n",
    "    val_loss_history.append(val_loss)\n",
    "    train_accuracy_history.append(train_acc)\n",
    "    val_accuracy_history.append(val_acc)"
   ]
  },
  {
   "cell_type": "code",
   "execution_count": 33,
   "metadata": {
    "colab": {
     "base_uri": "https://localhost:8080/",
     "height": 0
    },
    "id": "gUeeQ_tgzoTW",
    "outputId": "df17fed9-eb55-4dbf-bfaf-420490baa249"
   },
   "outputs": [
    {
     "name": "stdout",
     "output_type": "stream",
     "text": [
      "Accuracy on 10% training data:\n",
      "\n",
      "Training accuracy: 90.77%\n",
      "Testing accuracy: 88.96%\n"
     ]
    }
   ],
   "source": [
    "# Calculate accuracy on the training data\n",
    "\n",
    "print(\"Accuracy on 10% training data:\\n\")\n",
    "\n",
    "train_accuracy = calculate_accuracy(X_train, y_train, model)\n",
    "print(f'Training accuracy: {train_accuracy * 100:.2f}%')\n",
    "\n",
    "# Calculate accuracy on the testing data\n",
    "test_accuracy = calculate_accuracy(X_test, y_test, model)\n",
    "print(f'Testing accuracy: {test_accuracy * 100:.2f}%')\n"
   ]
  },
  {
   "cell_type": "markdown",
   "metadata": {
    "id": "zV1UtqjbzIJu"
   },
   "source": [
    "### (b) 20% training data"
   ]
  },
  {
   "cell_type": "code",
   "execution_count": 34,
   "metadata": {
    "colab": {
     "base_uri": "https://localhost:8080/",
     "height": 223,
     "referenced_widgets": [
      "23e1a9e9f45b492782177c560d8f1496",
      "dd4d411a00b44604b78638712b39a89b",
      "320c418da03f4a58a9f122124ce0d016",
      "6f8bfd2086084f86ba6bd7075e9c9049",
      "c3121fc383d149ac8a29a616e461293c",
      "cbd3e3f9947b4a60a91ab8dc18c180af",
      "9a7a0e97d0e14cad834d2b5e00a4a283",
      "6bb4295c73ec4b219dbeac7a0c1a7102",
      "39354e2279af451bb4fe815efb4ec4e4",
      "6a019abcff4f425799257c67023512c2",
      "73fc6aa1de5e4ba4972ee0ad31457390"
     ]
    },
    "id": "1gC0t7nZzAPI",
    "outputId": "a5e9d04e-22a8-4eb9-cbdd-43440a8cf707"
   },
   "outputs": [
    {
     "name": "stdout",
     "output_type": "stream",
     "text": [
      "Train data shape:  (12000, 784)\n",
      "Label data shape:  (12000,)\n",
      "Validation data shape:  (48000, 784)\n",
      "Test data shape:  (10000, 784)\n"
     ]
    }
   ],
   "source": [
    "# Load the data\n",
    "X_train, y_train = load_mnist('data', kind='train')\n",
    "X_test, y_test = load_mnist('data', kind='t10k')\n",
    "\n",
    "# Normalize the data\n",
    "X_train = X_train / 255.0\n",
    "X_test = X_test / 255.0\n",
    "\n",
    "# Split the training data into training and validation sets\n",
    "train_size = int(X_train.shape[0] * 0.2)\n",
    "\n",
    "X_val = X_train[train_size:]\n",
    "y_val = y_train[train_size:]\n",
    "\n",
    "X_train = X_train[:train_size]\n",
    "y_train = y_train[:train_size]\n",
    "\n",
    "\n",
    "# Print the shapes of the data sets\n",
    "print(\"Train data shape: \", X_train.shape)\n",
    "print(\"Label data shape: \", y_train.shape)\n",
    "print(\"Validation data shape: \", X_val.shape)\n",
    "print(\"Test data shape: \", X_test.shape)\n"
   ]
  },
  {
   "cell_type": "code",
   "execution_count": 35,
   "metadata": {},
   "outputs": [],
   "source": [
    "\n",
    "# Create an instance of Single_layer_classifier\n",
    "input_size = X_train.shape[1]  # 784\n",
    "num_classes = output_size = 10\n",
    "\n",
    "hidden_size = 128\n",
    "\n",
    "# instantiate the model\n",
    "model = MLP(input_size, hidden_size, num_classes)\n"
   ]
  },
  {
   "cell_type": "code",
   "execution_count": 36,
   "metadata": {},
   "outputs": [],
   "source": [
    "\n",
    "# Set optimal (best) hyperparameters\n",
    "\n",
    "# optimal Learning rate \n",
    "learning_rate = best_learning_rate\n",
    "\n",
    "# optimal regularization coeff\n",
    "lmbda = best_lambda  \n",
    "num_epochs = 500\n",
    "batch_size = 64\n",
    "\n",
    "\n"
   ]
  },
  {
   "cell_type": "code",
   "execution_count": 37,
   "metadata": {},
   "outputs": [
    {
     "data": {
      "application/vnd.jupyter.widget-view+json": {
       "model_id": "64b45cf995c04692bcb8f86b41def5e1",
       "version_major": 2,
       "version_minor": 0
      },
      "text/plain": [
       "  0%|          | 0/500 [00:00<?, ?it/s]"
      ]
     },
     "metadata": {},
     "output_type": "display_data"
    },
    {
     "name": "stdout",
     "output_type": "stream",
     "text": [
      "Epoch 1/500, Train Loss: 2.3025, Val Loss: 2.3025, Train Accuracy: 11.26%, Val Accuracy: 11.23%\n",
      "Epoch 11/500, Train Loss: 2.3016, Val Loss: 2.3017, Train Accuracy: 11.26%, Val Accuracy: 11.23%\n",
      "Epoch 21/500, Train Loss: 2.2994, Val Loss: 2.2996, Train Accuracy: 11.26%, Val Accuracy: 11.23%\n",
      "Epoch 31/500, Train Loss: 2.2886, Val Loss: 2.2885, Train Accuracy: 27.88%, Val Accuracy: 27.52%\n",
      "Epoch 41/500, Train Loss: 2.2304, Val Loss: 2.2287, Train Accuracy: 27.13%, Val Accuracy: 26.76%\n",
      "Epoch 51/500, Train Loss: 2.0488, Val Loss: 2.0463, Train Accuracy: 34.26%, Val Accuracy: 33.60%\n",
      "Epoch 61/500, Train Loss: 1.6917, Val Loss: 1.6899, Train Accuracy: 51.32%, Val Accuracy: 50.28%\n",
      "Epoch 71/500, Train Loss: 1.3046, Val Loss: 1.3116, Train Accuracy: 63.04%, Val Accuracy: 62.42%\n",
      "Epoch 81/500, Train Loss: 1.0495, Val Loss: 1.0621, Train Accuracy: 71.16%, Val Accuracy: 70.23%\n",
      "Epoch 91/500, Train Loss: 0.8864, Val Loss: 0.9012, Train Accuracy: 76.02%, Val Accuracy: 75.19%\n",
      "Epoch 101/500, Train Loss: 0.7709, Val Loss: 0.7883, Train Accuracy: 79.28%, Val Accuracy: 78.64%\n",
      "Epoch 111/500, Train Loss: 0.6870, Val Loss: 0.7052, Train Accuracy: 81.62%, Val Accuracy: 80.91%\n",
      "Epoch 121/500, Train Loss: 0.6218, Val Loss: 0.6429, Train Accuracy: 83.47%, Val Accuracy: 82.56%\n",
      "Epoch 131/500, Train Loss: 0.5730, Val Loss: 0.5955, Train Accuracy: 84.93%, Val Accuracy: 83.73%\n",
      "Epoch 141/500, Train Loss: 0.5350, Val Loss: 0.5585, Train Accuracy: 85.86%, Val Accuracy: 84.62%\n",
      "Epoch 151/500, Train Loss: 0.5036, Val Loss: 0.5290, Train Accuracy: 86.67%, Val Accuracy: 85.41%\n",
      "Epoch 161/500, Train Loss: 0.4765, Val Loss: 0.5051, Train Accuracy: 87.40%, Val Accuracy: 86.00%\n",
      "Epoch 171/500, Train Loss: 0.4560, Val Loss: 0.4852, Train Accuracy: 87.84%, Val Accuracy: 86.52%\n",
      "Epoch 181/500, Train Loss: 0.4370, Val Loss: 0.4687, Train Accuracy: 88.40%, Val Accuracy: 86.91%\n",
      "Epoch 191/500, Train Loss: 0.4226, Val Loss: 0.4546, Train Accuracy: 88.82%, Val Accuracy: 87.30%\n",
      "Epoch 201/500, Train Loss: 0.4086, Val Loss: 0.4424, Train Accuracy: 89.13%, Val Accuracy: 87.61%\n",
      "Epoch 211/500, Train Loss: 0.3967, Val Loss: 0.4319, Train Accuracy: 89.37%, Val Accuracy: 87.89%\n",
      "Epoch 221/500, Train Loss: 0.3860, Val Loss: 0.4225, Train Accuracy: 89.55%, Val Accuracy: 88.11%\n",
      "Epoch 231/500, Train Loss: 0.3768, Val Loss: 0.4143, Train Accuracy: 89.77%, Val Accuracy: 88.30%\n",
      "Epoch 241/500, Train Loss: 0.3681, Val Loss: 0.4068, Train Accuracy: 89.97%, Val Accuracy: 88.49%\n",
      "Epoch 251/500, Train Loss: 0.3604, Val Loss: 0.4002, Train Accuracy: 90.09%, Val Accuracy: 88.63%\n",
      "Epoch 261/500, Train Loss: 0.3520, Val Loss: 0.3942, Train Accuracy: 90.19%, Val Accuracy: 88.78%\n",
      "Epoch 271/500, Train Loss: 0.3455, Val Loss: 0.3887, Train Accuracy: 90.41%, Val Accuracy: 88.92%\n",
      "Epoch 281/500, Train Loss: 0.3398, Val Loss: 0.3836, Train Accuracy: 90.55%, Val Accuracy: 89.03%\n",
      "Epoch 291/500, Train Loss: 0.3346, Val Loss: 0.3789, Train Accuracy: 90.69%, Val Accuracy: 89.18%\n",
      "Epoch 301/500, Train Loss: 0.3286, Val Loss: 0.3746, Train Accuracy: 90.79%, Val Accuracy: 89.34%\n",
      "Epoch 311/500, Train Loss: 0.3238, Val Loss: 0.3706, Train Accuracy: 90.93%, Val Accuracy: 89.39%\n",
      "Epoch 321/500, Train Loss: 0.3196, Val Loss: 0.3669, Train Accuracy: 91.07%, Val Accuracy: 89.49%\n",
      "Epoch 331/500, Train Loss: 0.3152, Val Loss: 0.3633, Train Accuracy: 91.22%, Val Accuracy: 89.56%\n",
      "Epoch 341/500, Train Loss: 0.3107, Val Loss: 0.3600, Train Accuracy: 91.32%, Val Accuracy: 89.64%\n",
      "Epoch 351/500, Train Loss: 0.3051, Val Loss: 0.3569, Train Accuracy: 91.40%, Val Accuracy: 89.74%\n",
      "Epoch 361/500, Train Loss: 0.3023, Val Loss: 0.3540, Train Accuracy: 91.56%, Val Accuracy: 89.80%\n",
      "Epoch 371/500, Train Loss: 0.2993, Val Loss: 0.3512, Train Accuracy: 91.66%, Val Accuracy: 89.88%\n",
      "Epoch 381/500, Train Loss: 0.2954, Val Loss: 0.3486, Train Accuracy: 91.82%, Val Accuracy: 89.96%\n",
      "Epoch 391/500, Train Loss: 0.2920, Val Loss: 0.3460, Train Accuracy: 91.93%, Val Accuracy: 90.01%\n",
      "Epoch 401/500, Train Loss: 0.2892, Val Loss: 0.3437, Train Accuracy: 92.03%, Val Accuracy: 90.07%\n",
      "Epoch 411/500, Train Loss: 0.2855, Val Loss: 0.3413, Train Accuracy: 92.17%, Val Accuracy: 90.10%\n",
      "Epoch 421/500, Train Loss: 0.2829, Val Loss: 0.3391, Train Accuracy: 92.22%, Val Accuracy: 90.16%\n",
      "Epoch 431/500, Train Loss: 0.2799, Val Loss: 0.3370, Train Accuracy: 92.26%, Val Accuracy: 90.21%\n",
      "Epoch 441/500, Train Loss: 0.2765, Val Loss: 0.3349, Train Accuracy: 92.35%, Val Accuracy: 90.25%\n",
      "Epoch 451/500, Train Loss: 0.2746, Val Loss: 0.3329, Train Accuracy: 92.43%, Val Accuracy: 90.29%\n",
      "Epoch 461/500, Train Loss: 0.2720, Val Loss: 0.3310, Train Accuracy: 92.53%, Val Accuracy: 90.35%\n",
      "Epoch 471/500, Train Loss: 0.2682, Val Loss: 0.3292, Train Accuracy: 92.62%, Val Accuracy: 90.41%\n",
      "Epoch 481/500, Train Loss: 0.2669, Val Loss: 0.3274, Train Accuracy: 92.71%, Val Accuracy: 90.46%\n",
      "Epoch 491/500, Train Loss: 0.2644, Val Loss: 0.3257, Train Accuracy: 92.76%, Val Accuracy: 90.50%\n",
      "Epoch 500/500, Train Loss: 0.2625, Val Loss: 0.3241, Train Accuracy: 92.81%, Val Accuracy: 90.56%\n"
     ]
    }
   ],
   "source": [
    "\n",
    "# Training loop\n",
    "\n",
    "# Lists to store performance data for plotting\n",
    "train_loss_history = []\n",
    "val_loss_history = []\n",
    "train_accuracy_history = []\n",
    "val_accuracy_history = []\n",
    "\n",
    "for epoch in tqdm(range(num_epochs)):\n",
    "    losses = []\n",
    "    #learning_rate *= decay_rate\n",
    "    for input_x, input_y in get_minibatch(batch_size):\n",
    "        # Forward pass\n",
    "        scores = model.forward(input_x)\n",
    "        \n",
    "        # Calculate loss and gradient\n",
    "        loss, dscores = loss_function(input_y, scores, lmbda, [model.fc1.W, model.fc2.W])\n",
    "        losses.append(loss)\n",
    "        \n",
    "        # Backward pass\n",
    "        model.backward(dscores)\n",
    "        \n",
    "        # Update weights and bias\n",
    "        model.fc1.W -= learning_rate * model.fc1.dW\n",
    "        model.fc1.b -= learning_rate * model.fc1.db\n",
    "        model.fc2.W -= learning_rate * model.fc2.dW\n",
    "        model.fc2.b -= learning_rate * model.fc2.db\n",
    "\n",
    "    # After each epoch, calculate and print loss and accuracy\n",
    "    avg_train_loss = np.mean(losses)  # average loss of all batches\n",
    "\n",
    "    # Calculate validation loss\n",
    "    val_scores = model.forward(X_val)  # output values\n",
    "    val_loss, _ = loss_function(y_val, val_scores, lmbda, [model.fc1.W, model.fc2.W])  # for entire validation dataset \n",
    "\n",
    "    train_acc = calculate_accuracy(X_train, y_train, model)\n",
    "    val_acc = calculate_accuracy(X_val, y_val, model)\n",
    "\n",
    "    if(epoch % 10 == 0 or epoch == 499):\n",
    "        print(f\"Epoch {epoch+1}/{num_epochs}, Train Loss: {avg_train_loss:.4f}, Val Loss: {val_loss:.4f}, Train Accuracy: {train_acc*100:.2f}%, Val Accuracy: {val_acc*100:.2f}%\")\n",
    "\n",
    "    # Store loss and accuracy for plotting\n",
    "    train_loss_history.append(avg_train_loss)\n",
    "    val_loss_history.append(val_loss)\n",
    "    train_accuracy_history.append(train_acc)\n",
    "    val_accuracy_history.append(val_acc)"
   ]
  },
  {
   "cell_type": "code",
   "execution_count": 38,
   "metadata": {
    "colab": {
     "base_uri": "https://localhost:8080/",
     "height": 0
    },
    "id": "52OwnSnCzzOX",
    "outputId": "98d25902-cd12-499b-dce6-e0f7957ea81f"
   },
   "outputs": [
    {
     "name": "stdout",
     "output_type": "stream",
     "text": [
      "Accuracy on 20% training data:\n",
      "\n",
      "Training accuracy: 92.81%\n",
      "Testing accuracy: 91.24%\n"
     ]
    }
   ],
   "source": [
    "# Calculate accuracy on the training data\n",
    "\n",
    "print(\"Accuracy on 20% training data:\\n\")\n",
    "\n",
    "train_accuracy = calculate_accuracy(X_train, y_train, model)\n",
    "print(f'Training accuracy: {train_accuracy * 100:.2f}%')\n",
    "\n",
    "# Calculate accuracy on the testing data\n",
    "test_accuracy = calculate_accuracy(X_test, y_test, model)\n",
    "print(f'Testing accuracy: {test_accuracy * 100:.2f}%')\n"
   ]
  },
  {
   "cell_type": "markdown",
   "metadata": {
    "id": "q-w7D7xzzCnZ"
   },
   "source": [
    "### (c) 50% training data"
   ]
  },
  {
   "cell_type": "code",
   "execution_count": 39,
   "metadata": {
    "colab": {
     "base_uri": "https://localhost:8080/",
     "height": 223,
     "referenced_widgets": [
      "b2dd020d07b8440797475a312d6084b7",
      "3838588b1a3946d4aeae621955c194d8",
      "0d505b6e3d5d4d3ab97b3a480bb9d542",
      "cc72efeaa9764388a8fa203d96179bb4",
      "7197fbeefee344a18b3a5c6be1fd2980",
      "dd33847530ac48b899eb5b4f36e21257",
      "90cf40e975564066aadd64f865b46e19",
      "4a693580e63841cbb207766da7839688",
      "0ccf305e33dc41e09fd9b178c105cbbd",
      "94393e85c22042d2a7ece58d02c71e87",
      "cf5b60e78f5649718938b322e8689549"
     ]
    },
    "id": "rQk5IetmzBJ2",
    "outputId": "95a93784-ac0e-4a1e-8713-cd9f630590e4"
   },
   "outputs": [
    {
     "name": "stdout",
     "output_type": "stream",
     "text": [
      "Train data shape:  (30000, 784)\n",
      "Label data shape:  (30000,)\n",
      "Validation data shape:  (30000, 784)\n",
      "Test data shape:  (10000, 784)\n"
     ]
    }
   ],
   "source": [
    "# Load the data\n",
    "X_train, y_train = load_mnist('data', kind='train')\n",
    "X_test, y_test = load_mnist('data', kind='t10k')\n",
    "\n",
    "# Normalize the data\n",
    "X_train = X_train / 255.0\n",
    "X_test = X_test / 255.0\n",
    "\n",
    "# Split the training data into training and validation sets\n",
    "train_size = int(X_train.shape[0] * 0.5)\n",
    "\n",
    "X_val = X_train[train_size:]\n",
    "y_val = y_train[train_size:]\n",
    "\n",
    "X_train = X_train[:train_size]\n",
    "y_train = y_train[:train_size]\n",
    "\n",
    "\n",
    "# Print the shapes of the data sets\n",
    "print(\"Train data shape: \", X_train.shape)\n",
    "print(\"Label data shape: \", y_train.shape)\n",
    "print(\"Validation data shape: \", X_val.shape)\n",
    "print(\"Test data shape: \", X_test.shape)\n"
   ]
  },
  {
   "cell_type": "code",
   "execution_count": 40,
   "metadata": {},
   "outputs": [],
   "source": [
    "\n",
    "# Create an instance of Single_layer_classifier\n",
    "input_size = X_train.shape[1]  # 784\n",
    "num_classes = output_size = 10\n",
    "\n",
    "hidden_size = 128\n",
    "\n",
    "# instantiate the model\n",
    "model = MLP(input_size, hidden_size, num_classes)\n"
   ]
  },
  {
   "cell_type": "code",
   "execution_count": 41,
   "metadata": {},
   "outputs": [],
   "source": [
    "\n",
    "# Set optimal (best) hyperparameters\n",
    "\n",
    "# Learning rate \n",
    "best_learning_rate = 0.001\n",
    "learning_rate = best_learning_rate\n",
    "\n",
    "best_lambda = 1e-5\n",
    "lmbda = best_lambda   #regularization coeff\n",
    "num_epochs = 500\n",
    "batch_size = 64\n",
    "\n",
    "\n"
   ]
  },
  {
   "cell_type": "code",
   "execution_count": 42,
   "metadata": {
    "colab": {
     "base_uri": "https://localhost:8080/",
     "height": 0
    },
    "id": "LWRMTv0Zz1UI",
    "outputId": "93013c05-6e5d-4752-e0d2-cdaa59cf7428"
   },
   "outputs": [
    {
     "data": {
      "application/vnd.jupyter.widget-view+json": {
       "model_id": "db1696135d6e4b84b710ddc9b9394e65",
       "version_major": 2,
       "version_minor": 0
      },
      "text/plain": [
       "  0%|          | 0/500 [00:00<?, ?it/s]"
      ]
     },
     "metadata": {},
     "output_type": "display_data"
    },
    {
     "name": "stdout",
     "output_type": "stream",
     "text": [
      "Epoch 1/500, Train Loss: 2.3025, Val Loss: 2.3024, Train Accuracy: 11.41%, Val Accuracy: 11.06%\n",
      "Epoch 11/500, Train Loss: 2.2965, Val Loss: 2.2955, Train Accuracy: 12.58%, Val Accuracy: 11.98%\n",
      "Epoch 21/500, Train Loss: 2.0619, Val Loss: 2.0326, Train Accuracy: 37.32%, Val Accuracy: 36.89%\n",
      "Epoch 31/500, Train Loss: 1.1827, Val Loss: 1.1552, Train Accuracy: 69.01%, Val Accuracy: 69.61%\n",
      "Epoch 41/500, Train Loss: 0.7868, Val Loss: 0.7743, Train Accuracy: 79.08%, Val Accuracy: 79.55%\n",
      "Epoch 51/500, Train Loss: 0.6130, Val Loss: 0.6077, Train Accuracy: 83.69%, Val Accuracy: 83.67%\n",
      "Epoch 61/500, Train Loss: 0.5229, Val Loss: 0.5216, Train Accuracy: 86.06%, Val Accuracy: 85.77%\n",
      "Epoch 71/500, Train Loss: 0.4685, Val Loss: 0.4697, Train Accuracy: 87.34%, Val Accuracy: 87.15%\n",
      "Epoch 81/500, Train Loss: 0.4319, Val Loss: 0.4355, Train Accuracy: 88.27%, Val Accuracy: 88.03%\n",
      "Epoch 91/500, Train Loss: 0.4063, Val Loss: 0.4112, Train Accuracy: 88.98%, Val Accuracy: 88.51%\n",
      "Epoch 101/500, Train Loss: 0.3864, Val Loss: 0.3928, Train Accuracy: 89.46%, Val Accuracy: 88.93%\n",
      "Epoch 111/500, Train Loss: 0.3707, Val Loss: 0.3783, Train Accuracy: 89.84%, Val Accuracy: 89.34%\n",
      "Epoch 121/500, Train Loss: 0.3581, Val Loss: 0.3662, Train Accuracy: 90.11%, Val Accuracy: 89.65%\n",
      "Epoch 131/500, Train Loss: 0.3469, Val Loss: 0.3561, Train Accuracy: 90.41%, Val Accuracy: 89.86%\n",
      "Epoch 141/500, Train Loss: 0.3370, Val Loss: 0.3473, Train Accuracy: 90.62%, Val Accuracy: 90.02%\n",
      "Epoch 151/500, Train Loss: 0.3286, Val Loss: 0.3396, Train Accuracy: 90.91%, Val Accuracy: 90.27%\n",
      "Epoch 161/500, Train Loss: 0.3209, Val Loss: 0.3327, Train Accuracy: 91.14%, Val Accuracy: 90.45%\n",
      "Epoch 171/500, Train Loss: 0.3137, Val Loss: 0.3264, Train Accuracy: 91.33%, Val Accuracy: 90.64%\n",
      "Epoch 181/500, Train Loss: 0.3067, Val Loss: 0.3207, Train Accuracy: 91.49%, Val Accuracy: 90.83%\n",
      "Epoch 191/500, Train Loss: 0.3009, Val Loss: 0.3153, Train Accuracy: 91.72%, Val Accuracy: 90.94%\n",
      "Epoch 201/500, Train Loss: 0.2951, Val Loss: 0.3105, Train Accuracy: 91.88%, Val Accuracy: 91.08%\n",
      "Epoch 211/500, Train Loss: 0.2896, Val Loss: 0.3059, Train Accuracy: 92.02%, Val Accuracy: 91.22%\n",
      "Epoch 221/500, Train Loss: 0.2846, Val Loss: 0.3015, Train Accuracy: 92.15%, Val Accuracy: 91.36%\n",
      "Epoch 231/500, Train Loss: 0.2797, Val Loss: 0.2975, Train Accuracy: 92.27%, Val Accuracy: 91.48%\n",
      "Epoch 241/500, Train Loss: 0.2753, Val Loss: 0.2936, Train Accuracy: 92.38%, Val Accuracy: 91.62%\n",
      "Epoch 251/500, Train Loss: 0.2709, Val Loss: 0.2898, Train Accuracy: 92.55%, Val Accuracy: 91.68%\n",
      "Epoch 261/500, Train Loss: 0.2662, Val Loss: 0.2862, Train Accuracy: 92.67%, Val Accuracy: 91.75%\n",
      "Epoch 271/500, Train Loss: 0.2625, Val Loss: 0.2827, Train Accuracy: 92.78%, Val Accuracy: 91.83%\n",
      "Epoch 281/500, Train Loss: 0.2583, Val Loss: 0.2792, Train Accuracy: 92.88%, Val Accuracy: 91.94%\n",
      "Epoch 291/500, Train Loss: 0.2543, Val Loss: 0.2759, Train Accuracy: 92.94%, Val Accuracy: 92.00%\n",
      "Epoch 301/500, Train Loss: 0.2503, Val Loss: 0.2726, Train Accuracy: 93.07%, Val Accuracy: 92.12%\n",
      "Epoch 311/500, Train Loss: 0.2461, Val Loss: 0.2694, Train Accuracy: 93.18%, Val Accuracy: 92.18%\n",
      "Epoch 321/500, Train Loss: 0.2430, Val Loss: 0.2663, Train Accuracy: 93.27%, Val Accuracy: 92.26%\n",
      "Epoch 331/500, Train Loss: 0.2391, Val Loss: 0.2631, Train Accuracy: 93.37%, Val Accuracy: 92.36%\n",
      "Epoch 341/500, Train Loss: 0.2356, Val Loss: 0.2601, Train Accuracy: 93.44%, Val Accuracy: 92.41%\n",
      "Epoch 351/500, Train Loss: 0.2321, Val Loss: 0.2570, Train Accuracy: 93.59%, Val Accuracy: 92.53%\n",
      "Epoch 361/500, Train Loss: 0.2286, Val Loss: 0.2540, Train Accuracy: 93.70%, Val Accuracy: 92.60%\n",
      "Epoch 371/500, Train Loss: 0.2251, Val Loss: 0.2510, Train Accuracy: 93.79%, Val Accuracy: 92.68%\n",
      "Epoch 381/500, Train Loss: 0.2215, Val Loss: 0.2480, Train Accuracy: 93.86%, Val Accuracy: 92.84%\n",
      "Epoch 391/500, Train Loss: 0.2182, Val Loss: 0.2451, Train Accuracy: 93.97%, Val Accuracy: 92.96%\n",
      "Epoch 401/500, Train Loss: 0.2148, Val Loss: 0.2423, Train Accuracy: 94.03%, Val Accuracy: 93.04%\n",
      "Epoch 411/500, Train Loss: 0.2115, Val Loss: 0.2396, Train Accuracy: 94.15%, Val Accuracy: 93.12%\n",
      "Epoch 421/500, Train Loss: 0.2085, Val Loss: 0.2370, Train Accuracy: 94.23%, Val Accuracy: 93.18%\n",
      "Epoch 431/500, Train Loss: 0.2056, Val Loss: 0.2343, Train Accuracy: 94.35%, Val Accuracy: 93.27%\n",
      "Epoch 441/500, Train Loss: 0.2026, Val Loss: 0.2318, Train Accuracy: 94.43%, Val Accuracy: 93.35%\n",
      "Epoch 451/500, Train Loss: 0.1995, Val Loss: 0.2293, Train Accuracy: 94.49%, Val Accuracy: 93.42%\n",
      "Epoch 461/500, Train Loss: 0.1966, Val Loss: 0.2270, Train Accuracy: 94.56%, Val Accuracy: 93.49%\n",
      "Epoch 471/500, Train Loss: 0.1939, Val Loss: 0.2246, Train Accuracy: 94.67%, Val Accuracy: 93.57%\n",
      "Epoch 481/500, Train Loss: 0.1913, Val Loss: 0.2224, Train Accuracy: 94.76%, Val Accuracy: 93.66%\n",
      "Epoch 491/500, Train Loss: 0.1882, Val Loss: 0.2201, Train Accuracy: 94.82%, Val Accuracy: 93.73%\n",
      "Epoch 500/500, Train Loss: 0.1862, Val Loss: 0.2182, Train Accuracy: 94.87%, Val Accuracy: 93.81%\n"
     ]
    }
   ],
   "source": [
    "\n",
    "# Training loop\n",
    "\n",
    "# Lists to store performance data for plotting\n",
    "train_loss_history = []\n",
    "val_loss_history = []\n",
    "train_accuracy_history = []\n",
    "val_accuracy_history = []\n",
    "\n",
    "for epoch in tqdm(range(num_epochs)):\n",
    "    losses = []\n",
    "    #learning_rate *= decay_rate\n",
    "    for input_x, input_y in get_minibatch(batch_size):\n",
    "        # Forward pass\n",
    "        scores = model.forward(input_x)\n",
    "        \n",
    "        # Calculate loss and gradient\n",
    "        loss, dscores = loss_function(input_y, scores, lmbda, [model.fc1.W, model.fc2.W])\n",
    "        losses.append(loss)\n",
    "        \n",
    "        # Backward pass\n",
    "        model.backward(dscores)\n",
    "        \n",
    "        # Update weights and bias\n",
    "        model.fc1.W -= learning_rate * model.fc1.dW\n",
    "        model.fc1.b -= learning_rate * model.fc1.db\n",
    "        model.fc2.W -= learning_rate * model.fc2.dW\n",
    "        model.fc2.b -= learning_rate * model.fc2.db\n",
    "\n",
    "    # After each epoch, calculate and print loss and accuracy\n",
    "    avg_train_loss = np.mean(losses)  # average loss of all batches\n",
    "\n",
    "    # Calculate validation loss\n",
    "    val_scores = model.forward(X_val)  # output values\n",
    "    val_loss, _ = loss_function(y_val, val_scores, lmbda, [model.fc1.W, model.fc2.W])  # for entire validation dataset \n",
    "\n",
    "    train_acc = calculate_accuracy(X_train, y_train, model)\n",
    "    val_acc = calculate_accuracy(X_val, y_val, model)\n",
    "\n",
    "    if(epoch % 10 == 0 or epoch == 499):\n",
    "        print(f\"Epoch {epoch+1}/{num_epochs}, Train Loss: {avg_train_loss:.4f}, Val Loss: {val_loss:.4f}, Train Accuracy: {train_acc*100:.2f}%, Val Accuracy: {val_acc*100:.2f}%\")\n",
    "\n",
    "    # Store loss and accuracy for plotting\n",
    "    train_loss_history.append(avg_train_loss)\n",
    "    val_loss_history.append(val_loss)\n",
    "    train_accuracy_history.append(train_acc)\n",
    "    val_accuracy_history.append(val_acc)"
   ]
  },
  {
   "cell_type": "code",
   "execution_count": 43,
   "metadata": {},
   "outputs": [
    {
     "name": "stdout",
     "output_type": "stream",
     "text": [
      "Accuracy on 50% training data:\n",
      "\n",
      "Training accuracy: 94.87%\n",
      "Testing accuracy: 94.25%\n"
     ]
    }
   ],
   "source": [
    "# Calculate accuracy on the training data\n",
    "\n",
    "print(\"Accuracy on 50% training data:\\n\")\n",
    "\n",
    "train_accuracy = calculate_accuracy(X_train, y_train, model)\n",
    "print(f'Training accuracy: {train_accuracy * 100:.2f}%')\n",
    "\n",
    "# Calculate accuracy on the testing data\n",
    "test_accuracy = calculate_accuracy(X_test, y_test, model)\n",
    "print(f'Testing accuracy: {test_accuracy * 100:.2f}%')\n"
   ]
  },
  {
   "cell_type": "markdown",
   "metadata": {
    "id": "KX-cXeY3pdhr"
   },
   "source": [
    "\n",
    "# Implementing a Convolution Module with Numpy\n",
    "\n",
    "* This topic will require you to implement the Convolution operation using Numpy.\n",
    "* We will use the Module for tasks like Blurring.\n",
    "* Finally, we implement Backpropagation for the convolution module.\n"
   ]
  },
  {
   "cell_type": "markdown",
   "metadata": {
    "id": "kHeieqicpdhz"
   },
   "source": [
    "## Question 4\n",
    "\n",
    "* Implement a naive Convolution module, with basic functionalities: kernel_size, padding, stride and dilation\n",
    "  \n",
    "* Test out the convolution layer by using it to do gaussian blurring on 10 random images of CIFAR-10 dataset\n"
   ]
  },
  {
   "cell_type": "code",
   "execution_count": 1,
   "metadata": {
    "id": "YoVvSEj0pdh5"
   },
   "outputs": [],
   "source": [
    "# ## Define a class Convolution Layer, which is initialized with the various required params:\n",
    "\n",
    "import numpy as np\n",
    "import matplotlib.pyplot as plt\n",
    "import urllib.request\n",
    "import pickle\n",
    "\n",
    "# Define a class Convolution Layer\n",
    "class Convolution_Layer():\n",
    "    \n",
    "    def __init__(self, input_channels, output_channels, filter_size, bias=True, stride=1, padding=0, dilation=1):\n",
    "        self.input_channels = input_channels\n",
    "        self.output_channels = output_channels\n",
    "        self.filter_size = filter_size\n",
    "        self.stride = stride\n",
    "        self.padding = padding\n",
    "        self.dilation = dilation\n",
    "        \n",
    "        # For an untrained layer, set random initial filter weights and bias\n",
    "        self.weights = np.random.randn(output_channels, input_channels, filter_size, filter_size)\n",
    "        self.bias = np.random.randn(output_channels)\n",
    "        \n",
    "        # if bias:\n",
    "        #     self.bias = np.random.randn(output_channels)\n",
    "        # else:\n",
    "        #     self.bias = None\n",
    "\n",
    "        self.weights_grad = np.zeros(self.weights.shape)  # Define weights_grad attribute with initial value of 0\n",
    "        self.biases_grad = np.zeros(self.bias.shape)\n",
    "         \n",
    "        \n",
    "    def forward(self, input):\n",
    "        # Input Preprocess(According to pad etc.) Input will be of size (Batch_size, in_channels, inp_height, inp_width)\n",
    "        batch_size, in_channels, inp_height, inp_width = input.shape\n",
    "        \n",
    "        # Reminder: Save Input for backward-prop\n",
    "        self.input = input\n",
    "        \n",
    "        # Pad the input\n",
    "        padded_input = np.pad(input, ((0, 0), (0, 0), (self.padding, self.padding), (self.padding, self.padding)), mode='constant')\n",
    "        \n",
    "        # Compute the output dimensions\n",
    "        out_height = int(((inp_height + 2 * self.padding - self.dilation * (self.filter_size - 1) - 1) / self.stride) + 1)\n",
    "        out_width = int(((inp_width + 2 * self.padding - self.dilation * (self.filter_size - 1) - 1) / self.stride) + 1)\n",
    "        \n",
    "        # Initialize the output\n",
    "        output = np.zeros((batch_size, self.output_channels, out_height, out_width))\n",
    "        \n",
    "        # Simple Conv operation:\n",
    "        # Loop over every location in inp_height * inp_width for the whole batch\n",
    "        for i in range(batch_size):\n",
    "            for j in range(self.output_channels):\n",
    "                for k in range(out_height):\n",
    "                    for l in range(out_width):\n",
    "                        output[i, j, k, l] = np.sum(padded_input[i, :, k*self.stride:k*self.stride+self.filter_size, l*self.stride:l*self.stride+self.filter_size] * self.weights[j]) + self.bias[j] if self.bias is not None else 0\n",
    "        \n",
    "        # Output will be of the size (Batch_size, out_channels, out_height, out_width)\n",
    "        return output\n",
    "    \n",
    "    def backward(self, grad_of_output_size):\n",
    "        # Naive Implementation\n",
    "        # Speed is not a concern\n",
    "        # Hint: gradients from each independent operation can be summed\n",
    "        \n",
    "        batch_size, out_channels, out_height, out_width = grad_of_output_size.shape\n",
    "        \n",
    "        # Initialize the gradient with respect to the weights\n",
    "        grad_weights = np.zeros((self.output_channels, self.input_channels, self.filter_size, self.filter_size))\n",
    "        \n",
    "       # Initialize the gradient with respect to the bias\n",
    "        if self.bias is not None:\n",
    "            grad_bias = np.zeros(self.output_channels)\n",
    "        else:\n",
    "            grad_bias = None\n",
    "       \n",
    "\n",
    "        # Pad the input and the gradient\n",
    "        padded_input = np.pad(self.input, ((0, 0), (0, 0), (self.padding, self.padding), (self.padding, self.padding)), mode='constant')\n",
    "        padded_grad = np.pad(grad_of_output_size, ((0,0), (0,0), (self.padding, self.padding), (self.padding, self.padding)), mode='constant')\n",
    "            \n",
    "            # Initialize the gradient with respect to the input\n",
    "        grad_input = np.zeros_like(padded_input)\n",
    "    \n",
    "        # Loop over every location in out_height * out_width for the whole batch\n",
    "        for i in range(batch_size):\n",
    "            for j in range(self.output_channels):\n",
    "                for k in range(out_height):\n",
    "                    for l in range(out_width):\n",
    "                        # Compute the gradients with respect to the weights and the bias\n",
    "                        grad_weights[j] += padded_input[i, :, k*self.stride:k*self.stride+self.filter_size, l*self.stride:l*self.stride+self.filter_size] * grad_of_output_size[i, j, k, l]\n",
    "                        if self.bias is not None:\n",
    "                            grad_bias[j] += grad_of_output_size[i, j, k, l]\n",
    "                    \n",
    "                        # Compute the gradients with respect to the input\n",
    "                        grad_input[i, :, k*self.stride:k*self.stride+self.filter_size, l*self.stride:l*self.stride+self.filter_size] += self.weights[j] * grad_of_output_size[i, j, k, l]\n",
    "    \n",
    "        # Remove the padding from the gradient with respect to the input\n",
    "        grad_input = grad_input[:, :, self.padding:-self.padding, self.padding:-self.padding]\n",
    "    \n",
    "        #  return gradient of the size of the weight kernel\n",
    "        return grad_input, grad_weights, grad_bias\n",
    "\n",
    "    def set_weights(self, new_weights):\n",
    "        ## Replace the set of weights with the given 'new_weights' file named 'C0_weights.npy' which has a shape (20,3,5,5)\n",
    "        ## use this for setting weights for blurring, bilateral filtering etc. \n",
    "        self.weights = new_weights\n",
    "\n"
   ]
  },
  {
   "cell_type": "code",
   "execution_count": 2,
   "metadata": {
    "colab": {
     "base_uri": "https://localhost:8080/",
     "height": 0
    },
    "id": "TDoqiua8pdia",
    "outputId": "7efe8651-984e-461b-8410-ca2b3c3d1033"
   },
   "outputs": [
    {
     "name": "stdout",
     "output_type": "stream",
     "text": [
      "cifar-10-batches-py/\n",
      "cifar-10-batches-py/data_batch_4\n",
      "cifar-10-batches-py/readme.html\n",
      "cifar-10-batches-py/test_batch\n",
      "cifar-10-batches-py/data_batch_3\n",
      "cifar-10-batches-py/batches.meta\n",
      "cifar-10-batches-py/data_batch_2\n",
      "cifar-10-batches-py/data_batch_5\n",
      "cifar-10-batches-py/data_batch_1\n"
     ]
    }
   ],
   "source": [
    "### Download CIFAR-10 images and load it in a numpy array (https://www.cs.toronto.edu/~kriz/cifar.html)\n",
    "\n",
    "url = \"https://www.cs.toronto.edu/~kriz/cifar-10-python.tar.gz\"\n",
    "filename = \"cifar-10-python.tar.gz\"\n",
    "\n",
    "urllib.request.urlretrieve(url, filename)\n",
    "\n",
    "!tar -xvf cifar-10-python.tar.gz\n",
    "\n",
    "def load_cifar_batch(filename):\n",
    "    with open(filename, 'rb') as f:\n",
    "        #The image data X and labels Y are extracted from the dictionary.\n",
    "        datadict = pickle.load(f, encoding='latin1')\n",
    "        X = datadict['data']\n",
    "        Y = datadict['labels']\n",
    "        \n",
    "        #The image data is reshaped from a flat array of length 3072 (3 x 32 x 32) to a 3-dimensional array of shape (10000, 32, 32, 3), \n",
    "        #where the first dimension represents the number of images in the batch, and the last dimension represents the \n",
    "        #color channels (red, green, and blue) of each pixel.\n",
    "        # Then, the order of the dimensions is then changed from (num_images, height, width, channels) to (num_images, width, height, channels).\n",
    "        X = X.reshape(10000, 3, 32, 32).transpose(0,2,3,1).astype(\"float\")\n",
    "        Y = np.array(Y)\n",
    "        return X,Y\n",
    "\n"
   ]
  },
  {
   "cell_type": "code",
   "execution_count": 5,
   "metadata": {},
   "outputs": [],
   "source": [
    "# loads the first batch of the dataset, which contains 10000 images and their corresponding labels.\n",
    "X, Y = load_cifar_batch('./cifar-10-batches-py/data_batch_1')"
   ]
  },
  {
   "cell_type": "markdown",
   "metadata": {
    "id": "wIiCfByydY3S"
   },
   "source": [
    "### Initialize a conv layer. Set weights for gaussian blurring (do not train the filter for this part). Visualise the filters using matplotlib\n"
   ]
  },
  {
   "cell_type": "code",
   "execution_count": 6,
   "metadata": {},
   "outputs": [
    {
     "data": {
      "image/png": "[encoded data removed]",
      "text/plain": [
       "<Figure size 1000x800 with 20 Axes>"
      ]
     },
     "metadata": {},
     "output_type": "display_data"
    }
   ],
   "source": [
    "# conv_layer = Convolution_Layer(input_channels=3, output_channels=20, filter_size=5, bias=True, stride=1, padding=2, dilation=1)\n",
    "# gaussian_weights = np.load('C0_weights.npy')\n",
    "# conv_layer.set_weights(gaussian_weights)\n",
    "\n",
    "# fig, axes = plt.subplots(nrows=4, ncols=5, figsize=(10, 8))\n",
    "# for i, ax in enumerate(axes.flat):\n",
    "#     ax.imshow(gaussian_weights[i].transpose(1, 2, 0))\n",
    "#     ax.axis('off')\n",
    "# plt.suptitle(\"Gaussian filter kernels\")\n",
    "# plt.show()\n",
    "conv_layer = Convolution_Layer(input_channels=3, output_channels=20, filter_size=5, bias=True, stride=1, padding=2, dilation=1)\n",
    "gaussian_weights = np.load('C0_weights.npy')\n",
    "gaussian_weights_norm = (gaussian_weights - np.min(gaussian_weights)) / (np.max(gaussian_weights) - np.min(gaussian_weights))\n",
    "conv_layer.set_weights(gaussian_weights_norm)\n",
    "\n",
    "fig, axes = plt.subplots(nrows=4, ncols=5, figsize=(10, 8))\n",
    "for i, ax in enumerate(axes.flat):\n",
    "    ax.imshow(gaussian_weights_norm[i].transpose(1, 2, 0))\n",
    "    ax.axis('off')\n",
    "plt.suptitle(\"Gaussian filter kernels\")\n",
    "plt.show()\n"
   ]
  },
  {
   "cell_type": "markdown",
   "metadata": {
    "id": "Psef_YI0dY3T"
   },
   "source": [
    "### Generate output for the first 5 images of the training set"
   ]
  },
  {
   "cell_type": "code",
   "execution_count": 7,
   "metadata": {
    "id": "-7VZtGDfdY3T"
   },
   "outputs": [],
   "source": [
    "# WRITE CODE HERE\n",
    "\n",
    "# Here, X[:5] selects the first 5 images from the CIFAR-10 dataset, and X[:5].transpose(0, 3, 1, 2)\n",
    "# changes the shape of the input from (5, 32, 32, 3) to (5, 3, 32, 32), which is the format required by \n",
    "# the convolution layer. conv_layer.forward performs forward propagation to compute the outputs of the \n",
    "# layer for the given input. The resulting outputs variable will have shape (5, 20, 32, 32), \n",
    "# where 5 is the number of input images, 20 is the number of output channels, and 32x32 is the size of the output feature maps.\n",
    "\n",
    "outputs = conv_layer.forward(X[:5].transpose(0, 3, 1, 2))"
   ]
  },
  {
   "cell_type": "markdown",
   "metadata": {
    "id": "hl6MNMwgdY3T"
   },
   "source": [
    "### Use matplotlib to show the input and corresponding blurred output"
   ]
  },
  {
   "cell_type": "code",
   "execution_count": 8,
   "metadata": {
    "colab": {
     "base_uri": "https://localhost:8080/",
     "height": 1587
    },
    "id": "gv1WmC7rdY3T",
    "outputId": "fecf4020-6858-42ae-d502-c5f185f63ff7"
   },
   "outputs": [
    {
     "data": {
      "image/png": "[encoded data removed]",
      "text/plain": [
       "<Figure size 1500x2500 with 10 Axes>"
      ]
     },
     "metadata": {},
     "output_type": "display_data"
    }
   ],
   "source": [
    "# WRITE CODE HERE\n",
    "\n",
    "# create a figure with 5 rows and 2 columns of subplots\n",
    "fig, axes = plt.subplots(nrows=5, ncols=2, figsize=(15, 25))\n",
    "\n",
    "# loop over the first 5 images in the training set\n",
    "for i, ax in enumerate(axes):\n",
    "    ax[0].imshow(X[i].astype(int))\n",
    "    ax[1].imshow(outputs[i, 0].astype(int))\n",
    "    \n",
    "# set the title and display the figure\n",
    "plt.suptitle(\"Input images and corresponding blurred output\")\n",
    "plt.show()\n"
   ]
  },
  {
   "cell_type": "markdown",
   "metadata": {
    "id": "zmsPeOEOpdi8"
   },
   "source": [
    "## Question 5\n",
    "<br>\n",
    "Now we will use this module for training a simple Convolution Layer using CIFAR-10 images. \n",
    "\n",
    "* The goal is to learn a set of weights, by using the backpropagation function created. To test the backpropagation, instead of training a whole network, we will train only a single layer.\n",
    "  * Instantiate a Convolution  layer $C_0$ with 20 filters, each with size 5$\\times$5 (RGB image, so 3 input channels). Load the given numpy array of size (20,3,5,5), which represents the weights of a convolution layer. Set the given values as the filter weights for $C_0$. Take 100 CIFAR-10 images. Save the output of these 100 images generated from this Convolution layer $C_0$. \n",
    "  \n",
    "  * Now, initialize a new convolution layer $C$ with weight values sampled from uniform distribution [-1,1]. Use the $L_2$ loss between the output of this layer $C$ and the output generated in the previous step to learn the filter weights of $C_0$.\n"
   ]
  },
  {
   "cell_type": "code",
   "execution_count": 88,
   "metadata": {},
   "outputs": [],
   "source": [
    "# ## Define a class Convolution Layer, which is initialized with the various required params:\n",
    "\n",
    "# From previous question (convolution module)\n",
    "\n",
    "import numpy as np\n",
    "import matplotlib.pyplot as plt\n",
    "import urllib.request\n",
    "import pickle\n",
    "\n",
    "# Define a class Convolution Layer\n",
    "class Convolution_Layer():\n",
    "    \n",
    "    def __init__(self, input_channels, output_channels, filter_size, bias=True, stride=1, padding=0, dilation=1):\n",
    "        self.input_channels = input_channels\n",
    "        self.output_channels = output_channels\n",
    "        self.filter_size = filter_size\n",
    "        self.stride = stride\n",
    "        self.padding = padding\n",
    "        self.dilation = dilation\n",
    "        \n",
    "        # For an untrained layer, set random initial filter weights and bias\n",
    "        self.weights = np.random.randn(output_channels, input_channels, filter_size, filter_size)\n",
    "        self.bias = np.random.randn(output_channels)\n",
    "        \n",
    "        # if bias:\n",
    "        #     self.bias = np.random.randn(output_channels)\n",
    "        # else:\n",
    "        #     self.bias = None\n",
    "\n",
    "        self.weights_grad = np.zeros(self.weights.shape)  # Define weights_grad attribute with initial value of 0\n",
    "        self.biases_grad = np.zeros(self.bias.shape)\n",
    "         \n",
    "        \n",
    "    def forward(self, input):\n",
    "        # Input Preprocess(According to pad etc.) Input will be of size (Batch_size, in_channels, inp_height, inp_width)\n",
    "        batch_size, in_channels, inp_height, inp_width = input.shape\n",
    "        \n",
    "        # Reminder: Save Input for backward-prop\n",
    "        self.input = input\n",
    "        \n",
    "        # Pad the input\n",
    "        padded_input = np.pad(input, ((0, 0), (0, 0), (self.padding, self.padding), (self.padding, self.padding)), mode='constant')\n",
    "        \n",
    "        # Compute the output dimensions\n",
    "        out_height = int(((inp_height + 2 * self.padding - self.dilation * (self.filter_size - 1) - 1) / self.stride) + 1)\n",
    "        out_width = int(((inp_width + 2 * self.padding - self.dilation * (self.filter_size - 1) - 1) / self.stride) + 1)\n",
    "        \n",
    "        # Initialize the output\n",
    "        output = np.zeros((batch_size, self.output_channels, out_height, out_width))\n",
    "        \n",
    "        # Simple Conv operation:\n",
    "        # Loop over every location in inp_height * inp_width for the whole batch\n",
    "        for i in range(batch_size):\n",
    "            for j in range(self.output_channels):\n",
    "                for k in range(out_height):\n",
    "                    for l in range(out_width):\n",
    "                        output[i, j, k, l] = np.sum(padded_input[i, :, k*self.stride:k*self.stride+self.filter_size, l*self.stride:l*self.stride+self.filter_size] * self.weights[j]) + self.bias[j] if self.bias is not None else 0\n",
    "        \n",
    "        # Output will be of the size (Batch_size, out_channels, out_height, out_width)\n",
    "        return output\n",
    "    \n",
    "    def backward(self, grad_of_output_size):\n",
    "        # Naive Implementation\n",
    "        # Speed is not a concern\n",
    "        # Hint: gradients from each independent operation can be summed\n",
    "        \n",
    "        batch_size, out_channels, out_height, out_width = grad_of_output_size.shape\n",
    "        \n",
    "        # Initialize the gradient with respect to the weights\n",
    "        grad_weights = np.zeros((self.output_channels, self.input_channels, self.filter_size, self.filter_size))\n",
    "        \n",
    "       # Initialize the gradient with respect to the bias\n",
    "        if self.bias is not None:\n",
    "            grad_bias = np.zeros(self.output_channels)\n",
    "        else:\n",
    "            grad_bias = None\n",
    "       \n",
    "\n",
    "        # Pad the input and the gradient\n",
    "        padded_input = np.pad(self.input, ((0, 0), (0, 0), (self.padding, self.padding), (self.padding, self.padding)), mode='constant')\n",
    "        padded_grad = np.pad(grad_of_output_size, ((0,0), (0,0), (self.padding, self.padding), (self.padding, self.padding)), mode='constant')\n",
    "            \n",
    "            # Initialize the gradient with respect to the input\n",
    "        grad_input = np.zeros_like(padded_input)\n",
    "    \n",
    "        # Loop over every location in out_height * out_width for the whole batch\n",
    "        for i in range(batch_size):\n",
    "            for j in range(self.output_channels):\n",
    "                for k in range(out_height):\n",
    "                    for l in range(out_width):\n",
    "                        # Compute the gradients with respect to the weights and the bias\n",
    "                        grad_weights[j] += padded_input[i, :, k*self.stride:k*self.stride+self.filter_size, l*self.stride:l*self.stride+self.filter_size] * grad_of_output_size[i, j, k, l]\n",
    "                        if self.bias is not None:\n",
    "                            grad_bias[j] += grad_of_output_size[i, j, k, l]\n",
    "                    \n",
    "                        # Compute the gradients with respect to the input\n",
    "                        grad_input[i, :, k*self.stride:k*self.stride+self.filter_size, l*self.stride:l*self.stride+self.filter_size] += self.weights[j] * grad_of_output_size[i, j, k, l]\n",
    "    \n",
    "        # Remove the padding from the gradient with respect to the input\n",
    "        grad_input = grad_input[:, :, self.padding:-self.padding, self.padding:-self.padding]\n",
    "    \n",
    "        #  return gradient of the size of the weight kernel\n",
    "        return grad_input, grad_weights, grad_bias\n",
    "\n",
    "    def set_weights(self, new_weights):\n",
    "        ## Replace the set of weights with the given 'new_weights' file named 'C0_weights.npy' which has a shape (20,3,5,5)\n",
    "        ## use this for setting weights for blurring, bilateral filtering etc. \n",
    "        self.weights = new_weights\n",
    "\n"
   ]
  },
  {
   "cell_type": "code",
   "execution_count": 89,
   "metadata": {},
   "outputs": [],
   "source": [
    "import numpy as np\n",
    "\n",
    "# Define a class L2 loss\n",
    "class L2_loss():\n",
    "    def __init__(self):\n",
    "        pass\n",
    "    \n",
    "    def forward(self, C0_output, C_output):\n",
    "        # Conv. output is of dimension (batchsize, channels, height, width)\n",
    "        # Calculate the L2 norm of (C0_output - C_output)\n",
    "        #The forward method calculates the L2 loss by first computing the element-wise difference between C0_output and C_output.\n",
    "        \n",
    "        loss = np.linalg.norm(C0_output - C_output)\n",
    "        return loss\n",
    "    \n",
    "    def backward(self, C0_output, C_output):\n",
    "        # From the loss, and the conv. output, get the grad at each location\n",
    "        # The grad is of the shape (batchsize, channels, height, width)\n",
    "        grad = 2 * (C_output - C0_output)\n",
    "        return grad\n",
    "    \n",
    "    "
   ]
  },
  {
   "cell_type": "code",
   "execution_count": 90,
   "metadata": {},
   "outputs": [],
   "source": [
    "# Load cifar data\n",
    "X, Y = load_cifar_batch('./cifar-10-batches-py/data_batch_1')\n",
    "\n",
    "# Normalize X here\n",
    "X = X / 255.0\n",
    "\n",
    "\n",
    "# Load the weights\n",
    "#Load filter weights from the given numpy array \"C0_weights.npy\"\n",
    "C0_weights = np.load('C0_weights.npy')\n",
    "C0_weights_norm = (C0_weights - np.min(C0_weights)) / (np.max(C0_weights) - np.min(C0_weights))\n",
    "\n",
    "# Init the given layer\n",
    "#Instantiate a Convolution layer C0 with 20 filters, each with size 5×5 (RGB image, so 3 input channels)\n",
    "C0 = Convolution_Layer(input_channels=3, output_channels=20, filter_size=5, stride=1, padding=2)\n",
    "\n",
    "#Load the given numpy array of size (20,3,5,5), which represents the weights of a convolution layer\n",
    "C0.set_weights(C0_weights_norm)\n",
    "\n",
    "## Take 100 CIFAR-10 images. Save the output of these 100 images generated from this Convolution layer C0.\n",
    "#Take 100 CIFAR-10 images\n",
    "\n",
    "# Now get the outputs for the first 100 images\n",
    "#Get output for these 100 images from Convolution Layer C0\n",
    "num_images = 100\n",
    "C0_output = C0.forward(X[:num_images].transpose(0, 3, 1, 2))\n",
    "\n",
    "# Now for the training part\n",
    "# Init a new layer\n",
    "#Now initialize a new convolution layer C with weight values sampled from uniform distribution [-1,1]. \n",
    "#Use the L2 loss between the output of this layer C and the output generated in the previous step to learn the filter weights of C0.\n",
    "\n",
    "#C = Convolution_Layer(input_channels=3, output_channels=20, filter_size=5, stride=1, padding=2)\n",
    "C = Convolution_Layer(input_channels=3, output_channels=20, filter_size=5, bias=True, stride=1, padding=2, dilation=1)\n",
    "C.set_weights(np.random.uniform(-1, 1, size=(20, 3, 5, 5)))\n",
    "\n",
    "\n"
   ]
  },
  {
   "cell_type": "code",
   "execution_count": 91,
   "metadata": {},
   "outputs": [
    {
     "name": "stdout",
     "output_type": "stream",
     "text": [
      "Epoch: 1, Loss: 3406.4556877210857\n",
      "Epoch: 2, Loss: 3060.4667489450103\n",
      "Epoch: 3, Loss: 2716.0443053338568\n",
      "Epoch: 4, Loss: 2373.8744479057223\n",
      "Epoch: 5, Loss: 2035.102461652807\n",
      "Epoch: 6, Loss: 1701.7790683307173\n",
      "Epoch: 7, Loss: 1380.8083927512553\n",
      "Epoch: 8, Loss: 1096.271585205508\n",
      "Epoch: 9, Loss: 870.8115110173909\n",
      "Epoch: 10, Loss: 715.6132954301881\n",
      "Epoch: 11, Loss: 634.2771693656113\n",
      "Epoch: 12, Loss: 605.9096779055584\n",
      "Epoch: 13, Loss: 598.7799730179888\n",
      "Epoch: 14, Loss: 596.4367649655385\n",
      "Epoch: 15, Loss: 595.5624717705869\n",
      "Epoch: 16, Loss: 595.180158529826\n",
      "Epoch: 17, Loss: 594.9645660676912\n",
      "Epoch: 18, Loss: 594.8193256489079\n",
      "Epoch: 19, Loss: 594.7036872775682\n",
      "Epoch: 20, Loss: 594.6018513102359\n"
     ]
    }
   ],
   "source": [
    "# Init a L2 Loss layer\n",
    "l2_loss = L2_loss()\n",
    "\n",
    "\n",
    "# Now we start the training\n",
    "\n",
    "# Gradient clipping function (to handle exploding gradient)\n",
    "def clip_grads(grads, max_value):\n",
    "    return np.clip(grads, -max_value, max_value)\n",
    "\n",
    "# Set the learning rate and max gradient value\n",
    "learning_rate = 0.001\n",
    "max_grad = 1.0\n",
    "\n",
    "# Now we start the training\n",
    "\n",
    "# Define batch size\n",
    "batch_size = 2\n",
    "num_epochs = 20\n",
    "\n",
    "for epoch in range(num_epochs):\n",
    "    total_loss = 0\n",
    "    num_batches = 0\n",
    "    \n",
    "    for i in range(0, num_images, batch_size):  \n",
    "        # Forward pass through C_0\n",
    "        C0_output = C0.forward(X[i:i+batch_size].transpose(0, 3, 1, 2))\n",
    "\n",
    "        # Forward pass through new conv layer C\n",
    "        C_output = C.forward(X[i:i+batch_size].transpose(0, 3, 1, 2))\n",
    "\n",
    "        # Calculate loss\n",
    "        loss = l2_loss.forward(C0_output, C_output)\n",
    "        \n",
    "        # Average the loss over the batch and add to total loss\n",
    "        avg_loss = np.mean(loss)\n",
    "        total_loss += avg_loss\n",
    "        num_batches += 1\n",
    "\n",
    "        # Backward pass\n",
    "        output_grad = l2_loss.backward(C0_output, C_output)\n",
    "\n",
    "        # Backward pass through conv layer\n",
    "        input_grad, weights_grad, bias_grad = C.backward(output_grad)\n",
    "        \n",
    "        # Clip gradients to prevent explosion\n",
    "        weights_grad = clip_grads(weights_grad, max_grad)\n",
    "        bias_grad = clip_grads(bias_grad, max_grad)\n",
    "\n",
    "        # Average the gradients over the batch\n",
    "        avg_weights_grad = np.mean(weights_grad, axis=0)\n",
    "        avg_bias_grad = np.mean(bias_grad, axis=0) if bias_grad is not None else None\n",
    "\n",
    "        # Update weights and bias\n",
    "        C.weights -= learning_rate * avg_weights_grad\n",
    "        if C.bias is not None:\n",
    "            C.bias -= learning_rate * avg_bias_grad\n",
    "\n",
    "    # Calculate the average loss for this epoch\n",
    "    avg_epoch_loss = total_loss / num_batches\n",
    "    print(f'Epoch: {epoch+1}, Loss: {avg_epoch_loss}')\n"
   ]
  },
  {
   "cell_type": "code",
   "execution_count": 92,
   "metadata": {},
   "outputs": [
    {
     "name": "stdout",
     "output_type": "stream",
     "text": [
      "Final L2 distance between C and C0 outputs: 4230.661719475999\n"
     ]
    }
   ],
   "source": [
    "# Print L2 dist between output from the new trained convolution layer C and the outputs generated from C_0.\n",
    "C0_output = C0.forward(X[:100].transpose(0, 3, 1, 2))\n",
    "C_output = C.forward(X[:100].transpose(0, 3, 1, 2))\n",
    "l2_dist = np.linalg.norm(C0_output - C_output)  # final L2 loss (eucledian distance)\n",
    "print(f'Final L2 distance between C and C0 outputs: {l2_dist}')\n"
   ]
  },
  {
   "cell_type": "code",
   "execution_count": 93,
   "metadata": {},
   "outputs": [
    {
     "name": "stdout",
     "output_type": "stream",
     "text": [
      "36.17199078802804\n"
     ]
    }
   ],
   "source": [
    "print(np.linalg.norm(C.weights - C0_weights))\n"
   ]
  },
  {
   "cell_type": "code",
   "execution_count": null,
   "metadata": {},
   "outputs": [],
   "source": []
  },
  {
   "cell_type": "code",
   "execution_count": null,
   "metadata": {},
   "outputs": [],
   "source": []
  }
 ],
 "metadata": {
  "anaconda-cloud": {},
  "colab": {
   "provenance": []
  },
  "interpreter": {
   "hash": "6945496b114ae6c8dbcad4f53e4fc084fdd8255c08c862c02a1152642bece680"
  },
  "kernelspec": {
   "display_name": "Python 3 (ipykernel)",
   "language": "python",
   "name": "python3"
  },
  "language_info": {
   "codemirror_mode": {
    "name": "ipython",
    "version": 3
   },
   "file_extension": ".py",
   "mimetype": "text/x-python",
   "name": "python",
   "nbconvert_exporter": "python",
   "pygments_lexer": "ipython3",
   "version": "3.7.9"
  },
  "widgets": {
   "application/vnd.jupyter.widget-state+json": {
    "071893e4287a4242be01418a56a50bd0": {
     "model_module": "@jupyter-widgets/base",
     "model_module_version": "1.2.0",
     "model_name": "LayoutModel",
     "state": {
      "_model_module": "@jupyter-widgets/base",
      "_model_module_version": "1.2.0",
      "_model_name": "LayoutModel",
      "_view_count": null,
      "_view_module": "@jupyter-widgets/base",
      "_view_module_version": "1.2.0",
      "_view_name": "LayoutView",
      "align_content": null,
      "align_items": null,
      "align_self": null,
      "border": null,
      "bottom": null,
      "display": null,
      "flex": null,
      "flex_flow": null,
      "grid_area": null,
      "grid_auto_columns": null,
      "grid_auto_flow": null,
      "grid_auto_rows": null,
      "grid_column": null,
      "grid_gap": null,
      "grid_row": null,
      "grid_template_areas": null,
      "grid_template_columns": null,
      "grid_template_rows": null,
      "height": null,
      "justify_content": null,
      "justify_items": null,
      "left": null,
      "margin": null,
      "max_height": null,
      "max_width": null,
      "min_height": null,
      "min_width": null,
      "object_fit": null,
      "object_position": null,
      "order": null,
      "overflow": null,
      "overflow_x": null,
      "overflow_y": null,
      "padding": null,
      "right": null,
      "top": null,
      "visibility": null,
      "width": null
     }
    },
    "096b811d5a1f4636924196229e30cde1": {
     "model_module": "@jupyter-widgets/controls",
     "model_module_version": "1.5.0",
     "model_name": "HBoxModel",
     "state": {
      "_dom_classes": [],
      "_model_module": "@jupyter-widgets/controls",
      "_model_module_version": "1.5.0",
      "_model_name": "HBoxModel",
      "_view_count": null,
      "_view_module": "@jupyter-widgets/controls",
      "_view_module_version": "1.5.0",
      "_view_name": "HBoxView",
      "box_style": "",
      "children": [
       "IPY_MODEL_7df349ba1fe74c31b113041ebdbf1600",
       "IPY_MODEL_ef15436ab85c4d1590b0c78f2739e39d",
       "IPY_MODEL_95d8920da3b84816aabc7a749b73cc4a"
      ],
      "layout": "IPY_MODEL_60f9db3a75b746c1b3c59c4371e7afeb"
     }
    },
    "09a63012ec064e19b8f2bbf45868c245": {
     "model_module": "@jupyter-widgets/controls",
     "model_module_version": "1.5.0",
     "model_name": "HBoxModel",
     "state": {
      "_dom_classes": [],
      "_model_module": "@jupyter-widgets/controls",
      "_model_module_version": "1.5.0",
      "_model_name": "HBoxModel",
      "_view_count": null,
      "_view_module": "@jupyter-widgets/controls",
      "_view_module_version": "1.5.0",
      "_view_name": "HBoxView",
      "box_style": "",
      "children": [
       "IPY_MODEL_7c669b2e0c184a36a749ecdee5948b78",
       "IPY_MODEL_de8fe75fa6a94fc09f3940ba292a7631",
       "IPY_MODEL_ecdab79eff7f4ab4bba814f526410390"
      ],
      "layout": "IPY_MODEL_a061109c422242b482c9ca1c6adda43e"
     }
    },
    "0a0cb0c7670245b18e3c605aa4b93a3d": {
     "model_module": "@jupyter-widgets/controls",
     "model_module_version": "1.5.0",
     "model_name": "DescriptionStyleModel",
     "state": {
      "_model_module": "@jupyter-widgets/controls",
      "_model_module_version": "1.5.0",
      "_model_name": "DescriptionStyleModel",
      "_view_count": null,
      "_view_module": "@jupyter-widgets/base",
      "_view_module_version": "1.2.0",
      "_view_name": "StyleView",
      "description_width": ""
     }
    },
    "0a679964331940559b556639d342efb4": {
     "model_module": "@jupyter-widgets/base",
     "model_module_version": "1.2.0",
     "model_name": "LayoutModel",
     "state": {
      "_model_module": "@jupyter-widgets/base",
      "_model_module_version": "1.2.0",
      "_model_name": "LayoutModel",
      "_view_count": null,
      "_view_module": "@jupyter-widgets/base",
      "_view_module_version": "1.2.0",
      "_view_name": "LayoutView",
      "align_content": null,
      "align_items": null,
      "align_self": null,
      "border": null,
      "bottom": null,
      "display": null,
      "flex": null,
      "flex_flow": null,
      "grid_area": null,
      "grid_auto_columns": null,
      "grid_auto_flow": null,
      "grid_auto_rows": null,
      "grid_column": null,
      "grid_gap": null,
      "grid_row": null,
      "grid_template_areas": null,
      "grid_template_columns": null,
      "grid_template_rows": null,
      "height": null,
      "justify_content": null,
      "justify_items": null,
      "left": null,
      "margin": null,
      "max_height": null,
      "max_width": null,
      "min_height": null,
      "min_width": null,
      "object_fit": null,
      "object_position": null,
      "order": null,
      "overflow": null,
      "overflow_x": null,
      "overflow_y": null,
      "padding": null,
      "right": null,
      "top": null,
      "visibility": null,
      "width": null
     }
    },
    "0ae9d386534e4204a606522add9b97c4": {
     "model_module": "@jupyter-widgets/base",
     "model_module_version": "1.2.0",
     "model_name": "LayoutModel",
     "state": {
      "_model_module": "@jupyter-widgets/base",
      "_model_module_version": "1.2.0",
      "_model_name": "LayoutModel",
      "_view_count": null,
      "_view_module": "@jupyter-widgets/base",
      "_view_module_version": "1.2.0",
      "_view_name": "LayoutView",
      "align_content": null,
      "align_items": null,
      "align_self": null,
      "border": null,
      "bottom": null,
      "display": null,
      "flex": null,
      "flex_flow": null,
      "grid_area": null,
      "grid_auto_columns": null,
      "grid_auto_flow": null,
      "grid_auto_rows": null,
      "grid_column": null,
      "grid_gap": null,
      "grid_row": null,
      "grid_template_areas": null,
      "grid_template_columns": null,
      "grid_template_rows": null,
      "height": null,
      "justify_content": null,
      "justify_items": null,
      "left": null,
      "margin": null,
      "max_height": null,
      "max_width": null,
      "min_height": null,
      "min_width": null,
      "object_fit": null,
      "object_position": null,
      "order": null,
      "overflow": null,
      "overflow_x": null,
      "overflow_y": null,
      "padding": null,
      "right": null,
      "top": null,
      "visibility": null,
      "width": null
     }
    },
    "0ccf305e33dc41e09fd9b178c105cbbd": {
     "model_module": "@jupyter-widgets/controls",
     "model_module_version": "1.5.0",
     "model_name": "ProgressStyleModel",
     "state": {
      "_model_module": "@jupyter-widgets/controls",
      "_model_module_version": "1.5.0",
      "_model_name": "ProgressStyleModel",
      "_view_count": null,
      "_view_module": "@jupyter-widgets/base",
      "_view_module_version": "1.2.0",
      "_view_name": "StyleView",
      "bar_color": null,
      "description_width": ""
     }
    },
    "0d505b6e3d5d4d3ab97b3a480bb9d542": {
     "model_module": "@jupyter-widgets/controls",
     "model_module_version": "1.5.0",
     "model_name": "FloatProgressModel",
     "state": {
      "_dom_classes": [],
      "_model_module": "@jupyter-widgets/controls",
      "_model_module_version": "1.5.0",
      "_model_name": "FloatProgressModel",
      "_view_count": null,
      "_view_module": "@jupyter-widgets/controls",
      "_view_module_version": "1.5.0",
      "_view_name": "ProgressView",
      "bar_style": "success",
      "description": "",
      "description_tooltip": null,
      "layout": "IPY_MODEL_4a693580e63841cbb207766da7839688",
      "max": 1000,
      "min": 0,
      "orientation": "horizontal",
      "style": "IPY_MODEL_0ccf305e33dc41e09fd9b178c105cbbd",
      "value": 1000
     }
    },
    "0e73463bc18a45a4a9feb25ba3290a9a": {
     "model_module": "@jupyter-widgets/base",
     "model_module_version": "1.2.0",
     "model_name": "LayoutModel",
     "state": {
      "_model_module": "@jupyter-widgets/base",
      "_model_module_version": "1.2.0",
      "_model_name": "LayoutModel",
      "_view_count": null,
      "_view_module": "@jupyter-widgets/base",
      "_view_module_version": "1.2.0",
      "_view_name": "LayoutView",
      "align_content": null,
      "align_items": null,
      "align_self": null,
      "border": null,
      "bottom": null,
      "display": null,
      "flex": null,
      "flex_flow": null,
      "grid_area": null,
      "grid_auto_columns": null,
      "grid_auto_flow": null,
      "grid_auto_rows": null,
      "grid_column": null,
      "grid_gap": null,
      "grid_row": null,
      "grid_template_areas": null,
      "grid_template_columns": null,
      "grid_template_rows": null,
      "height": null,
      "justify_content": null,
      "justify_items": null,
      "left": null,
      "margin": null,
      "max_height": null,
      "max_width": null,
      "min_height": null,
      "min_width": null,
      "object_fit": null,
      "object_position": null,
      "order": null,
      "overflow": null,
      "overflow_x": null,
      "overflow_y": null,
      "padding": null,
      "right": null,
      "top": null,
      "visibility": null,
      "width": null
     }
    },
    "11bc327c8a83425ea1c4bfade713f64b": {
     "model_module": "@jupyter-widgets/controls",
     "model_module_version": "1.5.0",
     "model_name": "HTMLModel",
     "state": {
      "_dom_classes": [],
      "_model_module": "@jupyter-widgets/controls",
      "_model_module_version": "1.5.0",
      "_model_name": "HTMLModel",
      "_view_count": null,
      "_view_module": "@jupyter-widgets/controls",
      "_view_module_version": "1.5.0",
      "_view_name": "HTMLView",
      "description": "",
      "description_tooltip": null,
      "layout": "IPY_MODEL_4ff6c1494b3948f4bf9c40238c16e41d",
      "placeholder": "​",
      "style": "IPY_MODEL_a119e3be0e0d4028abaf774bd21e0990",
      "value": " 1000/1000 [00:06&lt;00:00, 388.94it/s]"
     }
    },
    "12f4eb4f8e8f4b94ae694d16b5bda5e6": {
     "model_module": "@jupyter-widgets/base",
     "model_module_version": "1.2.0",
     "model_name": "LayoutModel",
     "state": {
      "_model_module": "@jupyter-widgets/base",
      "_model_module_version": "1.2.0",
      "_model_name": "LayoutModel",
      "_view_count": null,
      "_view_module": "@jupyter-widgets/base",
      "_view_module_version": "1.2.0",
      "_view_name": "LayoutView",
      "align_content": null,
      "align_items": null,
      "align_self": null,
      "border": null,
      "bottom": null,
      "display": null,
      "flex": null,
      "flex_flow": null,
      "grid_area": null,
      "grid_auto_columns": null,
      "grid_auto_flow": null,
      "grid_auto_rows": null,
      "grid_column": null,
      "grid_gap": null,
      "grid_row": null,
      "grid_template_areas": null,
      "grid_template_columns": null,
      "grid_template_rows": null,
      "height": null,
      "justify_content": null,
      "justify_items": null,
      "left": null,
      "margin": null,
      "max_height": null,
      "max_width": null,
      "min_height": null,
      "min_width": null,
      "object_fit": null,
      "object_position": null,
      "order": null,
      "overflow": null,
      "overflow_x": null,
      "overflow_y": null,
      "padding": null,
      "right": null,
      "top": null,
      "visibility": null,
      "width": null
     }
    },
    "174935de1ad94d0bba860868deb92bd6": {
     "model_module": "@jupyter-widgets/controls",
     "model_module_version": "1.5.0",
     "model_name": "FloatProgressModel",
     "state": {
      "_dom_classes": [],
      "_model_module": "@jupyter-widgets/controls",
      "_model_module_version": "1.5.0",
      "_model_name": "FloatProgressModel",
      "_view_count": null,
      "_view_module": "@jupyter-widgets/controls",
      "_view_module_version": "1.5.0",
      "_view_name": "ProgressView",
      "bar_style": "success",
      "description": "",
      "description_tooltip": null,
      "layout": "IPY_MODEL_2bd011074cac4012810c70329f28e931",
      "max": 1000,
      "min": 0,
      "orientation": "horizontal",
      "style": "IPY_MODEL_9deebe7f43764902b402fa83e89166a9",
      "value": 1000
     }
    },
    "1a7fd4793f6644e78cfa59a3b3b4dde1": {
     "model_module": "@jupyter-widgets/controls",
     "model_module_version": "1.5.0",
     "model_name": "ProgressStyleModel",
     "state": {
      "_model_module": "@jupyter-widgets/controls",
      "_model_module_version": "1.5.0",
      "_model_name": "ProgressStyleModel",
      "_view_count": null,
      "_view_module": "@jupyter-widgets/base",
      "_view_module_version": "1.2.0",
      "_view_name": "StyleView",
      "bar_color": null,
      "description_width": ""
     }
    },
    "1cf685bf0fda4b218f43b29aad08356a": {
     "model_module": "@jupyter-widgets/controls",
     "model_module_version": "1.5.0",
     "model_name": "DescriptionStyleModel",
     "state": {
      "_model_module": "@jupyter-widgets/controls",
      "_model_module_version": "1.5.0",
      "_model_name": "DescriptionStyleModel",
      "_view_count": null,
      "_view_module": "@jupyter-widgets/base",
      "_view_module_version": "1.2.0",
      "_view_name": "StyleView",
      "description_width": ""
     }
    },
    "23e1a9e9f45b492782177c560d8f1496": {
     "model_module": "@jupyter-widgets/controls",
     "model_module_version": "1.5.0",
     "model_name": "HBoxModel",
     "state": {
      "_dom_classes": [],
      "_model_module": "@jupyter-widgets/controls",
      "_model_module_version": "1.5.0",
      "_model_name": "HBoxModel",
      "_view_count": null,
      "_view_module": "@jupyter-widgets/controls",
      "_view_module_version": "1.5.0",
      "_view_name": "HBoxView",
      "box_style": "",
      "children": [
       "IPY_MODEL_dd4d411a00b44604b78638712b39a89b",
       "IPY_MODEL_320c418da03f4a58a9f122124ce0d016",
       "IPY_MODEL_6f8bfd2086084f86ba6bd7075e9c9049"
      ],
      "layout": "IPY_MODEL_c3121fc383d149ac8a29a616e461293c"
     }
    },
    "2b7aa7b3e6bc46769badbb135ecdf55e": {
     "model_module": "@jupyter-widgets/base",
     "model_module_version": "1.2.0",
     "model_name": "LayoutModel",
     "state": {
      "_model_module": "@jupyter-widgets/base",
      "_model_module_version": "1.2.0",
      "_model_name": "LayoutModel",
      "_view_count": null,
      "_view_module": "@jupyter-widgets/base",
      "_view_module_version": "1.2.0",
      "_view_name": "LayoutView",
      "align_content": null,
      "align_items": null,
      "align_self": null,
      "border": null,
      "bottom": null,
      "display": null,
      "flex": null,
      "flex_flow": null,
      "grid_area": null,
      "grid_auto_columns": null,
      "grid_auto_flow": null,
      "grid_auto_rows": null,
      "grid_column": null,
      "grid_gap": null,
      "grid_row": null,
      "grid_template_areas": null,
      "grid_template_columns": null,
      "grid_template_rows": null,
      "height": null,
      "justify_content": null,
      "justify_items": null,
      "left": null,
      "margin": null,
      "max_height": null,
      "max_width": null,
      "min_height": null,
      "min_width": null,
      "object_fit": null,
      "object_position": null,
      "order": null,
      "overflow": null,
      "overflow_x": null,
      "overflow_y": null,
      "padding": null,
      "right": null,
      "top": null,
      "visibility": null,
      "width": null
     }
    },
    "2bd011074cac4012810c70329f28e931": {
     "model_module": "@jupyter-widgets/base",
     "model_module_version": "1.2.0",
     "model_name": "LayoutModel",
     "state": {
      "_model_module": "@jupyter-widgets/base",
      "_model_module_version": "1.2.0",
      "_model_name": "LayoutModel",
      "_view_count": null,
      "_view_module": "@jupyter-widgets/base",
      "_view_module_version": "1.2.0",
      "_view_name": "LayoutView",
      "align_content": null,
      "align_items": null,
      "align_self": null,
      "border": null,
      "bottom": null,
      "display": null,
      "flex": null,
      "flex_flow": null,
      "grid_area": null,
      "grid_auto_columns": null,
      "grid_auto_flow": null,
      "grid_auto_rows": null,
      "grid_column": null,
      "grid_gap": null,
      "grid_row": null,
      "grid_template_areas": null,
      "grid_template_columns": null,
      "grid_template_rows": null,
      "height": null,
      "justify_content": null,
      "justify_items": null,
      "left": null,
      "margin": null,
      "max_height": null,
      "max_width": null,
      "min_height": null,
      "min_width": null,
      "object_fit": null,
      "object_position": null,
      "order": null,
      "overflow": null,
      "overflow_x": null,
      "overflow_y": null,
      "padding": null,
      "right": null,
      "top": null,
      "visibility": null,
      "width": null
     }
    },
    "2f934eec28514414b8edbd2be70b106f": {
     "model_module": "@jupyter-widgets/base",
     "model_module_version": "1.2.0",
     "model_name": "LayoutModel",
     "state": {
      "_model_module": "@jupyter-widgets/base",
      "_model_module_version": "1.2.0",
      "_model_name": "LayoutModel",
      "_view_count": null,
      "_view_module": "@jupyter-widgets/base",
      "_view_module_version": "1.2.0",
      "_view_name": "LayoutView",
      "align_content": null,
      "align_items": null,
      "align_self": null,
      "border": null,
      "bottom": null,
      "display": null,
      "flex": null,
      "flex_flow": null,
      "grid_area": null,
      "grid_auto_columns": null,
      "grid_auto_flow": null,
      "grid_auto_rows": null,
      "grid_column": null,
      "grid_gap": null,
      "grid_row": null,
      "grid_template_areas": null,
      "grid_template_columns": null,
      "grid_template_rows": null,
      "height": null,
      "justify_content": null,
      "justify_items": null,
      "left": null,
      "margin": null,
      "max_height": null,
      "max_width": null,
      "min_height": null,
      "min_width": null,
      "object_fit": null,
      "object_position": null,
      "order": null,
      "overflow": null,
      "overflow_x": null,
      "overflow_y": null,
      "padding": null,
      "right": null,
      "top": null,
      "visibility": null,
      "width": null
     }
    },
    "320c418da03f4a58a9f122124ce0d016": {
     "model_module": "@jupyter-widgets/controls",
     "model_module_version": "1.5.0",
     "model_name": "FloatProgressModel",
     "state": {
      "_dom_classes": [],
      "_model_module": "@jupyter-widgets/controls",
      "_model_module_version": "1.5.0",
      "_model_name": "FloatProgressModel",
      "_view_count": null,
      "_view_module": "@jupyter-widgets/controls",
      "_view_module_version": "1.5.0",
      "_view_name": "ProgressView",
      "bar_style": "success",
      "description": "",
      "description_tooltip": null,
      "layout": "IPY_MODEL_6bb4295c73ec4b219dbeac7a0c1a7102",
      "max": 1000,
      "min": 0,
      "orientation": "horizontal",
      "style": "IPY_MODEL_39354e2279af451bb4fe815efb4ec4e4",
      "value": 1000
     }
    },
    "37bb56426d7949e5883d77299c9cd34b": {
     "model_module": "@jupyter-widgets/base",
     "model_module_version": "1.2.0",
     "model_name": "LayoutModel",
     "state": {
      "_model_module": "@jupyter-widgets/base",
      "_model_module_version": "1.2.0",
      "_model_name": "LayoutModel",
      "_view_count": null,
      "_view_module": "@jupyter-widgets/base",
      "_view_module_version": "1.2.0",
      "_view_name": "LayoutView",
      "align_content": null,
      "align_items": null,
      "align_self": null,
      "border": null,
      "bottom": null,
      "display": null,
      "flex": null,
      "flex_flow": null,
      "grid_area": null,
      "grid_auto_columns": null,
      "grid_auto_flow": null,
      "grid_auto_rows": null,
      "grid_column": null,
      "grid_gap": null,
      "grid_row": null,
      "grid_template_areas": null,
      "grid_template_columns": null,
      "grid_template_rows": null,
      "height": null,
      "justify_content": null,
      "justify_items": null,
      "left": null,
      "margin": null,
      "max_height": null,
      "max_width": null,
      "min_height": null,
      "min_width": null,
      "object_fit": null,
      "object_position": null,
      "order": null,
      "overflow": null,
      "overflow_x": null,
      "overflow_y": null,
      "padding": null,
      "right": null,
      "top": null,
      "visibility": null,
      "width": null
     }
    },
    "3838588b1a3946d4aeae621955c194d8": {
     "model_module": "@jupyter-widgets/controls",
     "model_module_version": "1.5.0",
     "model_name": "HTMLModel",
     "state": {
      "_dom_classes": [],
      "_model_module": "@jupyter-widgets/controls",
      "_model_module_version": "1.5.0",
      "_model_name": "HTMLModel",
      "_view_count": null,
      "_view_module": "@jupyter-widgets/controls",
      "_view_module_version": "1.5.0",
      "_view_name": "HTMLView",
      "description": "",
      "description_tooltip": null,
      "layout": "IPY_MODEL_dd33847530ac48b899eb5b4f36e21257",
      "placeholder": "​",
      "style": "IPY_MODEL_90cf40e975564066aadd64f865b46e19",
      "value": "100%"
     }
    },
    "39354e2279af451bb4fe815efb4ec4e4": {
     "model_module": "@jupyter-widgets/controls",
     "model_module_version": "1.5.0",
     "model_name": "ProgressStyleModel",
     "state": {
      "_model_module": "@jupyter-widgets/controls",
      "_model_module_version": "1.5.0",
      "_model_name": "ProgressStyleModel",
      "_view_count": null,
      "_view_module": "@jupyter-widgets/base",
      "_view_module_version": "1.2.0",
      "_view_name": "StyleView",
      "bar_color": null,
      "description_width": ""
     }
    },
    "39f7a74880f14cd1b940ab3ef30d37d7": {
     "model_module": "@jupyter-widgets/base",
     "model_module_version": "1.2.0",
     "model_name": "LayoutModel",
     "state": {
      "_model_module": "@jupyter-widgets/base",
      "_model_module_version": "1.2.0",
      "_model_name": "LayoutModel",
      "_view_count": null,
      "_view_module": "@jupyter-widgets/base",
      "_view_module_version": "1.2.0",
      "_view_name": "LayoutView",
      "align_content": null,
      "align_items": null,
      "align_self": null,
      "border": null,
      "bottom": null,
      "display": null,
      "flex": null,
      "flex_flow": null,
      "grid_area": null,
      "grid_auto_columns": null,
      "grid_auto_flow": null,
      "grid_auto_rows": null,
      "grid_column": null,
      "grid_gap": null,
      "grid_row": null,
      "grid_template_areas": null,
      "grid_template_columns": null,
      "grid_template_rows": null,
      "height": null,
      "justify_content": null,
      "justify_items": null,
      "left": null,
      "margin": null,
      "max_height": null,
      "max_width": null,
      "min_height": null,
      "min_width": null,
      "object_fit": null,
      "object_position": null,
      "order": null,
      "overflow": null,
      "overflow_x": null,
      "overflow_y": null,
      "padding": null,
      "right": null,
      "top": null,
      "visibility": null,
      "width": null
     }
    },
    "3df741d702594344948f9c8038c6584d": {
     "model_module": "@jupyter-widgets/base",
     "model_module_version": "1.2.0",
     "model_name": "LayoutModel",
     "state": {
      "_model_module": "@jupyter-widgets/base",
      "_model_module_version": "1.2.0",
      "_model_name": "LayoutModel",
      "_view_count": null,
      "_view_module": "@jupyter-widgets/base",
      "_view_module_version": "1.2.0",
      "_view_name": "LayoutView",
      "align_content": null,
      "align_items": null,
      "align_self": null,
      "border": null,
      "bottom": null,
      "display": null,
      "flex": null,
      "flex_flow": null,
      "grid_area": null,
      "grid_auto_columns": null,
      "grid_auto_flow": null,
      "grid_auto_rows": null,
      "grid_column": null,
      "grid_gap": null,
      "grid_row": null,
      "grid_template_areas": null,
      "grid_template_columns": null,
      "grid_template_rows": null,
      "height": null,
      "justify_content": null,
      "justify_items": null,
      "left": null,
      "margin": null,
      "max_height": null,
      "max_width": null,
      "min_height": null,
      "min_width": null,
      "object_fit": null,
      "object_position": null,
      "order": null,
      "overflow": null,
      "overflow_x": null,
      "overflow_y": null,
      "padding": null,
      "right": null,
      "top": null,
      "visibility": null,
      "width": null
     }
    },
    "40ebef937c3345cdb1f760b97d4f2d29": {
     "model_module": "@jupyter-widgets/controls",
     "model_module_version": "1.5.0",
     "model_name": "HTMLModel",
     "state": {
      "_dom_classes": [],
      "_model_module": "@jupyter-widgets/controls",
      "_model_module_version": "1.5.0",
      "_model_name": "HTMLModel",
      "_view_count": null,
      "_view_module": "@jupyter-widgets/controls",
      "_view_module_version": "1.5.0",
      "_view_name": "HTMLView",
      "description": "",
      "description_tooltip": null,
      "layout": "IPY_MODEL_a193ef2cc0e44eedadc1f6c8db1125fe",
      "placeholder": "​",
      "style": "IPY_MODEL_cba50ec747f8406eb8fd2ac3c947e153",
      "value": " 20000/20000 [00:09&lt;00:00, 2046.51it/s]"
     }
    },
    "4152adcd74a444d6a1e9905e6d48ed6c": {
     "model_module": "@jupyter-widgets/base",
     "model_module_version": "1.2.0",
     "model_name": "LayoutModel",
     "state": {
      "_model_module": "@jupyter-widgets/base",
      "_model_module_version": "1.2.0",
      "_model_name": "LayoutModel",
      "_view_count": null,
      "_view_module": "@jupyter-widgets/base",
      "_view_module_version": "1.2.0",
      "_view_name": "LayoutView",
      "align_content": null,
      "align_items": null,
      "align_self": null,
      "border": null,
      "bottom": null,
      "display": null,
      "flex": null,
      "flex_flow": null,
      "grid_area": null,
      "grid_auto_columns": null,
      "grid_auto_flow": null,
      "grid_auto_rows": null,
      "grid_column": null,
      "grid_gap": null,
      "grid_row": null,
      "grid_template_areas": null,
      "grid_template_columns": null,
      "grid_template_rows": null,
      "height": null,
      "justify_content": null,
      "justify_items": null,
      "left": null,
      "margin": null,
      "max_height": null,
      "max_width": null,
      "min_height": null,
      "min_width": null,
      "object_fit": null,
      "object_position": null,
      "order": null,
      "overflow": null,
      "overflow_x": null,
      "overflow_y": null,
      "padding": null,
      "right": null,
      "top": null,
      "visibility": null,
      "width": null
     }
    },
    "47bca43fa6a646ecb4c72152aad71139": {
     "model_module": "@jupyter-widgets/controls",
     "model_module_version": "1.5.0",
     "model_name": "DescriptionStyleModel",
     "state": {
      "_model_module": "@jupyter-widgets/controls",
      "_model_module_version": "1.5.0",
      "_model_name": "DescriptionStyleModel",
      "_view_count": null,
      "_view_module": "@jupyter-widgets/base",
      "_view_module_version": "1.2.0",
      "_view_name": "StyleView",
      "description_width": ""
     }
    },
    "4a1409037ca1403b91129d9999d74bf7": {
     "model_module": "@jupyter-widgets/base",
     "model_module_version": "1.2.0",
     "model_name": "LayoutModel",
     "state": {
      "_model_module": "@jupyter-widgets/base",
      "_model_module_version": "1.2.0",
      "_model_name": "LayoutModel",
      "_view_count": null,
      "_view_module": "@jupyter-widgets/base",
      "_view_module_version": "1.2.0",
      "_view_name": "LayoutView",
      "align_content": null,
      "align_items": null,
      "align_self": null,
      "border": null,
      "bottom": null,
      "display": null,
      "flex": null,
      "flex_flow": null,
      "grid_area": null,
      "grid_auto_columns": null,
      "grid_auto_flow": null,
      "grid_auto_rows": null,
      "grid_column": null,
      "grid_gap": null,
      "grid_row": null,
      "grid_template_areas": null,
      "grid_template_columns": null,
      "grid_template_rows": null,
      "height": null,
      "justify_content": null,
      "justify_items": null,
      "left": null,
      "margin": null,
      "max_height": null,
      "max_width": null,
      "min_height": null,
      "min_width": null,
      "object_fit": null,
      "object_position": null,
      "order": null,
      "overflow": null,
      "overflow_x": null,
      "overflow_y": null,
      "padding": null,
      "right": null,
      "top": null,
      "visibility": null,
      "width": null
     }
    },
    "4a693580e63841cbb207766da7839688": {
     "model_module": "@jupyter-widgets/base",
     "model_module_version": "1.2.0",
     "model_name": "LayoutModel",
     "state": {
      "_model_module": "@jupyter-widgets/base",
      "_model_module_version": "1.2.0",
      "_model_name": "LayoutModel",
      "_view_count": null,
      "_view_module": "@jupyter-widgets/base",
      "_view_module_version": "1.2.0",
      "_view_name": "LayoutView",
      "align_content": null,
      "align_items": null,
      "align_self": null,
      "border": null,
      "bottom": null,
      "display": null,
      "flex": null,
      "flex_flow": null,
      "grid_area": null,
      "grid_auto_columns": null,
      "grid_auto_flow": null,
      "grid_auto_rows": null,
      "grid_column": null,
      "grid_gap": null,
      "grid_row": null,
      "grid_template_areas": null,
      "grid_template_columns": null,
      "grid_template_rows": null,
      "height": null,
      "justify_content": null,
      "justify_items": null,
      "left": null,
      "margin": null,
      "max_height": null,
      "max_width": null,
      "min_height": null,
      "min_width": null,
      "object_fit": null,
      "object_position": null,
      "order": null,
      "overflow": null,
      "overflow_x": null,
      "overflow_y": null,
      "padding": null,
      "right": null,
      "top": null,
      "visibility": null,
      "width": null
     }
    },
    "4ba0d12bc49147bba055a9c459c07cfd": {
     "model_module": "@jupyter-widgets/controls",
     "model_module_version": "1.5.0",
     "model_name": "HTMLModel",
     "state": {
      "_dom_classes": [],
      "_model_module": "@jupyter-widgets/controls",
      "_model_module_version": "1.5.0",
      "_model_name": "HTMLModel",
      "_view_count": null,
      "_view_module": "@jupyter-widgets/controls",
      "_view_module_version": "1.5.0",
      "_view_name": "HTMLView",
      "description": "",
      "description_tooltip": null,
      "layout": "IPY_MODEL_f5a4e3cab0fc40748254f4ffbcee8007",
      "placeholder": "​",
      "style": "IPY_MODEL_47bca43fa6a646ecb4c72152aad71139",
      "value": "100%"
     }
    },
    "4ff6c1494b3948f4bf9c40238c16e41d": {
     "model_module": "@jupyter-widgets/base",
     "model_module_version": "1.2.0",
     "model_name": "LayoutModel",
     "state": {
      "_model_module": "@jupyter-widgets/base",
      "_model_module_version": "1.2.0",
      "_model_name": "LayoutModel",
      "_view_count": null,
      "_view_module": "@jupyter-widgets/base",
      "_view_module_version": "1.2.0",
      "_view_name": "LayoutView",
      "align_content": null,
      "align_items": null,
      "align_self": null,
      "border": null,
      "bottom": null,
      "display": null,
      "flex": null,
      "flex_flow": null,
      "grid_area": null,
      "grid_auto_columns": null,
      "grid_auto_flow": null,
      "grid_auto_rows": null,
      "grid_column": null,
      "grid_gap": null,
      "grid_row": null,
      "grid_template_areas": null,
      "grid_template_columns": null,
      "grid_template_rows": null,
      "height": null,
      "justify_content": null,
      "justify_items": null,
      "left": null,
      "margin": null,
      "max_height": null,
      "max_width": null,
      "min_height": null,
      "min_width": null,
      "object_fit": null,
      "object_position": null,
      "order": null,
      "overflow": null,
      "overflow_x": null,
      "overflow_y": null,
      "padding": null,
      "right": null,
      "top": null,
      "visibility": null,
      "width": null
     }
    },
    "55f96a8758274680853893b591557791": {
     "model_module": "@jupyter-widgets/controls",
     "model_module_version": "1.5.0",
     "model_name": "FloatProgressModel",
     "state": {
      "_dom_classes": [],
      "_model_module": "@jupyter-widgets/controls",
      "_model_module_version": "1.5.0",
      "_model_name": "FloatProgressModel",
      "_view_count": null,
      "_view_module": "@jupyter-widgets/controls",
      "_view_module_version": "1.5.0",
      "_view_name": "ProgressView",
      "bar_style": "success",
      "description": "",
      "description_tooltip": null,
      "layout": "IPY_MODEL_b64c5c72d8e9494f827e85daf06b333a",
      "max": 20000,
      "min": 0,
      "orientation": "horizontal",
      "style": "IPY_MODEL_6395c8a04d124941b42043fed5265c1e",
      "value": 20000
     }
    },
    "568051e9b92d4389b90f916ecb527fd3": {
     "model_module": "@jupyter-widgets/controls",
     "model_module_version": "1.5.0",
     "model_name": "HTMLModel",
     "state": {
      "_dom_classes": [],
      "_model_module": "@jupyter-widgets/controls",
      "_model_module_version": "1.5.0",
      "_model_name": "HTMLModel",
      "_view_count": null,
      "_view_module": "@jupyter-widgets/controls",
      "_view_module_version": "1.5.0",
      "_view_name": "HTMLView",
      "description": "",
      "description_tooltip": null,
      "layout": "IPY_MODEL_4152adcd74a444d6a1e9905e6d48ed6c",
      "placeholder": "​",
      "style": "IPY_MODEL_9789c42020cf46f2a243f415ceed90d8",
      "value": "100%"
     }
    },
    "576f39068252472cba64862c830c0ed4": {
     "model_module": "@jupyter-widgets/controls",
     "model_module_version": "1.5.0",
     "model_name": "FloatProgressModel",
     "state": {
      "_dom_classes": [],
      "_model_module": "@jupyter-widgets/controls",
      "_model_module_version": "1.5.0",
      "_model_name": "FloatProgressModel",
      "_view_count": null,
      "_view_module": "@jupyter-widgets/controls",
      "_view_module_version": "1.5.0",
      "_view_name": "ProgressView",
      "bar_style": "success",
      "description": "",
      "description_tooltip": null,
      "layout": "IPY_MODEL_fe2388bd5d5144b5a7dfa1d70193d1ad",
      "max": 20000,
      "min": 0,
      "orientation": "horizontal",
      "style": "IPY_MODEL_67a4ed718ee847ee819fc81cee7bdfef",
      "value": 20000
     }
    },
    "5c697e21e38f4c388b216980aa4f9144": {
     "model_module": "@jupyter-widgets/base",
     "model_module_version": "1.2.0",
     "model_name": "LayoutModel",
     "state": {
      "_model_module": "@jupyter-widgets/base",
      "_model_module_version": "1.2.0",
      "_model_name": "LayoutModel",
      "_view_count": null,
      "_view_module": "@jupyter-widgets/base",
      "_view_module_version": "1.2.0",
      "_view_name": "LayoutView",
      "align_content": null,
      "align_items": null,
      "align_self": null,
      "border": null,
      "bottom": null,
      "display": null,
      "flex": null,
      "flex_flow": null,
      "grid_area": null,
      "grid_auto_columns": null,
      "grid_auto_flow": null,
      "grid_auto_rows": null,
      "grid_column": null,
      "grid_gap": null,
      "grid_row": null,
      "grid_template_areas": null,
      "grid_template_columns": null,
      "grid_template_rows": null,
      "height": null,
      "justify_content": null,
      "justify_items": null,
      "left": null,
      "margin": null,
      "max_height": null,
      "max_width": null,
      "min_height": null,
      "min_width": null,
      "object_fit": null,
      "object_position": null,
      "order": null,
      "overflow": null,
      "overflow_x": null,
      "overflow_y": null,
      "padding": null,
      "right": null,
      "top": null,
      "visibility": null,
      "width": null
     }
    },
    "5f25461b09374632afb09520dcad59a3": {
     "model_module": "@jupyter-widgets/controls",
     "model_module_version": "1.5.0",
     "model_name": "HBoxModel",
     "state": {
      "_dom_classes": [],
      "_model_module": "@jupyter-widgets/controls",
      "_model_module_version": "1.5.0",
      "_model_name": "HBoxModel",
      "_view_count": null,
      "_view_module": "@jupyter-widgets/controls",
      "_view_module_version": "1.5.0",
      "_view_name": "HBoxView",
      "box_style": "",
      "children": [
       "IPY_MODEL_c26f270dbb6a48028200d67267fd669a",
       "IPY_MODEL_55f96a8758274680853893b591557791",
       "IPY_MODEL_9d04e40597264b13b691bfd321b14a9e"
      ],
      "layout": "IPY_MODEL_0e73463bc18a45a4a9feb25ba3290a9a"
     }
    },
    "60f9db3a75b746c1b3c59c4371e7afeb": {
     "model_module": "@jupyter-widgets/base",
     "model_module_version": "1.2.0",
     "model_name": "LayoutModel",
     "state": {
      "_model_module": "@jupyter-widgets/base",
      "_model_module_version": "1.2.0",
      "_model_name": "LayoutModel",
      "_view_count": null,
      "_view_module": "@jupyter-widgets/base",
      "_view_module_version": "1.2.0",
      "_view_name": "LayoutView",
      "align_content": null,
      "align_items": null,
      "align_self": null,
      "border": null,
      "bottom": null,
      "display": null,
      "flex": null,
      "flex_flow": null,
      "grid_area": null,
      "grid_auto_columns": null,
      "grid_auto_flow": null,
      "grid_auto_rows": null,
      "grid_column": null,
      "grid_gap": null,
      "grid_row": null,
      "grid_template_areas": null,
      "grid_template_columns": null,
      "grid_template_rows": null,
      "height": null,
      "justify_content": null,
      "justify_items": null,
      "left": null,
      "margin": null,
      "max_height": null,
      "max_width": null,
      "min_height": null,
      "min_width": null,
      "object_fit": null,
      "object_position": null,
      "order": null,
      "overflow": null,
      "overflow_x": null,
      "overflow_y": null,
      "padding": null,
      "right": null,
      "top": null,
      "visibility": null,
      "width": null
     }
    },
    "62f2bdcd478e4d03879981600cc19fc0": {
     "model_module": "@jupyter-widgets/controls",
     "model_module_version": "1.5.0",
     "model_name": "HTMLModel",
     "state": {
      "_dom_classes": [],
      "_model_module": "@jupyter-widgets/controls",
      "_model_module_version": "1.5.0",
      "_model_name": "HTMLModel",
      "_view_count": null,
      "_view_module": "@jupyter-widgets/controls",
      "_view_module_version": "1.5.0",
      "_view_name": "HTMLView",
      "description": "",
      "description_tooltip": null,
      "layout": "IPY_MODEL_de6d01b98a294eb68b9190dc1e89857d",
      "placeholder": "​",
      "style": "IPY_MODEL_1cf685bf0fda4b218f43b29aad08356a",
      "value": " 10000/10000 [00:33&lt;00:00, 407.63it/s]"
     }
    },
    "6395c8a04d124941b42043fed5265c1e": {
     "model_module": "@jupyter-widgets/controls",
     "model_module_version": "1.5.0",
     "model_name": "ProgressStyleModel",
     "state": {
      "_model_module": "@jupyter-widgets/controls",
      "_model_module_version": "1.5.0",
      "_model_name": "ProgressStyleModel",
      "_view_count": null,
      "_view_module": "@jupyter-widgets/base",
      "_view_module_version": "1.2.0",
      "_view_name": "StyleView",
      "bar_color": null,
      "description_width": ""
     }
    },
    "67a4ed718ee847ee819fc81cee7bdfef": {
     "model_module": "@jupyter-widgets/controls",
     "model_module_version": "1.5.0",
     "model_name": "ProgressStyleModel",
     "state": {
      "_model_module": "@jupyter-widgets/controls",
      "_model_module_version": "1.5.0",
      "_model_name": "ProgressStyleModel",
      "_view_count": null,
      "_view_module": "@jupyter-widgets/base",
      "_view_module_version": "1.2.0",
      "_view_name": "StyleView",
      "bar_color": null,
      "description_width": ""
     }
    },
    "6a019abcff4f425799257c67023512c2": {
     "model_module": "@jupyter-widgets/base",
     "model_module_version": "1.2.0",
     "model_name": "LayoutModel",
     "state": {
      "_model_module": "@jupyter-widgets/base",
      "_model_module_version": "1.2.0",
      "_model_name": "LayoutModel",
      "_view_count": null,
      "_view_module": "@jupyter-widgets/base",
      "_view_module_version": "1.2.0",
      "_view_name": "LayoutView",
      "align_content": null,
      "align_items": null,
      "align_self": null,
      "border": null,
      "bottom": null,
      "display": null,
      "flex": null,
      "flex_flow": null,
      "grid_area": null,
      "grid_auto_columns": null,
      "grid_auto_flow": null,
      "grid_auto_rows": null,
      "grid_column": null,
      "grid_gap": null,
      "grid_row": null,
      "grid_template_areas": null,
      "grid_template_columns": null,
      "grid_template_rows": null,
      "height": null,
      "justify_content": null,
      "justify_items": null,
      "left": null,
      "margin": null,
      "max_height": null,
      "max_width": null,
      "min_height": null,
      "min_width": null,
      "object_fit": null,
      "object_position": null,
      "order": null,
      "overflow": null,
      "overflow_x": null,
      "overflow_y": null,
      "padding": null,
      "right": null,
      "top": null,
      "visibility": null,
      "width": null
     }
    },
    "6bb4295c73ec4b219dbeac7a0c1a7102": {
     "model_module": "@jupyter-widgets/base",
     "model_module_version": "1.2.0",
     "model_name": "LayoutModel",
     "state": {
      "_model_module": "@jupyter-widgets/base",
      "_model_module_version": "1.2.0",
      "_model_name": "LayoutModel",
      "_view_count": null,
      "_view_module": "@jupyter-widgets/base",
      "_view_module_version": "1.2.0",
      "_view_name": "LayoutView",
      "align_content": null,
      "align_items": null,
      "align_self": null,
      "border": null,
      "bottom": null,
      "display": null,
      "flex": null,
      "flex_flow": null,
      "grid_area": null,
      "grid_auto_columns": null,
      "grid_auto_flow": null,
      "grid_auto_rows": null,
      "grid_column": null,
      "grid_gap": null,
      "grid_row": null,
      "grid_template_areas": null,
      "grid_template_columns": null,
      "grid_template_rows": null,
      "height": null,
      "justify_content": null,
      "justify_items": null,
      "left": null,
      "margin": null,
      "max_height": null,
      "max_width": null,
      "min_height": null,
      "min_width": null,
      "object_fit": null,
      "object_position": null,
      "order": null,
      "overflow": null,
      "overflow_x": null,
      "overflow_y": null,
      "padding": null,
      "right": null,
      "top": null,
      "visibility": null,
      "width": null
     }
    },
    "6f6b7793d5184b2bb189deb5b954eadf": {
     "model_module": "@jupyter-widgets/controls",
     "model_module_version": "1.5.0",
     "model_name": "HTMLModel",
     "state": {
      "_dom_classes": [],
      "_model_module": "@jupyter-widgets/controls",
      "_model_module_version": "1.5.0",
      "_model_name": "HTMLModel",
      "_view_count": null,
      "_view_module": "@jupyter-widgets/controls",
      "_view_module_version": "1.5.0",
      "_view_name": "HTMLView",
      "description": "",
      "description_tooltip": null,
      "layout": "IPY_MODEL_0ae9d386534e4204a606522add9b97c4",
      "placeholder": "​",
      "style": "IPY_MODEL_87d3fa185d5549b48792868ae24d1087",
      "value": "100%"
     }
    },
    "6f7d028701904fbead3715662e658825": {
     "model_module": "@jupyter-widgets/base",
     "model_module_version": "1.2.0",
     "model_name": "LayoutModel",
     "state": {
      "_model_module": "@jupyter-widgets/base",
      "_model_module_version": "1.2.0",
      "_model_name": "LayoutModel",
      "_view_count": null,
      "_view_module": "@jupyter-widgets/base",
      "_view_module_version": "1.2.0",
      "_view_name": "LayoutView",
      "align_content": null,
      "align_items": null,
      "align_self": null,
      "border": null,
      "bottom": null,
      "display": null,
      "flex": null,
      "flex_flow": null,
      "grid_area": null,
      "grid_auto_columns": null,
      "grid_auto_flow": null,
      "grid_auto_rows": null,
      "grid_column": null,
      "grid_gap": null,
      "grid_row": null,
      "grid_template_areas": null,
      "grid_template_columns": null,
      "grid_template_rows": null,
      "height": null,
      "justify_content": null,
      "justify_items": null,
      "left": null,
      "margin": null,
      "max_height": null,
      "max_width": null,
      "min_height": null,
      "min_width": null,
      "object_fit": null,
      "object_position": null,
      "order": null,
      "overflow": null,
      "overflow_x": null,
      "overflow_y": null,
      "padding": null,
      "right": null,
      "top": null,
      "visibility": null,
      "width": null
     }
    },
    "6f8bfd2086084f86ba6bd7075e9c9049": {
     "model_module": "@jupyter-widgets/controls",
     "model_module_version": "1.5.0",
     "model_name": "HTMLModel",
     "state": {
      "_dom_classes": [],
      "_model_module": "@jupyter-widgets/controls",
      "_model_module_version": "1.5.0",
      "_model_name": "HTMLModel",
      "_view_count": null,
      "_view_module": "@jupyter-widgets/controls",
      "_view_module_version": "1.5.0",
      "_view_name": "HTMLView",
      "description": "",
      "description_tooltip": null,
      "layout": "IPY_MODEL_6a019abcff4f425799257c67023512c2",
      "placeholder": "​",
      "style": "IPY_MODEL_73fc6aa1de5e4ba4972ee0ad31457390",
      "value": " 1000/1000 [00:03&lt;00:00, 372.65it/s]"
     }
    },
    "7197fbeefee344a18b3a5c6be1fd2980": {
     "model_module": "@jupyter-widgets/base",
     "model_module_version": "1.2.0",
     "model_name": "LayoutModel",
     "state": {
      "_model_module": "@jupyter-widgets/base",
      "_model_module_version": "1.2.0",
      "_model_name": "LayoutModel",
      "_view_count": null,
      "_view_module": "@jupyter-widgets/base",
      "_view_module_version": "1.2.0",
      "_view_name": "LayoutView",
      "align_content": null,
      "align_items": null,
      "align_self": null,
      "border": null,
      "bottom": null,
      "display": null,
      "flex": null,
      "flex_flow": null,
      "grid_area": null,
      "grid_auto_columns": null,
      "grid_auto_flow": null,
      "grid_auto_rows": null,
      "grid_column": null,
      "grid_gap": null,
      "grid_row": null,
      "grid_template_areas": null,
      "grid_template_columns": null,
      "grid_template_rows": null,
      "height": null,
      "justify_content": null,
      "justify_items": null,
      "left": null,
      "margin": null,
      "max_height": null,
      "max_width": null,
      "min_height": null,
      "min_width": null,
      "object_fit": null,
      "object_position": null,
      "order": null,
      "overflow": null,
      "overflow_x": null,
      "overflow_y": null,
      "padding": null,
      "right": null,
      "top": null,
      "visibility": null,
      "width": null
     }
    },
    "73147a301d374df5b8a3f304a33d39d2": {
     "model_module": "@jupyter-widgets/controls",
     "model_module_version": "1.5.0",
     "model_name": "FloatProgressModel",
     "state": {
      "_dom_classes": [],
      "_model_module": "@jupyter-widgets/controls",
      "_model_module_version": "1.5.0",
      "_model_name": "FloatProgressModel",
      "_view_count": null,
      "_view_module": "@jupyter-widgets/controls",
      "_view_module_version": "1.5.0",
      "_view_name": "ProgressView",
      "bar_style": "success",
      "description": "",
      "description_tooltip": null,
      "layout": "IPY_MODEL_9bfa4b30f16d45c8beacb20a928c3c62",
      "max": 20000,
      "min": 0,
      "orientation": "horizontal",
      "style": "IPY_MODEL_f3bc4ed22dac446895b574920ae4a785",
      "value": 20000
     }
    },
    "73fc6aa1de5e4ba4972ee0ad31457390": {
     "model_module": "@jupyter-widgets/controls",
     "model_module_version": "1.5.0",
     "model_name": "DescriptionStyleModel",
     "state": {
      "_model_module": "@jupyter-widgets/controls",
      "_model_module_version": "1.5.0",
      "_model_name": "DescriptionStyleModel",
      "_view_count": null,
      "_view_module": "@jupyter-widgets/base",
      "_view_module_version": "1.2.0",
      "_view_name": "StyleView",
      "description_width": ""
     }
    },
    "7c405aeed09e4d9d9b3d601d197884ff": {
     "model_module": "@jupyter-widgets/controls",
     "model_module_version": "1.5.0",
     "model_name": "DescriptionStyleModel",
     "state": {
      "_model_module": "@jupyter-widgets/controls",
      "_model_module_version": "1.5.0",
      "_model_name": "DescriptionStyleModel",
      "_view_count": null,
      "_view_module": "@jupyter-widgets/base",
      "_view_module_version": "1.2.0",
      "_view_name": "StyleView",
      "description_width": ""
     }
    },
    "7c669b2e0c184a36a749ecdee5948b78": {
     "model_module": "@jupyter-widgets/controls",
     "model_module_version": "1.5.0",
     "model_name": "HTMLModel",
     "state": {
      "_dom_classes": [],
      "_model_module": "@jupyter-widgets/controls",
      "_model_module_version": "1.5.0",
      "_model_name": "HTMLModel",
      "_view_count": null,
      "_view_module": "@jupyter-widgets/controls",
      "_view_module_version": "1.5.0",
      "_view_name": "HTMLView",
      "description": "",
      "description_tooltip": null,
      "layout": "IPY_MODEL_5c697e21e38f4c388b216980aa4f9144",
      "placeholder": "​",
      "style": "IPY_MODEL_8e73a393dd314ea3b361a2219b87df3e",
      "value": "100%"
     }
    },
    "7ccd4fcde75b4f10a00a5345fa4b54a3": {
     "model_module": "@jupyter-widgets/controls",
     "model_module_version": "1.5.0",
     "model_name": "ProgressStyleModel",
     "state": {
      "_model_module": "@jupyter-widgets/controls",
      "_model_module_version": "1.5.0",
      "_model_name": "ProgressStyleModel",
      "_view_count": null,
      "_view_module": "@jupyter-widgets/base",
      "_view_module_version": "1.2.0",
      "_view_name": "StyleView",
      "bar_color": null,
      "description_width": ""
     }
    },
    "7df349ba1fe74c31b113041ebdbf1600": {
     "model_module": "@jupyter-widgets/controls",
     "model_module_version": "1.5.0",
     "model_name": "HTMLModel",
     "state": {
      "_dom_classes": [],
      "_model_module": "@jupyter-widgets/controls",
      "_model_module_version": "1.5.0",
      "_model_name": "HTMLModel",
      "_view_count": null,
      "_view_module": "@jupyter-widgets/controls",
      "_view_module_version": "1.5.0",
      "_view_name": "HTMLView",
      "description": "",
      "description_tooltip": null,
      "layout": "IPY_MODEL_3df741d702594344948f9c8038c6584d",
      "placeholder": "​",
      "style": "IPY_MODEL_7c405aeed09e4d9d9b3d601d197884ff",
      "value": "100%"
     }
    },
    "7f3987f3319e4cf3b503e01cea179272": {
     "model_module": "@jupyter-widgets/base",
     "model_module_version": "1.2.0",
     "model_name": "LayoutModel",
     "state": {
      "_model_module": "@jupyter-widgets/base",
      "_model_module_version": "1.2.0",
      "_model_name": "LayoutModel",
      "_view_count": null,
      "_view_module": "@jupyter-widgets/base",
      "_view_module_version": "1.2.0",
      "_view_name": "LayoutView",
      "align_content": null,
      "align_items": null,
      "align_self": null,
      "border": null,
      "bottom": null,
      "display": null,
      "flex": null,
      "flex_flow": null,
      "grid_area": null,
      "grid_auto_columns": null,
      "grid_auto_flow": null,
      "grid_auto_rows": null,
      "grid_column": null,
      "grid_gap": null,
      "grid_row": null,
      "grid_template_areas": null,
      "grid_template_columns": null,
      "grid_template_rows": null,
      "height": null,
      "justify_content": null,
      "justify_items": null,
      "left": null,
      "margin": null,
      "max_height": null,
      "max_width": null,
      "min_height": null,
      "min_width": null,
      "object_fit": null,
      "object_position": null,
      "order": null,
      "overflow": null,
      "overflow_x": null,
      "overflow_y": null,
      "padding": null,
      "right": null,
      "top": null,
      "visibility": null,
      "width": null
     }
    },
    "8642dfd04dd049958b88ca112b6a7ae3": {
     "model_module": "@jupyter-widgets/controls",
     "model_module_version": "1.5.0",
     "model_name": "HTMLModel",
     "state": {
      "_dom_classes": [],
      "_model_module": "@jupyter-widgets/controls",
      "_model_module_version": "1.5.0",
      "_model_name": "HTMLModel",
      "_view_count": null,
      "_view_module": "@jupyter-widgets/controls",
      "_view_module_version": "1.5.0",
      "_view_name": "HTMLView",
      "description": "",
      "description_tooltip": null,
      "layout": "IPY_MODEL_c741e1213fba425db119c7bc2775e015",
      "placeholder": "​",
      "style": "IPY_MODEL_89835c806c6a448dbc727310d87f36c6",
      "value": " 20000/20000 [00:28&lt;00:00, 845.62it/s]"
     }
    },
    "87281415276a4fbe99aac958d94527bd": {
     "model_module": "@jupyter-widgets/controls",
     "model_module_version": "1.5.0",
     "model_name": "HBoxModel",
     "state": {
      "_dom_classes": [],
      "_model_module": "@jupyter-widgets/controls",
      "_model_module_version": "1.5.0",
      "_model_name": "HBoxModel",
      "_view_count": null,
      "_view_module": "@jupyter-widgets/controls",
      "_view_module_version": "1.5.0",
      "_view_name": "HBoxView",
      "box_style": "",
      "children": [
       "IPY_MODEL_4ba0d12bc49147bba055a9c459c07cfd",
       "IPY_MODEL_576f39068252472cba64862c830c0ed4",
       "IPY_MODEL_8642dfd04dd049958b88ca112b6a7ae3"
      ],
      "layout": "IPY_MODEL_2b7aa7b3e6bc46769badbb135ecdf55e"
     }
    },
    "87d3fa185d5549b48792868ae24d1087": {
     "model_module": "@jupyter-widgets/controls",
     "model_module_version": "1.5.0",
     "model_name": "DescriptionStyleModel",
     "state": {
      "_model_module": "@jupyter-widgets/controls",
      "_model_module_version": "1.5.0",
      "_model_name": "DescriptionStyleModel",
      "_view_count": null,
      "_view_module": "@jupyter-widgets/base",
      "_view_module_version": "1.2.0",
      "_view_name": "StyleView",
      "description_width": ""
     }
    },
    "880abc36e779491ab172eae08671ab23": {
     "model_module": "@jupyter-widgets/controls",
     "model_module_version": "1.5.0",
     "model_name": "DescriptionStyleModel",
     "state": {
      "_model_module": "@jupyter-widgets/controls",
      "_model_module_version": "1.5.0",
      "_model_name": "DescriptionStyleModel",
      "_view_count": null,
      "_view_module": "@jupyter-widgets/base",
      "_view_module_version": "1.2.0",
      "_view_name": "StyleView",
      "description_width": ""
     }
    },
    "89835c806c6a448dbc727310d87f36c6": {
     "model_module": "@jupyter-widgets/controls",
     "model_module_version": "1.5.0",
     "model_name": "DescriptionStyleModel",
     "state": {
      "_model_module": "@jupyter-widgets/controls",
      "_model_module_version": "1.5.0",
      "_model_name": "DescriptionStyleModel",
      "_view_count": null,
      "_view_module": "@jupyter-widgets/base",
      "_view_module_version": "1.2.0",
      "_view_name": "StyleView",
      "description_width": ""
     }
    },
    "8a66b07aa06d4d5d9eaead53229a452f": {
     "model_module": "@jupyter-widgets/controls",
     "model_module_version": "1.5.0",
     "model_name": "FloatProgressModel",
     "state": {
      "_dom_classes": [],
      "_model_module": "@jupyter-widgets/controls",
      "_model_module_version": "1.5.0",
      "_model_name": "FloatProgressModel",
      "_view_count": null,
      "_view_module": "@jupyter-widgets/controls",
      "_view_module_version": "1.5.0",
      "_view_name": "ProgressView",
      "bar_style": "success",
      "description": "",
      "description_tooltip": null,
      "layout": "IPY_MODEL_2f934eec28514414b8edbd2be70b106f",
      "max": 10000,
      "min": 0,
      "orientation": "horizontal",
      "style": "IPY_MODEL_1a7fd4793f6644e78cfa59a3b3b4dde1",
      "value": 10000
     }
    },
    "8e73a393dd314ea3b361a2219b87df3e": {
     "model_module": "@jupyter-widgets/controls",
     "model_module_version": "1.5.0",
     "model_name": "DescriptionStyleModel",
     "state": {
      "_model_module": "@jupyter-widgets/controls",
      "_model_module_version": "1.5.0",
      "_model_name": "DescriptionStyleModel",
      "_view_count": null,
      "_view_module": "@jupyter-widgets/base",
      "_view_module_version": "1.2.0",
      "_view_name": "StyleView",
      "description_width": ""
     }
    },
    "90cf40e975564066aadd64f865b46e19": {
     "model_module": "@jupyter-widgets/controls",
     "model_module_version": "1.5.0",
     "model_name": "DescriptionStyleModel",
     "state": {
      "_model_module": "@jupyter-widgets/controls",
      "_model_module_version": "1.5.0",
      "_model_name": "DescriptionStyleModel",
      "_view_count": null,
      "_view_module": "@jupyter-widgets/base",
      "_view_module_version": "1.2.0",
      "_view_name": "StyleView",
      "description_width": ""
     }
    },
    "92eb747d56bc458fafc5d1d9f1a20233": {
     "model_module": "@jupyter-widgets/controls",
     "model_module_version": "1.5.0",
     "model_name": "HBoxModel",
     "state": {
      "_dom_classes": [],
      "_model_module": "@jupyter-widgets/controls",
      "_model_module_version": "1.5.0",
      "_model_name": "HBoxModel",
      "_view_count": null,
      "_view_module": "@jupyter-widgets/controls",
      "_view_module_version": "1.5.0",
      "_view_name": "HBoxView",
      "box_style": "",
      "children": [
       "IPY_MODEL_568051e9b92d4389b90f916ecb527fd3",
       "IPY_MODEL_73147a301d374df5b8a3f304a33d39d2",
       "IPY_MODEL_40ebef937c3345cdb1f760b97d4f2d29"
      ],
      "layout": "IPY_MODEL_9c8b8e2b01dd470684254d8ef28575cd"
     }
    },
    "94393e85c22042d2a7ece58d02c71e87": {
     "model_module": "@jupyter-widgets/base",
     "model_module_version": "1.2.0",
     "model_name": "LayoutModel",
     "state": {
      "_model_module": "@jupyter-widgets/base",
      "_model_module_version": "1.2.0",
      "_model_name": "LayoutModel",
      "_view_count": null,
      "_view_module": "@jupyter-widgets/base",
      "_view_module_version": "1.2.0",
      "_view_name": "LayoutView",
      "align_content": null,
      "align_items": null,
      "align_self": null,
      "border": null,
      "bottom": null,
      "display": null,
      "flex": null,
      "flex_flow": null,
      "grid_area": null,
      "grid_auto_columns": null,
      "grid_auto_flow": null,
      "grid_auto_rows": null,
      "grid_column": null,
      "grid_gap": null,
      "grid_row": null,
      "grid_template_areas": null,
      "grid_template_columns": null,
      "grid_template_rows": null,
      "height": null,
      "justify_content": null,
      "justify_items": null,
      "left": null,
      "margin": null,
      "max_height": null,
      "max_width": null,
      "min_height": null,
      "min_width": null,
      "object_fit": null,
      "object_position": null,
      "order": null,
      "overflow": null,
      "overflow_x": null,
      "overflow_y": null,
      "padding": null,
      "right": null,
      "top": null,
      "visibility": null,
      "width": null
     }
    },
    "94d94b17c35140cda8647f7d633dee91": {
     "model_module": "@jupyter-widgets/controls",
     "model_module_version": "1.5.0",
     "model_name": "HBoxModel",
     "state": {
      "_dom_classes": [],
      "_model_module": "@jupyter-widgets/controls",
      "_model_module_version": "1.5.0",
      "_model_name": "HBoxModel",
      "_view_count": null,
      "_view_module": "@jupyter-widgets/controls",
      "_view_module_version": "1.5.0",
      "_view_name": "HBoxView",
      "box_style": "",
      "children": [
       "IPY_MODEL_9e32d1c9c5b847f2969f98cae83d0627",
       "IPY_MODEL_8a66b07aa06d4d5d9eaead53229a452f",
       "IPY_MODEL_62f2bdcd478e4d03879981600cc19fc0"
      ],
      "layout": "IPY_MODEL_37bb56426d7949e5883d77299c9cd34b"
     }
    },
    "95d8920da3b84816aabc7a749b73cc4a": {
     "model_module": "@jupyter-widgets/controls",
     "model_module_version": "1.5.0",
     "model_name": "HTMLModel",
     "state": {
      "_dom_classes": [],
      "_model_module": "@jupyter-widgets/controls",
      "_model_module_version": "1.5.0",
      "_model_name": "HTMLModel",
      "_view_count": null,
      "_view_module": "@jupyter-widgets/controls",
      "_view_module_version": "1.5.0",
      "_view_name": "HTMLView",
      "description": "",
      "description_tooltip": null,
      "layout": "IPY_MODEL_12f4eb4f8e8f4b94ae694d16b5bda5e6",
      "placeholder": "​",
      "style": "IPY_MODEL_880abc36e779491ab172eae08671ab23",
      "value": " 1000/1000 [00:03&lt;00:00, 499.69it/s]"
     }
    },
    "9789c42020cf46f2a243f415ceed90d8": {
     "model_module": "@jupyter-widgets/controls",
     "model_module_version": "1.5.0",
     "model_name": "DescriptionStyleModel",
     "state": {
      "_model_module": "@jupyter-widgets/controls",
      "_model_module_version": "1.5.0",
      "_model_name": "DescriptionStyleModel",
      "_view_count": null,
      "_view_module": "@jupyter-widgets/base",
      "_view_module_version": "1.2.0",
      "_view_name": "StyleView",
      "description_width": ""
     }
    },
    "9a7a0e97d0e14cad834d2b5e00a4a283": {
     "model_module": "@jupyter-widgets/controls",
     "model_module_version": "1.5.0",
     "model_name": "DescriptionStyleModel",
     "state": {
      "_model_module": "@jupyter-widgets/controls",
      "_model_module_version": "1.5.0",
      "_model_name": "DescriptionStyleModel",
      "_view_count": null,
      "_view_module": "@jupyter-widgets/base",
      "_view_module_version": "1.2.0",
      "_view_name": "StyleView",
      "description_width": ""
     }
    },
    "9bfa4b30f16d45c8beacb20a928c3c62": {
     "model_module": "@jupyter-widgets/base",
     "model_module_version": "1.2.0",
     "model_name": "LayoutModel",
     "state": {
      "_model_module": "@jupyter-widgets/base",
      "_model_module_version": "1.2.0",
      "_model_name": "LayoutModel",
      "_view_count": null,
      "_view_module": "@jupyter-widgets/base",
      "_view_module_version": "1.2.0",
      "_view_name": "LayoutView",
      "align_content": null,
      "align_items": null,
      "align_self": null,
      "border": null,
      "bottom": null,
      "display": null,
      "flex": null,
      "flex_flow": null,
      "grid_area": null,
      "grid_auto_columns": null,
      "grid_auto_flow": null,
      "grid_auto_rows": null,
      "grid_column": null,
      "grid_gap": null,
      "grid_row": null,
      "grid_template_areas": null,
      "grid_template_columns": null,
      "grid_template_rows": null,
      "height": null,
      "justify_content": null,
      "justify_items": null,
      "left": null,
      "margin": null,
      "max_height": null,
      "max_width": null,
      "min_height": null,
      "min_width": null,
      "object_fit": null,
      "object_position": null,
      "order": null,
      "overflow": null,
      "overflow_x": null,
      "overflow_y": null,
      "padding": null,
      "right": null,
      "top": null,
      "visibility": null,
      "width": null
     }
    },
    "9c8b8e2b01dd470684254d8ef28575cd": {
     "model_module": "@jupyter-widgets/base",
     "model_module_version": "1.2.0",
     "model_name": "LayoutModel",
     "state": {
      "_model_module": "@jupyter-widgets/base",
      "_model_module_version": "1.2.0",
      "_model_name": "LayoutModel",
      "_view_count": null,
      "_view_module": "@jupyter-widgets/base",
      "_view_module_version": "1.2.0",
      "_view_name": "LayoutView",
      "align_content": null,
      "align_items": null,
      "align_self": null,
      "border": null,
      "bottom": null,
      "display": null,
      "flex": null,
      "flex_flow": null,
      "grid_area": null,
      "grid_auto_columns": null,
      "grid_auto_flow": null,
      "grid_auto_rows": null,
      "grid_column": null,
      "grid_gap": null,
      "grid_row": null,
      "grid_template_areas": null,
      "grid_template_columns": null,
      "grid_template_rows": null,
      "height": null,
      "justify_content": null,
      "justify_items": null,
      "left": null,
      "margin": null,
      "max_height": null,
      "max_width": null,
      "min_height": null,
      "min_width": null,
      "object_fit": null,
      "object_position": null,
      "order": null,
      "overflow": null,
      "overflow_x": null,
      "overflow_y": null,
      "padding": null,
      "right": null,
      "top": null,
      "visibility": null,
      "width": null
     }
    },
    "9ce073d305744ce288119f1ecf6b2e99": {
     "model_module": "@jupyter-widgets/controls",
     "model_module_version": "1.5.0",
     "model_name": "HBoxModel",
     "state": {
      "_dom_classes": [],
      "_model_module": "@jupyter-widgets/controls",
      "_model_module_version": "1.5.0",
      "_model_name": "HBoxModel",
      "_view_count": null,
      "_view_module": "@jupyter-widgets/controls",
      "_view_module_version": "1.5.0",
      "_view_name": "HBoxView",
      "box_style": "",
      "children": [
       "IPY_MODEL_6f6b7793d5184b2bb189deb5b954eadf",
       "IPY_MODEL_174935de1ad94d0bba860868deb92bd6",
       "IPY_MODEL_11bc327c8a83425ea1c4bfade713f64b"
      ],
      "layout": "IPY_MODEL_7f3987f3319e4cf3b503e01cea179272"
     }
    },
    "9d04e40597264b13b691bfd321b14a9e": {
     "model_module": "@jupyter-widgets/controls",
     "model_module_version": "1.5.0",
     "model_name": "HTMLModel",
     "state": {
      "_dom_classes": [],
      "_model_module": "@jupyter-widgets/controls",
      "_model_module_version": "1.5.0",
      "_model_name": "HTMLModel",
      "_view_count": null,
      "_view_module": "@jupyter-widgets/controls",
      "_view_module_version": "1.5.0",
      "_view_name": "HTMLView",
      "description": "",
      "description_tooltip": null,
      "layout": "IPY_MODEL_0a679964331940559b556639d342efb4",
      "placeholder": "​",
      "style": "IPY_MODEL_0a0cb0c7670245b18e3c605aa4b93a3d",
      "value": " 20000/20000 [00:15&lt;00:00, 1436.52it/s]"
     }
    },
    "9deebe7f43764902b402fa83e89166a9": {
     "model_module": "@jupyter-widgets/controls",
     "model_module_version": "1.5.0",
     "model_name": "ProgressStyleModel",
     "state": {
      "_model_module": "@jupyter-widgets/controls",
      "_model_module_version": "1.5.0",
      "_model_name": "ProgressStyleModel",
      "_view_count": null,
      "_view_module": "@jupyter-widgets/base",
      "_view_module_version": "1.2.0",
      "_view_name": "StyleView",
      "bar_color": null,
      "description_width": ""
     }
    },
    "9e32d1c9c5b847f2969f98cae83d0627": {
     "model_module": "@jupyter-widgets/controls",
     "model_module_version": "1.5.0",
     "model_name": "HTMLModel",
     "state": {
      "_dom_classes": [],
      "_model_module": "@jupyter-widgets/controls",
      "_model_module_version": "1.5.0",
      "_model_name": "HTMLModel",
      "_view_count": null,
      "_view_module": "@jupyter-widgets/controls",
      "_view_module_version": "1.5.0",
      "_view_name": "HTMLView",
      "description": "",
      "description_tooltip": null,
      "layout": "IPY_MODEL_071893e4287a4242be01418a56a50bd0",
      "placeholder": "​",
      "style": "IPY_MODEL_f52e1c885685421fa75bf6973e7ef963",
      "value": "100%"
     }
    },
    "a061109c422242b482c9ca1c6adda43e": {
     "model_module": "@jupyter-widgets/base",
     "model_module_version": "1.2.0",
     "model_name": "LayoutModel",
     "state": {
      "_model_module": "@jupyter-widgets/base",
      "_model_module_version": "1.2.0",
      "_model_name": "LayoutModel",
      "_view_count": null,
      "_view_module": "@jupyter-widgets/base",
      "_view_module_version": "1.2.0",
      "_view_name": "LayoutView",
      "align_content": null,
      "align_items": null,
      "align_self": null,
      "border": null,
      "bottom": null,
      "display": null,
      "flex": null,
      "flex_flow": null,
      "grid_area": null,
      "grid_auto_columns": null,
      "grid_auto_flow": null,
      "grid_auto_rows": null,
      "grid_column": null,
      "grid_gap": null,
      "grid_row": null,
      "grid_template_areas": null,
      "grid_template_columns": null,
      "grid_template_rows": null,
      "height": null,
      "justify_content": null,
      "justify_items": null,
      "left": null,
      "margin": null,
      "max_height": null,
      "max_width": null,
      "min_height": null,
      "min_width": null,
      "object_fit": null,
      "object_position": null,
      "order": null,
      "overflow": null,
      "overflow_x": null,
      "overflow_y": null,
      "padding": null,
      "right": null,
      "top": null,
      "visibility": null,
      "width": null
     }
    },
    "a119e3be0e0d4028abaf774bd21e0990": {
     "model_module": "@jupyter-widgets/controls",
     "model_module_version": "1.5.0",
     "model_name": "DescriptionStyleModel",
     "state": {
      "_model_module": "@jupyter-widgets/controls",
      "_model_module_version": "1.5.0",
      "_model_name": "DescriptionStyleModel",
      "_view_count": null,
      "_view_module": "@jupyter-widgets/base",
      "_view_module_version": "1.2.0",
      "_view_name": "StyleView",
      "description_width": ""
     }
    },
    "a193ef2cc0e44eedadc1f6c8db1125fe": {
     "model_module": "@jupyter-widgets/base",
     "model_module_version": "1.2.0",
     "model_name": "LayoutModel",
     "state": {
      "_model_module": "@jupyter-widgets/base",
      "_model_module_version": "1.2.0",
      "_model_name": "LayoutModel",
      "_view_count": null,
      "_view_module": "@jupyter-widgets/base",
      "_view_module_version": "1.2.0",
      "_view_name": "LayoutView",
      "align_content": null,
      "align_items": null,
      "align_self": null,
      "border": null,
      "bottom": null,
      "display": null,
      "flex": null,
      "flex_flow": null,
      "grid_area": null,
      "grid_auto_columns": null,
      "grid_auto_flow": null,
      "grid_auto_rows": null,
      "grid_column": null,
      "grid_gap": null,
      "grid_row": null,
      "grid_template_areas": null,
      "grid_template_columns": null,
      "grid_template_rows": null,
      "height": null,
      "justify_content": null,
      "justify_items": null,
      "left": null,
      "margin": null,
      "max_height": null,
      "max_width": null,
      "min_height": null,
      "min_width": null,
      "object_fit": null,
      "object_position": null,
      "order": null,
      "overflow": null,
      "overflow_x": null,
      "overflow_y": null,
      "padding": null,
      "right": null,
      "top": null,
      "visibility": null,
      "width": null
     }
    },
    "a99166f4d974406485a8968292646ced": {
     "model_module": "@jupyter-widgets/controls",
     "model_module_version": "1.5.0",
     "model_name": "DescriptionStyleModel",
     "state": {
      "_model_module": "@jupyter-widgets/controls",
      "_model_module_version": "1.5.0",
      "_model_name": "DescriptionStyleModel",
      "_view_count": null,
      "_view_module": "@jupyter-widgets/base",
      "_view_module_version": "1.2.0",
      "_view_name": "StyleView",
      "description_width": ""
     }
    },
    "b2dd020d07b8440797475a312d6084b7": {
     "model_module": "@jupyter-widgets/controls",
     "model_module_version": "1.5.0",
     "model_name": "HBoxModel",
     "state": {
      "_dom_classes": [],
      "_model_module": "@jupyter-widgets/controls",
      "_model_module_version": "1.5.0",
      "_model_name": "HBoxModel",
      "_view_count": null,
      "_view_module": "@jupyter-widgets/controls",
      "_view_module_version": "1.5.0",
      "_view_name": "HBoxView",
      "box_style": "",
      "children": [
       "IPY_MODEL_3838588b1a3946d4aeae621955c194d8",
       "IPY_MODEL_0d505b6e3d5d4d3ab97b3a480bb9d542",
       "IPY_MODEL_cc72efeaa9764388a8fa203d96179bb4"
      ],
      "layout": "IPY_MODEL_7197fbeefee344a18b3a5c6be1fd2980"
     }
    },
    "b64c5c72d8e9494f827e85daf06b333a": {
     "model_module": "@jupyter-widgets/base",
     "model_module_version": "1.2.0",
     "model_name": "LayoutModel",
     "state": {
      "_model_module": "@jupyter-widgets/base",
      "_model_module_version": "1.2.0",
      "_model_name": "LayoutModel",
      "_view_count": null,
      "_view_module": "@jupyter-widgets/base",
      "_view_module_version": "1.2.0",
      "_view_name": "LayoutView",
      "align_content": null,
      "align_items": null,
      "align_self": null,
      "border": null,
      "bottom": null,
      "display": null,
      "flex": null,
      "flex_flow": null,
      "grid_area": null,
      "grid_auto_columns": null,
      "grid_auto_flow": null,
      "grid_auto_rows": null,
      "grid_column": null,
      "grid_gap": null,
      "grid_row": null,
      "grid_template_areas": null,
      "grid_template_columns": null,
      "grid_template_rows": null,
      "height": null,
      "justify_content": null,
      "justify_items": null,
      "left": null,
      "margin": null,
      "max_height": null,
      "max_width": null,
      "min_height": null,
      "min_width": null,
      "object_fit": null,
      "object_position": null,
      "order": null,
      "overflow": null,
      "overflow_x": null,
      "overflow_y": null,
      "padding": null,
      "right": null,
      "top": null,
      "visibility": null,
      "width": null
     }
    },
    "c26f270dbb6a48028200d67267fd669a": {
     "model_module": "@jupyter-widgets/controls",
     "model_module_version": "1.5.0",
     "model_name": "HTMLModel",
     "state": {
      "_dom_classes": [],
      "_model_module": "@jupyter-widgets/controls",
      "_model_module_version": "1.5.0",
      "_model_name": "HTMLModel",
      "_view_count": null,
      "_view_module": "@jupyter-widgets/controls",
      "_view_module_version": "1.5.0",
      "_view_name": "HTMLView",
      "description": "",
      "description_tooltip": null,
      "layout": "IPY_MODEL_39f7a74880f14cd1b940ab3ef30d37d7",
      "placeholder": "​",
      "style": "IPY_MODEL_f32eb2362b5848738c4aecd4c42aacda",
      "value": "100%"
     }
    },
    "c3121fc383d149ac8a29a616e461293c": {
     "model_module": "@jupyter-widgets/base",
     "model_module_version": "1.2.0",
     "model_name": "LayoutModel",
     "state": {
      "_model_module": "@jupyter-widgets/base",
      "_model_module_version": "1.2.0",
      "_model_name": "LayoutModel",
      "_view_count": null,
      "_view_module": "@jupyter-widgets/base",
      "_view_module_version": "1.2.0",
      "_view_name": "LayoutView",
      "align_content": null,
      "align_items": null,
      "align_self": null,
      "border": null,
      "bottom": null,
      "display": null,
      "flex": null,
      "flex_flow": null,
      "grid_area": null,
      "grid_auto_columns": null,
      "grid_auto_flow": null,
      "grid_auto_rows": null,
      "grid_column": null,
      "grid_gap": null,
      "grid_row": null,
      "grid_template_areas": null,
      "grid_template_columns": null,
      "grid_template_rows": null,
      "height": null,
      "justify_content": null,
      "justify_items": null,
      "left": null,
      "margin": null,
      "max_height": null,
      "max_width": null,
      "min_height": null,
      "min_width": null,
      "object_fit": null,
      "object_position": null,
      "order": null,
      "overflow": null,
      "overflow_x": null,
      "overflow_y": null,
      "padding": null,
      "right": null,
      "top": null,
      "visibility": null,
      "width": null
     }
    },
    "c4110e59cb7540399d23ab2452391ddf": {
     "model_module": "@jupyter-widgets/controls",
     "model_module_version": "1.5.0",
     "model_name": "ProgressStyleModel",
     "state": {
      "_model_module": "@jupyter-widgets/controls",
      "_model_module_version": "1.5.0",
      "_model_name": "ProgressStyleModel",
      "_view_count": null,
      "_view_module": "@jupyter-widgets/base",
      "_view_module_version": "1.2.0",
      "_view_name": "StyleView",
      "bar_color": null,
      "description_width": ""
     }
    },
    "c741e1213fba425db119c7bc2775e015": {
     "model_module": "@jupyter-widgets/base",
     "model_module_version": "1.2.0",
     "model_name": "LayoutModel",
     "state": {
      "_model_module": "@jupyter-widgets/base",
      "_model_module_version": "1.2.0",
      "_model_name": "LayoutModel",
      "_view_count": null,
      "_view_module": "@jupyter-widgets/base",
      "_view_module_version": "1.2.0",
      "_view_name": "LayoutView",
      "align_content": null,
      "align_items": null,
      "align_self": null,
      "border": null,
      "bottom": null,
      "display": null,
      "flex": null,
      "flex_flow": null,
      "grid_area": null,
      "grid_auto_columns": null,
      "grid_auto_flow": null,
      "grid_auto_rows": null,
      "grid_column": null,
      "grid_gap": null,
      "grid_row": null,
      "grid_template_areas": null,
      "grid_template_columns": null,
      "grid_template_rows": null,
      "height": null,
      "justify_content": null,
      "justify_items": null,
      "left": null,
      "margin": null,
      "max_height": null,
      "max_width": null,
      "min_height": null,
      "min_width": null,
      "object_fit": null,
      "object_position": null,
      "order": null,
      "overflow": null,
      "overflow_x": null,
      "overflow_y": null,
      "padding": null,
      "right": null,
      "top": null,
      "visibility": null,
      "width": null
     }
    },
    "cba50ec747f8406eb8fd2ac3c947e153": {
     "model_module": "@jupyter-widgets/controls",
     "model_module_version": "1.5.0",
     "model_name": "DescriptionStyleModel",
     "state": {
      "_model_module": "@jupyter-widgets/controls",
      "_model_module_version": "1.5.0",
      "_model_name": "DescriptionStyleModel",
      "_view_count": null,
      "_view_module": "@jupyter-widgets/base",
      "_view_module_version": "1.2.0",
      "_view_name": "StyleView",
      "description_width": ""
     }
    },
    "cbd3e3f9947b4a60a91ab8dc18c180af": {
     "model_module": "@jupyter-widgets/base",
     "model_module_version": "1.2.0",
     "model_name": "LayoutModel",
     "state": {
      "_model_module": "@jupyter-widgets/base",
      "_model_module_version": "1.2.0",
      "_model_name": "LayoutModel",
      "_view_count": null,
      "_view_module": "@jupyter-widgets/base",
      "_view_module_version": "1.2.0",
      "_view_name": "LayoutView",
      "align_content": null,
      "align_items": null,
      "align_self": null,
      "border": null,
      "bottom": null,
      "display": null,
      "flex": null,
      "flex_flow": null,
      "grid_area": null,
      "grid_auto_columns": null,
      "grid_auto_flow": null,
      "grid_auto_rows": null,
      "grid_column": null,
      "grid_gap": null,
      "grid_row": null,
      "grid_template_areas": null,
      "grid_template_columns": null,
      "grid_template_rows": null,
      "height": null,
      "justify_content": null,
      "justify_items": null,
      "left": null,
      "margin": null,
      "max_height": null,
      "max_width": null,
      "min_height": null,
      "min_width": null,
      "object_fit": null,
      "object_position": null,
      "order": null,
      "overflow": null,
      "overflow_x": null,
      "overflow_y": null,
      "padding": null,
      "right": null,
      "top": null,
      "visibility": null,
      "width": null
     }
    },
    "cc72efeaa9764388a8fa203d96179bb4": {
     "model_module": "@jupyter-widgets/controls",
     "model_module_version": "1.5.0",
     "model_name": "HTMLModel",
     "state": {
      "_dom_classes": [],
      "_model_module": "@jupyter-widgets/controls",
      "_model_module_version": "1.5.0",
      "_model_name": "HTMLModel",
      "_view_count": null,
      "_view_module": "@jupyter-widgets/controls",
      "_view_module_version": "1.5.0",
      "_view_name": "HTMLView",
      "description": "",
      "description_tooltip": null,
      "layout": "IPY_MODEL_94393e85c22042d2a7ece58d02c71e87",
      "placeholder": "​",
      "style": "IPY_MODEL_cf5b60e78f5649718938b322e8689549",
      "value": " 1000/1000 [00:04&lt;00:00, 309.58it/s]"
     }
    },
    "cf5b60e78f5649718938b322e8689549": {
     "model_module": "@jupyter-widgets/controls",
     "model_module_version": "1.5.0",
     "model_name": "DescriptionStyleModel",
     "state": {
      "_model_module": "@jupyter-widgets/controls",
      "_model_module_version": "1.5.0",
      "_model_name": "DescriptionStyleModel",
      "_view_count": null,
      "_view_module": "@jupyter-widgets/base",
      "_view_module_version": "1.2.0",
      "_view_name": "StyleView",
      "description_width": ""
     }
    },
    "dd33847530ac48b899eb5b4f36e21257": {
     "model_module": "@jupyter-widgets/base",
     "model_module_version": "1.2.0",
     "model_name": "LayoutModel",
     "state": {
      "_model_module": "@jupyter-widgets/base",
      "_model_module_version": "1.2.0",
      "_model_name": "LayoutModel",
      "_view_count": null,
      "_view_module": "@jupyter-widgets/base",
      "_view_module_version": "1.2.0",
      "_view_name": "LayoutView",
      "align_content": null,
      "align_items": null,
      "align_self": null,
      "border": null,
      "bottom": null,
      "display": null,
      "flex": null,
      "flex_flow": null,
      "grid_area": null,
      "grid_auto_columns": null,
      "grid_auto_flow": null,
      "grid_auto_rows": null,
      "grid_column": null,
      "grid_gap": null,
      "grid_row": null,
      "grid_template_areas": null,
      "grid_template_columns": null,
      "grid_template_rows": null,
      "height": null,
      "justify_content": null,
      "justify_items": null,
      "left": null,
      "margin": null,
      "max_height": null,
      "max_width": null,
      "min_height": null,
      "min_width": null,
      "object_fit": null,
      "object_position": null,
      "order": null,
      "overflow": null,
      "overflow_x": null,
      "overflow_y": null,
      "padding": null,
      "right": null,
      "top": null,
      "visibility": null,
      "width": null
     }
    },
    "dd4d411a00b44604b78638712b39a89b": {
     "model_module": "@jupyter-widgets/controls",
     "model_module_version": "1.5.0",
     "model_name": "HTMLModel",
     "state": {
      "_dom_classes": [],
      "_model_module": "@jupyter-widgets/controls",
      "_model_module_version": "1.5.0",
      "_model_name": "HTMLModel",
      "_view_count": null,
      "_view_module": "@jupyter-widgets/controls",
      "_view_module_version": "1.5.0",
      "_view_name": "HTMLView",
      "description": "",
      "description_tooltip": null,
      "layout": "IPY_MODEL_cbd3e3f9947b4a60a91ab8dc18c180af",
      "placeholder": "​",
      "style": "IPY_MODEL_9a7a0e97d0e14cad834d2b5e00a4a283",
      "value": "100%"
     }
    },
    "de6d01b98a294eb68b9190dc1e89857d": {
     "model_module": "@jupyter-widgets/base",
     "model_module_version": "1.2.0",
     "model_name": "LayoutModel",
     "state": {
      "_model_module": "@jupyter-widgets/base",
      "_model_module_version": "1.2.0",
      "_model_name": "LayoutModel",
      "_view_count": null,
      "_view_module": "@jupyter-widgets/base",
      "_view_module_version": "1.2.0",
      "_view_name": "LayoutView",
      "align_content": null,
      "align_items": null,
      "align_self": null,
      "border": null,
      "bottom": null,
      "display": null,
      "flex": null,
      "flex_flow": null,
      "grid_area": null,
      "grid_auto_columns": null,
      "grid_auto_flow": null,
      "grid_auto_rows": null,
      "grid_column": null,
      "grid_gap": null,
      "grid_row": null,
      "grid_template_areas": null,
      "grid_template_columns": null,
      "grid_template_rows": null,
      "height": null,
      "justify_content": null,
      "justify_items": null,
      "left": null,
      "margin": null,
      "max_height": null,
      "max_width": null,
      "min_height": null,
      "min_width": null,
      "object_fit": null,
      "object_position": null,
      "order": null,
      "overflow": null,
      "overflow_x": null,
      "overflow_y": null,
      "padding": null,
      "right": null,
      "top": null,
      "visibility": null,
      "width": null
     }
    },
    "de8fe75fa6a94fc09f3940ba292a7631": {
     "model_module": "@jupyter-widgets/controls",
     "model_module_version": "1.5.0",
     "model_name": "FloatProgressModel",
     "state": {
      "_dom_classes": [],
      "_model_module": "@jupyter-widgets/controls",
      "_model_module_version": "1.5.0",
      "_model_name": "FloatProgressModel",
      "_view_count": null,
      "_view_module": "@jupyter-widgets/controls",
      "_view_module_version": "1.5.0",
      "_view_name": "ProgressView",
      "bar_style": "success",
      "description": "",
      "description_tooltip": null,
      "layout": "IPY_MODEL_ed2a2f1227614a959a911ddcd11b7f46",
      "max": 20000,
      "min": 0,
      "orientation": "horizontal",
      "style": "IPY_MODEL_c4110e59cb7540399d23ab2452391ddf",
      "value": 20000
     }
    },
    "ecdab79eff7f4ab4bba814f526410390": {
     "model_module": "@jupyter-widgets/controls",
     "model_module_version": "1.5.0",
     "model_name": "HTMLModel",
     "state": {
      "_dom_classes": [],
      "_model_module": "@jupyter-widgets/controls",
      "_model_module_version": "1.5.0",
      "_model_name": "HTMLModel",
      "_view_count": null,
      "_view_module": "@jupyter-widgets/controls",
      "_view_module_version": "1.5.0",
      "_view_name": "HTMLView",
      "description": "",
      "description_tooltip": null,
      "layout": "IPY_MODEL_6f7d028701904fbead3715662e658825",
      "placeholder": "​",
      "style": "IPY_MODEL_a99166f4d974406485a8968292646ced",
      "value": " 20000/20000 [00:26&lt;00:00, 371.94it/s]"
     }
    },
    "ed2a2f1227614a959a911ddcd11b7f46": {
     "model_module": "@jupyter-widgets/base",
     "model_module_version": "1.2.0",
     "model_name": "LayoutModel",
     "state": {
      "_model_module": "@jupyter-widgets/base",
      "_model_module_version": "1.2.0",
      "_model_name": "LayoutModel",
      "_view_count": null,
      "_view_module": "@jupyter-widgets/base",
      "_view_module_version": "1.2.0",
      "_view_name": "LayoutView",
      "align_content": null,
      "align_items": null,
      "align_self": null,
      "border": null,
      "bottom": null,
      "display": null,
      "flex": null,
      "flex_flow": null,
      "grid_area": null,
      "grid_auto_columns": null,
      "grid_auto_flow": null,
      "grid_auto_rows": null,
      "grid_column": null,
      "grid_gap": null,
      "grid_row": null,
      "grid_template_areas": null,
      "grid_template_columns": null,
      "grid_template_rows": null,
      "height": null,
      "justify_content": null,
      "justify_items": null,
      "left": null,
      "margin": null,
      "max_height": null,
      "max_width": null,
      "min_height": null,
      "min_width": null,
      "object_fit": null,
      "object_position": null,
      "order": null,
      "overflow": null,
      "overflow_x": null,
      "overflow_y": null,
      "padding": null,
      "right": null,
      "top": null,
      "visibility": null,
      "width": null
     }
    },
    "ef15436ab85c4d1590b0c78f2739e39d": {
     "model_module": "@jupyter-widgets/controls",
     "model_module_version": "1.5.0",
     "model_name": "FloatProgressModel",
     "state": {
      "_dom_classes": [],
      "_model_module": "@jupyter-widgets/controls",
      "_model_module_version": "1.5.0",
      "_model_name": "FloatProgressModel",
      "_view_count": null,
      "_view_module": "@jupyter-widgets/controls",
      "_view_module_version": "1.5.0",
      "_view_name": "ProgressView",
      "bar_style": "success",
      "description": "",
      "description_tooltip": null,
      "layout": "IPY_MODEL_4a1409037ca1403b91129d9999d74bf7",
      "max": 1000,
      "min": 0,
      "orientation": "horizontal",
      "style": "IPY_MODEL_7ccd4fcde75b4f10a00a5345fa4b54a3",
      "value": 1000
     }
    },
    "f32eb2362b5848738c4aecd4c42aacda": {
     "model_module": "@jupyter-widgets/controls",
     "model_module_version": "1.5.0",
     "model_name": "DescriptionStyleModel",
     "state": {
      "_model_module": "@jupyter-widgets/controls",
      "_model_module_version": "1.5.0",
      "_model_name": "DescriptionStyleModel",
      "_view_count": null,
      "_view_module": "@jupyter-widgets/base",
      "_view_module_version": "1.2.0",
      "_view_name": "StyleView",
      "description_width": ""
     }
    },
    "f3bc4ed22dac446895b574920ae4a785": {
     "model_module": "@jupyter-widgets/controls",
     "model_module_version": "1.5.0",
     "model_name": "ProgressStyleModel",
     "state": {
      "_model_module": "@jupyter-widgets/controls",
      "_model_module_version": "1.5.0",
      "_model_name": "ProgressStyleModel",
      "_view_count": null,
      "_view_module": "@jupyter-widgets/base",
      "_view_module_version": "1.2.0",
      "_view_name": "StyleView",
      "bar_color": null,
      "description_width": ""
     }
    },
    "f52e1c885685421fa75bf6973e7ef963": {
     "model_module": "@jupyter-widgets/controls",
     "model_module_version": "1.5.0",
     "model_name": "DescriptionStyleModel",
     "state": {
      "_model_module": "@jupyter-widgets/controls",
      "_model_module_version": "1.5.0",
      "_model_name": "DescriptionStyleModel",
      "_view_count": null,
      "_view_module": "@jupyter-widgets/base",
      "_view_module_version": "1.2.0",
      "_view_name": "StyleView",
      "description_width": ""
     }
    },
    "f5a4e3cab0fc40748254f4ffbcee8007": {
     "model_module": "@jupyter-widgets/base",
     "model_module_version": "1.2.0",
     "model_name": "LayoutModel",
     "state": {
      "_model_module": "@jupyter-widgets/base",
      "_model_module_version": "1.2.0",
      "_model_name": "LayoutModel",
      "_view_count": null,
      "_view_module": "@jupyter-widgets/base",
      "_view_module_version": "1.2.0",
      "_view_name": "LayoutView",
      "align_content": null,
      "align_items": null,
      "align_self": null,
      "border": null,
      "bottom": null,
      "display": null,
      "flex": null,
      "flex_flow": null,
      "grid_area": null,
      "grid_auto_columns": null,
      "grid_auto_flow": null,
      "grid_auto_rows": null,
      "grid_column": null,
      "grid_gap": null,
      "grid_row": null,
      "grid_template_areas": null,
      "grid_template_columns": null,
      "grid_template_rows": null,
      "height": null,
      "justify_content": null,
      "justify_items": null,
      "left": null,
      "margin": null,
      "max_height": null,
      "max_width": null,
      "min_height": null,
      "min_width": null,
      "object_fit": null,
      "object_position": null,
      "order": null,
      "overflow": null,
      "overflow_x": null,
      "overflow_y": null,
      "padding": null,
      "right": null,
      "top": null,
      "visibility": null,
      "width": null
     }
    },
    "fe2388bd5d5144b5a7dfa1d70193d1ad": {
     "model_module": "@jupyter-widgets/base",
     "model_module_version": "1.2.0",
     "model_name": "LayoutModel",
     "state": {
      "_model_module": "@jupyter-widgets/base",
      "_model_module_version": "1.2.0",
      "_model_name": "LayoutModel",
      "_view_count": null,
      "_view_module": "@jupyter-widgets/base",
      "_view_module_version": "1.2.0",
      "_view_name": "LayoutView",
      "align_content": null,
      "align_items": null,
      "align_self": null,
      "border": null,
      "bottom": null,
      "display": null,
      "flex": null,
      "flex_flow": null,
      "grid_area": null,
      "grid_auto_columns": null,
      "grid_auto_flow": null,
      "grid_auto_rows": null,
      "grid_column": null,
      "grid_gap": null,
      "grid_row": null,
      "grid_template_areas": null,
      "grid_template_columns": null,
      "grid_template_rows": null,
      "height": null,
      "justify_content": null,
      "justify_items": null,
      "left": null,
      "margin": null,
      "max_height": null,
      "max_width": null,
      "min_height": null,
      "min_width": null,
      "object_fit": null,
      "object_position": null,
      "order": null,
      "overflow": null,
      "overflow_x": null,
      "overflow_y": null,
      "padding": null,
      "right": null,
      "top": null,
      "visibility": null,
      "width": null
     }
    }
   }
  }
 },
 "nbformat": 4,
 "nbformat_minor": 1
}
